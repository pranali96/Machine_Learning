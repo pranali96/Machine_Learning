{
 "cells": [
  {
   "cell_type": "code",
   "execution_count": 14,
   "metadata": {},
   "outputs": [],
   "source": [
    "class User_profile:\n",
    "    \"\"\"\n",
    "    Common base class for all employees\n",
    "    empCount: is an Class variable Shared with all objects\n",
    "    name : is an instance variable to storage name of employee\n",
    "    salary: is an instance variable to storage salary of employee\n",
    "    \"\"\"\n",
    "    user_count = 0 # class variable\n",
    "    def __init__(self):\n",
    "        print(\"In User_profile Constructor\")\n",
    "        self.name = \"\"        #instance variable\n",
    "        self.emailId = \"\"    #instance variable\n",
    "        self.__hidden=0 # hidden variable\n",
    "       \n",
    "        #User_profile.user_count += 1  #class variable\n",
    "        #User_profile.x=90 # another class variable\n",
    "   \n",
    "    def __init__(self, name, emailId):\n",
    "        print(\"In User_profile Constructor\")\n",
    "        self.name = name        #instance variable\n",
    "        self.emailId = emailId    #instance variable\n",
    "        self.__hidden=0 # hidden variable\n",
    "       \n",
    "        User_profile.user_count += 1  #class variable\n",
    "        User_profile.x=90 # another class variable\n",
    "    def InputUser(self):# Instance method\n",
    "        self.name = input(\"Name : \")\n",
    "        self.emailId = input(\"Mail: \")\n",
    "    \n",
    "    def displayUser(self):# Instance method\n",
    "        print(\"Name : \", self.name,\", Mail: \", self.emailId)\n",
    "    def displayUserNumber():# Instance method\n",
    "        print(\"User number : %d\"% User_profile.user_count)\n",
    "    "
   ]
  },
  {
   "cell_type": "code",
   "execution_count": 15,
   "metadata": {},
   "outputs": [
    {
     "name": "stdout",
     "output_type": "stream",
     "text": [
      "<function User_profile.__init__ at 0x0000029ECEFB6820>\n",
      "In User_profile Constructor\n",
      "In User_profile Constructor\n",
      "Name :  Zara , Mail:  Zara@123.com\n",
      "User number : 2\n"
     ]
    }
   ],
   "source": [
    "print(User_profile.__init__)\n",
    "user1 = User_profile(\"Zara\", \"Zara@123.com\") # Employee.__init__(self,\"Zara\", 2000)\n",
    "#This would create second object of Employee class\"\n",
    "user2 = User_profile(\"Manni\", \"manni@gmail.com\")\n",
    "user1.displayUser()#implicit call-->Employee.displayEmployee(emp1)\n",
    "User_profile.displayUserNumber()\n"
   ]
  },
  {
   "cell_type": "code",
   "execution_count": 16,
   "metadata": {},
   "outputs": [
    {
     "name": "stdout",
     "output_type": "stream",
     "text": [
      "<function User_profile.__init__ at 0x0000029ECEFB6820>\n"
     ]
    },
    {
     "ename": "TypeError",
     "evalue": "__init__() missing 2 required positional arguments: 'name' and 'emailId'",
     "output_type": "error",
     "traceback": [
      "\u001b[1;31m---------------------------------------------------------------------------\u001b[0m",
      "\u001b[1;31mTypeError\u001b[0m                                 Traceback (most recent call last)",
      "\u001b[1;32m<ipython-input-16-1c4af623ebef>\u001b[0m in \u001b[0;36m<module>\u001b[1;34m\u001b[0m\n\u001b[0;32m      1\u001b[0m \u001b[0mprint\u001b[0m\u001b[1;33m(\u001b[0m\u001b[0mUser_profile\u001b[0m\u001b[1;33m.\u001b[0m\u001b[0m__init__\u001b[0m\u001b[1;33m)\u001b[0m\u001b[1;33m\u001b[0m\u001b[1;33m\u001b[0m\u001b[0m\n\u001b[1;32m----> 2\u001b[1;33m \u001b[0muser1\u001b[0m\u001b[1;33m=\u001b[0m \u001b[0mUser_profile\u001b[0m\u001b[1;33m(\u001b[0m\u001b[1;33m)\u001b[0m\u001b[1;33m\u001b[0m\u001b[1;33m\u001b[0m\u001b[0m\n\u001b[0m",
      "\u001b[1;31mTypeError\u001b[0m: __init__() missing 2 required positional arguments: 'name' and 'emailId'"
     ]
    }
   ],
   "source": [
    "print(User_profile.__init__)\n",
    "user1= User_profile()"
   ]
  },
  {
   "cell_type": "code",
   "execution_count": null,
   "metadata": {},
   "outputs": [],
   "source": []
  }
 ],
 "metadata": {
  "kernelspec": {
   "display_name": "Python 3",
   "language": "python",
   "name": "python3"
  },
  "language_info": {
   "codemirror_mode": {
    "name": "ipython",
    "version": 3
   },
   "file_extension": ".py",
   "mimetype": "text/x-python",
   "name": "python",
   "nbconvert_exporter": "python",
   "pygments_lexer": "ipython3",
   "version": "3.8.3"
  }
 },
 "nbformat": 4,
 "nbformat_minor": 4
}
