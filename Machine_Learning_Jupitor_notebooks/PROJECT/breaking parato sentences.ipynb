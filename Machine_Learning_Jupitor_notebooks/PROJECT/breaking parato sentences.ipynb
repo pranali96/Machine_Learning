{
 "cells": [
  {
   "cell_type": "code",
   "execution_count": 1,
   "metadata": {},
   "outputs": [],
   "source": [
    "import nltk"
   ]
  },
  {
   "cell_type": "code",
   "execution_count": null,
   "metadata": {},
   "outputs": [],
   "source": []
  },
  {
   "cell_type": "code",
   "execution_count": 2,
   "metadata": {},
   "outputs": [
    {
     "name": "stdout",
     "output_type": "stream",
     "text": [
      "622\n"
     ]
    }
   ],
   "source": [
    "a = \"I have a relevant experience of 6 months in the IT Industry in Salesforce Technology, with exposure to Salesforce Administration, Salesforce App Building, Lightning Experience, development using Apex and LWC. I have 5+ years of professional experience. I started my career in the field of Telecommunication, then I worked in Government sector as an Assistant Engineer/Manager in M.P. State Government Distribution Company (MPMKVVCL), where my role was to manage operations, revenue, and administration of an areaâ€™s electricity distribution. Currently, I am working as an Associate Software Engineer in Pratham Software. \"\n",
    "print(len(a))"
   ]
  },
  {
   "cell_type": "code",
   "execution_count": 3,
   "metadata": {},
   "outputs": [
    {
     "name": "stdout",
     "output_type": "stream",
     "text": [
      "916\n"
     ]
    }
   ],
   "source": [
    "b=\"I am Bharati Sunil Sagar .I am a Energetic.I want to need  brushup of my knowledge and I got good feedback from friends as well as Cdac Site so I joined CDAC I wanted  to do  Cdac after  my BE ,because of some family issue I don't but after marriage, My husband supports me on my decision and help me to achieve my goals I think these is my accomplishment for me. I am Passionate, self-motivated,quick learner,adapted to any environment. I like knowledge because I like learning  people around me. My motivation  is my father ,He is a very humble, intelligent, hardworker, kind hearted man which  always motivates me . I  have developed my skills in C++,ds ,java ,database. I am  looking  for the best version of me which helps for  better organization as well as enhancing my knowledge. While  In free time I like gardening and specially  I like to cook various   dishes and attracted to baking. Whenever I got time\"\n",
    "print(len(b))"
   ]
  },
  {
   "cell_type": "code",
   "execution_count": null,
   "metadata": {},
   "outputs": [],
   "source": []
  },
  {
   "cell_type": "code",
   "execution_count": 4,
   "metadata": {},
   "outputs": [],
   "source": [
    "a_list = nltk.tokenize.sent_tokenize(a)"
   ]
  },
  {
   "cell_type": "code",
   "execution_count": 5,
   "metadata": {},
   "outputs": [
    {
     "name": "stdout",
     "output_type": "stream",
     "text": [
      "['I have a relevant experience of 6 months in the IT Industry in Salesforce Technology, with exposure to Salesforce Administration, Salesforce App Building, Lightning Experience, development using Apex and LWC.', 'I have 5+ years of professional experience.', 'I started my career in the field of Telecommunication, then I worked in Government sector as an Assistant Engineer/Manager in M.P.', 'State Government Distribution Company (MPMKVVCL), where my role was to manage operations, revenue, and administration of an areaâ€™s electricity distribution.', 'Currently, I am working as an Associate Software Engineer in Pratham Software.']\n"
     ]
    }
   ],
   "source": [
    "print(a_list)"
   ]
  },
  {
   "cell_type": "code",
   "execution_count": 6,
   "metadata": {},
   "outputs": [
    {
     "name": "stdout",
     "output_type": "stream",
     "text": [
      "---->   I have a relevant experience of 6 months in the IT Industry in Salesforce Technology, with exposure to Salesforce Administration, Salesforce App Building, Lightning Experience, development using Apex and LWC.\n",
      "---->   I have 5+ years of professional experience.\n",
      "---->   I started my career in the field of Telecommunication, then I worked in Government sector as an Assistant Engineer/Manager in M.P.\n",
      "---->   State Government Distribution Company (MPMKVVCL), where my role was to manage operations, revenue, and administration of an areaâ€™s electricity distribution.\n",
      "---->   Currently, I am working as an Associate Software Engineer in Pratham Software.\n"
     ]
    }
   ],
   "source": [
    "for sen in a_list:\n",
    "    print(\"---->  \",sen)\n"
   ]
  },
  {
   "cell_type": "code",
   "execution_count": null,
   "metadata": {},
   "outputs": [],
   "source": []
  }
 ],
 "metadata": {
  "kernelspec": {
   "display_name": "Python 3",
   "language": "python",
   "name": "python3"
  },
  "language_info": {
   "codemirror_mode": {
    "name": "ipython",
    "version": 3
   },
   "file_extension": ".py",
   "mimetype": "text/x-python",
   "name": "python",
   "nbconvert_exporter": "python",
   "pygments_lexer": "ipython3",
   "version": "3.8.3"
  }
 },
 "nbformat": 4,
 "nbformat_minor": 4
}
