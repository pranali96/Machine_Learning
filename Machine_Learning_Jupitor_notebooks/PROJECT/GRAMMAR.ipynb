{
 "cells": [
  {
   "cell_type": "code",
   "execution_count": 35,
   "metadata": {},
   "outputs": [
    {
     "name": "stdout",
     "output_type": "stream",
     "text": [
      "Note: you may need to restart the kernel to use updated packages.\n"
     ]
    },
    {
     "name": "stderr",
     "output_type": "stream",
     "text": [
      "ERROR: Could not find a version that satisfies the requirement grammar-check (from versions: none)\n",
      "ERROR: No matching distribution found for grammar-check\n"
     ]
    }
   ],
   "source": [
    "pip install --user --upgrade grammar-check"
   ]
  },
  {
   "cell_type": "markdown",
   "metadata": {},
   "source": [
    "# GINGERIT\n"
   ]
  },
  {
   "cell_type": "code",
   "execution_count": 2,
   "metadata": {},
   "outputs": [
    {
     "ename": "SyntaxError",
     "evalue": "invalid syntax (<ipython-input-2-ff769bca52c0>, line 2)",
     "output_type": "error",
     "traceback": [
      "\u001b[1;36m  File \u001b[1;32m\"<ipython-input-2-ff769bca52c0>\"\u001b[1;36m, line \u001b[1;32m2\u001b[0m\n\u001b[1;33m    pip install gingerit\u001b[0m\n\u001b[1;37m        ^\u001b[0m\n\u001b[1;31mSyntaxError\u001b[0m\u001b[1;31m:\u001b[0m invalid syntax\n"
     ]
    }
   ],
   "source": [
    "# library installation\n",
    "pip install gingerit"
   ]
  },
  {
   "cell_type": "code",
   "execution_count": 3,
   "metadata": {},
   "outputs": [],
   "source": [
    "from gingerit.gingerit import GingerIt"
   ]
  },
  {
   "cell_type": "code",
   "execution_count": 7,
   "metadata": {},
   "outputs": [
    {
     "name": "stdout",
     "output_type": "stream",
     "text": [
      "Enter some text their \n"
     ]
    }
   ],
   "source": [
    "\n",
    "\n",
    "# Add your Text here\n",
    "text = 'enter som text their '\n",
    "\n",
    "parser = GingerIt()\n",
    "output = parser.parse(text)\n",
    "print(output['result'])"
   ]
  },
  {
   "cell_type": "code",
   "execution_count": 11,
   "metadata": {},
   "outputs": [
    {
     "name": "stdout",
     "output_type": "stream",
     "text": [
      "[{'correct': 'apple', 'definition': None, 'start': 8, 'text': 'apples'},\n",
      " {'correct': 'an', 'definition': None, 'start': 6, 'text': 'a'},\n",
      " {'correct': 'have', 'definition': None, 'start': 2, 'text': 'has'}]\n",
      "\n",
      "Number of grammar issues found with Ginger: 3\n",
      "\n",
      "\t(Char #8) Use 'apple' instead of 'apples'\n",
      "\t correct sentence will be :  I have an apple\n",
      "\t(Char #6) Use 'an' instead of 'a'\n",
      "\t correct sentence will be :  I have an apple\n",
      "\t(Char #2) Use 'have' instead of 'has'\n",
      "\t correct sentence will be :  I have an apple\n"
     ]
    }
   ],
   "source": [
    "from gingerit.gingerit import GingerIt\n",
    "import pprint\n",
    "\n",
    "# Add your Text here\n",
    "text = \"I has a apples\"\n",
    "\n",
    "ginger_parser = GingerIt()\n",
    "\n",
    "ginger_grammar_results = ginger_parser.parse(text)\n",
    "\n",
    "#pprint.pprint(ginger_grammar_results)\n",
    "\n",
    "ginger_corrections = ginger_grammar_results['corrections']\n",
    "\n",
    "pprint.pprint(ginger_corrections)\n",
    "\n",
    "print(\"\\nNumber of grammar issues found with Ginger: \" + str(len(ginger_corrections)) + \"\\n\")\n",
    "\n",
    "for correction in ginger_corrections:\n",
    "    print(\"\\t(Char #\" + str(correction['start']) + \") Use '\" + correction['correct'] + \"' instead of '\" + correction['text'] + \"'\")\n",
    "    print(\"\\t correct sentence will be :  \" + (ginger_grammar_results['result']))"
   ]
  },
  {
   "cell_type": "code",
   "execution_count": null,
   "metadata": {},
   "outputs": [],
   "source": [
    "dir(GingerIt)"
   ]
  },
  {
   "cell_type": "code",
   "execution_count": null,
   "metadata": {},
   "outputs": [],
   "source": []
  },
  {
   "cell_type": "code",
   "execution_count": null,
   "metadata": {},
   "outputs": [],
   "source": []
  },
  {
   "cell_type": "code",
   "execution_count": null,
   "metadata": {},
   "outputs": [],
   "source": []
  },
  {
   "cell_type": "code",
   "execution_count": null,
   "metadata": {},
   "outputs": [],
   "source": []
  },
  {
   "cell_type": "code",
   "execution_count": null,
   "metadata": {},
   "outputs": [],
   "source": []
  },
  {
   "cell_type": "code",
   "execution_count": null,
   "metadata": {},
   "outputs": [],
   "source": []
  },
  {
   "cell_type": "code",
   "execution_count": null,
   "metadata": {},
   "outputs": [],
   "source": []
  },
  {
   "cell_type": "code",
   "execution_count": null,
   "metadata": {},
   "outputs": [],
   "source": [
    "def useInSentence(secretWord):\n",
    "    '''\n",
    "    secretWor: list, word + data\n",
    "\n",
    "    Starts up an interactive module of using word in sentence.\n",
    "\n",
    "    * At the start of the game, let the user know the secret word.\n",
    "\n",
    "    * Ask the user to supply one grammatically sentence containing the secret word.\n",
    "\n",
    "    * The user should receive feedback immediately whether their sentence is correct.\n",
    "    '''\n",
    "    # 'exiguous', 'scanty; meager; small; slender', 'adjective', '19', '51-Few English speakers likely know this word', 'Late Latin'\n",
    "    word = secretWord[0]\n",
    "    meaning = secretWord[1]\n",
    "    usage = secretWord[2]\n",
    "    points = secretWord[3]\n",
    "    difficulty = secretWord[4]\n",
    "    origin = secretWord[5]\n",
    "    print(\"Welcome to the use in a sentence module!\")\n",
    "    print(\"Use the following word in a sentence: \" + word)\n",
    "    print( \"The meaning of \" + word + \" is: \" + meaning)\n",
    "    print( \"It is generally used as (a/an): \" + usage)\n",
    "    print( \"Points assigned: \" + points)\n",
    "    print( \"Difficulty: \" + difficulty)\n",
    "    print( \"Origin: \" + origin)\n",
    "    \n",
    "    sentence = raw_input(\"Sentence containing the above mentioned word: \")\n",
    "    \n",
    "    if word not in sentence.split(' '):\n",
    "        print(\"You have not used %s in the sentence. Please check if the spelling and form used is correct!\"+ word)\n",
    "    else:\n",
    "        parser = GingerIt()\n",
    "        op = parser.parse(sentence)\n",
    "        if not op['corrections']:\n",
    "            print( \"Your sentence is correct!\")\n",
    "        else:\n",
    "            print( \"The correct sentence should be: \" + op['result'] + sentence[-1])"
   ]
  },
  {
   "cell_type": "code",
   "execution_count": null,
   "metadata": {},
   "outputs": [],
   "source": [
    "useInSentence(\"Thies is a apples\")"
   ]
  },
  {
   "cell_type": "code",
   "execution_count": 37,
   "metadata": {},
   "outputs": [],
   "source": [
    "\n",
    "# <codecell>\n",
    "\n",
    "import os\n",
    "import random\n",
    "import string\n",
    "from gingerit.gingerit import GingerIt\n"
   ]
  },
  {
   "cell_type": "code",
   "execution_count": 40,
   "metadata": {},
   "outputs": [
    {
     "name": "stdout",
     "output_type": "stream",
     "text": [
      "Loading word list from file...\n"
     ]
    },
    {
     "ename": "NameError",
     "evalue": "name 'sc' is not defined",
     "output_type": "error",
     "traceback": [
      "\u001b[1;31m---------------------------------------------------------------------------\u001b[0m",
      "\u001b[1;31mNameError\u001b[0m                                 Traceback (most recent call last)",
      "\u001b[1;32m<ipython-input-40-45658e813dba>\u001b[0m in \u001b[0;36m<module>\u001b[1;34m\u001b[0m\n\u001b[0;32m     17\u001b[0m \u001b[1;31m# Load the list of words into the variable wordlist\u001b[0m\u001b[1;33m\u001b[0m\u001b[1;33m\u001b[0m\u001b[1;33m\u001b[0m\u001b[0m\n\u001b[0;32m     18\u001b[0m \u001b[1;31m# so that it can be accessed from anywhere in the program\u001b[0m\u001b[1;33m\u001b[0m\u001b[1;33m\u001b[0m\u001b[1;33m\u001b[0m\u001b[0m\n\u001b[1;32m---> 19\u001b[1;33m \u001b[0mwordsDB\u001b[0m \u001b[1;33m=\u001b[0m \u001b[0mloadWords\u001b[0m\u001b[1;33m(\u001b[0m\u001b[1;33m)\u001b[0m\u001b[1;33m\u001b[0m\u001b[1;33m\u001b[0m\u001b[0m\n\u001b[0m",
      "\u001b[1;32m<ipython-input-40-45658e813dba>\u001b[0m in \u001b[0;36mloadWords\u001b[1;34m()\u001b[0m\n\u001b[0;32m      5\u001b[0m     \u001b[1;31m# inFile: file\u001b[0m\u001b[1;33m\u001b[0m\u001b[1;33m\u001b[0m\u001b[1;33m\u001b[0m\u001b[0m\n\u001b[0;32m      6\u001b[0m     \u001b[0mhome\u001b[0m \u001b[1;33m=\u001b[0m \u001b[0mos\u001b[0m\u001b[1;33m.\u001b[0m\u001b[0menviron\u001b[0m\u001b[1;33m.\u001b[0m\u001b[0mget\u001b[0m\u001b[1;33m(\u001b[0m\u001b[1;34m'HOME'\u001b[0m\u001b[1;33m,\u001b[0m \u001b[1;32mNone\u001b[0m\u001b[1;33m)\u001b[0m\u001b[1;33m\u001b[0m\u001b[1;33m\u001b[0m\u001b[0m\n\u001b[1;32m----> 7\u001b[1;33m     \u001b[0minFile\u001b[0m \u001b[1;33m=\u001b[0m \u001b[0msc\u001b[0m\u001b[1;33m.\u001b[0m\u001b[0mtextFile\u001b[0m\u001b[1;33m(\u001b[0m\u001b[0mhome\u001b[0m \u001b[1;33m+\u001b[0m \u001b[1;34m\"D:\\Python notes\\day1\\python day 1.txt\"\u001b[0m\u001b[1;33m)\u001b[0m\u001b[1;33m\u001b[0m\u001b[1;33m\u001b[0m\u001b[0m\n\u001b[0m\u001b[0;32m      8\u001b[0m     \u001b[1;31m# wordsRDD: RDD\u001b[0m\u001b[1;33m\u001b[0m\u001b[1;33m\u001b[0m\u001b[1;33m\u001b[0m\u001b[0m\n\u001b[0;32m      9\u001b[0m     wordsRDD = (inFile\n",
      "\u001b[1;31mNameError\u001b[0m: name 'sc' is not defined"
     ]
    }
   ],
   "source": [
    "\n",
    "# <codecell>\n",
    "\n",
    "def loadWords():\n",
    "    print( \"Loading word list from file...\")\n",
    "    # inFile: file\n",
    "    home = os.environ.get('HOME', None)\n",
    "    inFile = sc.textFile(home + \"D:\\Python notes\\day1\\python day 1.txt\")\n",
    "    # wordsRDD: RDD\n",
    "    wordsRDD = (inFile\n",
    "            .map(lambda wordData: wordData.split('\\t'))\n",
    "            .map(lambda wordData: map(str, wordData))\n",
    "            .cache())\n",
    "    wordsCount = wordsRDD.count()\n",
    "    print( \"  \", wordsCount, \"words loaded.\")\n",
    "    return wordsRDD\n",
    "\n",
    "# Load the list of words into the variable wordlist\n",
    "# so that it can be accessed from anywhere in the program\n",
    "wordsDB = loadWords()\n"
   ]
  },
  {
   "cell_type": "code",
   "execution_count": null,
   "metadata": {},
   "outputs": [],
   "source": [
    "\n",
    "# <codecell>\n",
    "\n",
    "def chooseWord(wordsRDD, numChoose = 1):\n",
    "    # wordsRDD (RDD): RDD of words and data (strings)\n",
    "    wordList = wordsRDD.collect()\n",
    "    if numChoose == 1:\n",
    "        return random.choice(wordList)\n",
    "    else:\n",
    "        fourWords = []\n",
    "        for num in range(numChoose):\n",
    "            word = random.choice(wordList)\n",
    "            fourWords.append(word)\n",
    "            wordList.remove(word)\n",
    "        return fourWords\n",
    "\n"
   ]
  },
  {
   "cell_type": "code",
   "execution_count": 41,
   "metadata": {},
   "outputs": [],
   "source": [
    "# <codecell>\n",
    "\n",
    "def isWordGuessed(secretWord, lettersGuessed):\n",
    "    '''\n",
    "    secretWord: string, the word the user is guessing\n",
    "    lettersGuessed: list, what letters have been guessed so far\n",
    "    returns: boolean, True if all the letters of secretWord are in lettersGuessed;\n",
    "      False otherwise\n",
    "    '''\n",
    "    secret=[]\n",
    "   \n",
    "    for letters in secretWord:\n",
    "        while letters not in secret:\n",
    "            secret.append(letters)\n",
    "\n",
    "    for char in lettersGuessed:\n",
    "        if char in secret:\n",
    "            secret.remove(char)\n",
    "\n",
    "    if secret == []:\n",
    "        return True\n",
    "    else:\n",
    "        return False\n",
    "\n"
   ]
  },
  {
   "cell_type": "code",
   "execution_count": 42,
   "metadata": {},
   "outputs": [],
   "source": [
    "# <codecell>\n",
    "\n",
    "def getGuessedWord(secretWord, lettersGuessed):\n",
    "    '''\n",
    "    secretWord: string, the word the user is guessing\n",
    "    lettersGuessed: list, what letters have been guessed so far\n",
    "    returns: string, comprised of letters and underscores that represents\n",
    "      what letters in secretWord have been guessed so far.\n",
    "    '''\n",
    "    secret = []\n",
    "    index = 0\n",
    "    temp = []\n",
    "    ans = ''\n",
    "    \n",
    "    for s in secretWord:\n",
    "        temp.append('_ ')\n",
    "   \n",
    "    for letters in secretWord:\n",
    "        secret.append(letters)\n",
    "    \n",
    "    for char in lettersGuessed:\n",
    "        while char in secret:\n",
    "            index = secret.index(char)\n",
    "            temp[index] = char\n",
    "            secret.pop(index)\n",
    "            secret.insert(index,'')\n",
    "\n",
    "    for t in temp:\n",
    "        ans += t\n",
    "    return ans\n"
   ]
  },
  {
   "cell_type": "code",
   "execution_count": 43,
   "metadata": {},
   "outputs": [],
   "source": [
    "\n",
    "# <codecell>\n",
    "\n",
    "def getAvailableLetters(lettersGuessed):\n",
    "    '''\n",
    "    lettersGuessed: list, what letters have been guessed so far\n",
    "    returns: string, comprised of letters that represents what letters have not\n",
    "      yet been guessed.\n",
    "    '''\n",
    "    change = []\n",
    "    ans = ''\n",
    "    alpha = string.ascii_lowercase\n",
    "\n",
    "    for char in alpha:\n",
    "        change.append(char)\n",
    "\n",
    "    for letters in lettersGuessed:\n",
    "        if letters in change:\n",
    "            change.remove(letters)\n",
    "\n",
    "    for c in change:\n",
    "        ans += c\n",
    "\n",
    "    return ans\n",
    "\n"
   ]
  },
  {
   "cell_type": "code",
   "execution_count": 44,
   "metadata": {},
   "outputs": [],
   "source": [
    "# <codecell>\n",
    "\n",
    "def hangman(secretWord):\n",
    "    '''\n",
    "    secretWord: string, the secret word to guess.\n",
    "\n",
    "    Starts up an interactive game of Hangman.\n",
    "\n",
    "    * At the start of the game, let the user know how many \n",
    "      letters the secretWord contains.\n",
    "\n",
    "    * Ask the user to supply one guess (i.e. letter) per round.\n",
    "\n",
    "    * The user should receive feedback immediately after each guess \n",
    "      about whether their guess appears in the computers word.\n",
    "\n",
    "    * After each round, you should also display to the user the \n",
    "      partially guessed word so far, as well as letters that the \n",
    "      user has not yet guessed.\n",
    "    '''\n",
    "    # 'exiguous', 'scanty; meager; small; slender', 'adjective', '19', '51-Few English speakers likely know this word', 'Late Latin'\n",
    "    word = secretWord[0]\n",
    "    meaning = secretWord[1]\n",
    "    usage = secretWord[2]\n",
    "    points = secretWord[3]\n",
    "    difficulty = secretWord[4]\n",
    "    origin = secretWord[5]\n",
    "    mistakesMade = 0\n",
    "    totalGuess = 8\n",
    "    lettersGuessed = []\n",
    "    rem = []\n",
    "    inc = ''\n",
    "    print( \"Welcome to the game, Hangman!\")\n",
    "    print( \"I am thinking of a word that is \" + str(len(word)) + \" letters long.\")\n",
    "    print( \"The meaning of the word is: \" + str(meaning))\n",
    "    print( \"The usage of the word is: \" + str(usage))\n",
    "    print( \"Points assigned: \" + str(points))\n",
    "    print( \"Difficulty: \" + str(difficulty))\n",
    "    print( \"Origin: \" + str(origin))\n",
    "    print( \"-------------\")\n",
    "    while mistakesMade != 8:\n",
    "        print( \"You have \" + str(totalGuess) + \" guesses left.\")\n",
    "        print( \"Available letters: \" + str(getAvailableLetters(lettersGuessed)))\n",
    "        inc = raw_input(\"Please guess a letter: \").lower()\n",
    "        lettersGuessed.append(inc)\n",
    "        if inc in rem:\n",
    "            print( \"Oops! You've already guessed that letter: \" + str(getGuessedWord(secretWord,lettersGuessed)))\n",
    "        elif inc in secretWord[0]:\n",
    "            print( \"Good guess: \" + str(getGuessedWord(secretWord[0],lettersGuessed)))\n",
    "        elif inc not in secretWord[0]:\n",
    "            print( \"Oops! That letter is not in my word: \" + str(getGuessedWord(secretWord[0],lettersGuessed)))\n",
    "            mistakesMade += 1\n",
    "            totalGuess -= 1\n",
    "        if isWordGuessed(secretWord[0],lettersGuessed):\n",
    "            print( \"-------------\")\n",
    "            print( \"Congratulations, you won!\")\n",
    "            break\n",
    "        print( \"-------------\")\n",
    "        rem.append(inc)\n",
    "    if totalGuess == 0:\n",
    "        print( \"Sorry, you ran out of guesses. The word was \" + str(secretWord[0]))\n",
    "\n"
   ]
  },
  {
   "cell_type": "code",
   "execution_count": 45,
   "metadata": {},
   "outputs": [],
   "source": [
    "# <codecell>\n",
    "\n",
    "def guessMeaning(fourWords):\n",
    "    '''\n",
    "    fourWords: list, data of 4 words.\n",
    "\n",
    "    Starts up an interactive module of guessing correct meaning.\n",
    "\n",
    "    * At the start of the game, let the user know the secret word.\n",
    "\n",
    "    * Ask the user to supply one guess (i.e. number).\n",
    "\n",
    "    * The user should receive feedback immediately after guess\n",
    "      about whether their guessed meaning is the actual meaning.\n",
    "    '''\n",
    "    # 'exiguous', 'scanty; meager; small; slender', 'adjective', '19', '51-Few English speakers likely know this word', 'Late Latin'\n",
    "    correctMeaning = fourWords[0][1]\n",
    "    print( \"Welcome to the guess meaning module!\")\n",
    "    print( \"Which of the following meanings are closest to the word: \" + fourWords[0][0] + \"?\")\n",
    "    print( \"Points assigned: \" + fourWords[0][3])\n",
    "    print( \"Difficulty: \" + fourWords[0][4])\n",
    "    print( \"Origin: \" + fourWords[0][5])\n",
    "    random.shuffle(fourWords)\n",
    "    print(\"\")\n",
    "    print( \"1. \" + fourWords[0][1])\n",
    "    print( \"2. \" + fourWords[1][1])\n",
    "    print( \"3. \" + fourWords[2][1])\n",
    "    print( \"4. \" + fourWords[3][1])\n",
    "    print\n",
    "    choice = int(raw_input(\"Enter number corresponding to the meaning which you seem fit: \"))\n",
    "    if fourWords[choice - 1][1] == correctMeaning:\n",
    "        print( \"That is correct!\")\n",
    "    else:\n",
    "        print( \"Oops! The correct meaning is: \" + correctMeaning)\n",
    "\n"
   ]
  },
  {
   "cell_type": "code",
   "execution_count": 46,
   "metadata": {},
   "outputs": [],
   "source": [
    "# <codecell>\n",
    "\n",
    "def useInSentence(secretWord):\n",
    "    '''\n",
    "    secretWor: list, word + data\n",
    "\n",
    "    Starts up an interactive module of using word in sentence.\n",
    "\n",
    "    * At the start of the game, let the user know the secret word.\n",
    "\n",
    "    * Ask the user to supply one grammatically sentence containing the secret word.\n",
    "\n",
    "    * The user should receive feedback immediately whether their sentence is correct.\n",
    "    '''\n",
    "    # 'exiguous', 'scanty; meager; small; slender', 'adjective', '19', '51-Few English speakers likely know this word', 'Late Latin'\n",
    "    word = secretWord[0]\n",
    "    meaning = secretWord[1]\n",
    "    usage = secretWord[2]\n",
    "    points = secretWord[3]\n",
    "    difficulty = secretWord[4]\n",
    "    origin = secretWord[5]\n",
    "    print( \"Welcome to the use in a sentence module!\")\n",
    "    print( \"Use the following word in a sentence: \" + word)\n",
    "    print( \"The meaning of \" + word + \" is: \" + meaning)\n",
    "    print( \"It is generally used as (a/an): \" + usage)\n",
    "    print( \"Points assigned: \" + points)\n",
    "    print( \"Difficulty: \" + difficulty)\n",
    "    print( \"Origin: \" + origin)\n",
    "    \n",
    "    sentence = raw_input(\"Sentence containing the above mentioned word: \")\n",
    "    \n",
    "    if word not in sentence.split(' '):\n",
    "        print( \"You have not used %s in the sentence. Please check if the spelling and form used is correct!\" % (word))\n",
    "    else:\n",
    "        parser = GingerIt()\n",
    "        op = parser.parse(sentence)\n",
    "        if not op['corrections']:\n",
    "            print( \"Your sentence is correct!\")\n",
    "        else:\n",
    "            print( \"The correct sentence should be: \" + op['result'] + sentence[-1])\n",
    "\n"
   ]
  },
  {
   "cell_type": "code",
   "execution_count": 47,
   "metadata": {},
   "outputs": [
    {
     "ename": "NameError",
     "evalue": "name 'wordsDB' is not defined",
     "output_type": "error",
     "traceback": [
      "\u001b[1;31m---------------------------------------------------------------------------\u001b[0m",
      "\u001b[1;31mNameError\u001b[0m                                 Traceback (most recent call last)",
      "\u001b[1;32m<ipython-input-47-a6fdfc1d9bf5>\u001b[0m in \u001b[0;36m<module>\u001b[1;34m\u001b[0m\n\u001b[0;32m      1\u001b[0m \u001b[1;31m# <codecell>\u001b[0m\u001b[1;33m\u001b[0m\u001b[1;33m\u001b[0m\u001b[1;33m\u001b[0m\u001b[0m\n\u001b[0;32m      2\u001b[0m \u001b[1;33m\u001b[0m\u001b[0m\n\u001b[1;32m----> 3\u001b[1;33m \u001b[0msecretWord\u001b[0m \u001b[1;33m=\u001b[0m \u001b[0mchooseWord\u001b[0m\u001b[1;33m(\u001b[0m\u001b[0mwordsDB\u001b[0m\u001b[1;33m)\u001b[0m\u001b[1;33m\u001b[0m\u001b[1;33m\u001b[0m\u001b[0m\n\u001b[0m\u001b[0;32m      4\u001b[0m \u001b[0mhangman\u001b[0m\u001b[1;33m(\u001b[0m\u001b[0msecretWord\u001b[0m\u001b[1;33m)\u001b[0m\u001b[1;33m\u001b[0m\u001b[1;33m\u001b[0m\u001b[0m\n",
      "\u001b[1;31mNameError\u001b[0m: name 'wordsDB' is not defined"
     ]
    }
   ],
   "source": [
    "# <codecell>\n",
    "\n",
    "secretWord = chooseWord(wordsDB)\n",
    "hangman(secretWord)\n"
   ]
  },
  {
   "cell_type": "code",
   "execution_count": 48,
   "metadata": {},
   "outputs": [
    {
     "ename": "NameError",
     "evalue": "name 'wordsDB' is not defined",
     "output_type": "error",
     "traceback": [
      "\u001b[1;31m---------------------------------------------------------------------------\u001b[0m",
      "\u001b[1;31mNameError\u001b[0m                                 Traceback (most recent call last)",
      "\u001b[1;32m<ipython-input-48-68dd98e1f01c>\u001b[0m in \u001b[0;36m<module>\u001b[1;34m\u001b[0m\n\u001b[0;32m      1\u001b[0m \u001b[1;31m# <codecell>\u001b[0m\u001b[1;33m\u001b[0m\u001b[1;33m\u001b[0m\u001b[1;33m\u001b[0m\u001b[0m\n\u001b[0;32m      2\u001b[0m \u001b[1;33m\u001b[0m\u001b[0m\n\u001b[1;32m----> 3\u001b[1;33m \u001b[0msecretWord\u001b[0m \u001b[1;33m=\u001b[0m \u001b[0mchooseWord\u001b[0m\u001b[1;33m(\u001b[0m\u001b[0mwordsDB\u001b[0m\u001b[1;33m,\u001b[0m \u001b[1;36m4\u001b[0m\u001b[1;33m)\u001b[0m\u001b[1;33m\u001b[0m\u001b[1;33m\u001b[0m\u001b[0m\n\u001b[0m\u001b[0;32m      4\u001b[0m \u001b[0mguessMeaning\u001b[0m\u001b[1;33m(\u001b[0m\u001b[0msecretWord\u001b[0m\u001b[1;33m)\u001b[0m\u001b[1;33m\u001b[0m\u001b[1;33m\u001b[0m\u001b[0m\n\u001b[0;32m      5\u001b[0m \u001b[1;33m\u001b[0m\u001b[0m\n",
      "\u001b[1;31mNameError\u001b[0m: name 'wordsDB' is not defined"
     ]
    }
   ],
   "source": [
    "\n",
    "# <codecell>\n",
    "\n",
    "secretWord = chooseWord(wordsDB, 4)\n",
    "guessMeaning(secretWord)\n",
    "\n",
    "# <codecell>\n",
    "\n",
    "secretWord = chooseWord(wordsDB)\n",
    "useInSentence(secretWord)\n",
    "\n",
    "# <codecell>\n"
   ]
  },
  {
   "cell_type": "code",
   "execution_count": null,
   "metadata": {},
   "outputs": [],
   "source": []
  },
  {
   "cell_type": "code",
   "execution_count": null,
   "metadata": {},
   "outputs": [],
   "source": []
  },
  {
   "cell_type": "code",
   "execution_count": null,
   "metadata": {},
   "outputs": [],
   "source": []
  },
  {
   "cell_type": "code",
   "execution_count": null,
   "metadata": {},
   "outputs": [],
   "source": []
  }
 ],
 "metadata": {
  "kernelspec": {
   "display_name": "Python 3",
   "language": "python",
   "name": "python3"
  },
  "language_info": {
   "codemirror_mode": {
    "name": "ipython",
    "version": 3
   },
   "file_extension": ".py",
   "mimetype": "text/x-python",
   "name": "python",
   "nbconvert_exporter": "python",
   "pygments_lexer": "ipython3",
   "version": "3.8.3"
  }
 },
 "nbformat": 4,
 "nbformat_minor": 4
}
