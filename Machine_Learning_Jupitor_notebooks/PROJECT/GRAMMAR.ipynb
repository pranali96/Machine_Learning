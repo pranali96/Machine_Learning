{
 "cells": [
  {
   "cell_type": "code",
   "execution_count": 1,
   "metadata": {},
   "outputs": [],
   "source": [
    "#pip install --user --upgrade grammar-check"
   ]
  },
  {
   "cell_type": "markdown",
   "metadata": {},
   "source": [
    "# GINGERIT\n"
   ]
  },
  {
   "cell_type": "code",
   "execution_count": 2,
   "metadata": {},
   "outputs": [
    {
     "name": "stdout",
     "output_type": "stream",
     "text": [
      "Collecting gingerit\n",
      "  Downloading gingerit-0.8.0-py3-none-any.whl (3.4 kB)\n",
      "Requirement already satisfied: requests<3.0,>=2.22 in c:\\users\\rajar\\anaconda3\\lib\\site-packages (from gingerit) (2.24.0)\n",
      "Requirement already satisfied: idna<3,>=2.5 in c:\\users\\rajar\\anaconda3\\lib\\site-packages (from requests<3.0,>=2.22->gingerit) (2.10)\n",
      "Requirement already satisfied: urllib3!=1.25.0,!=1.25.1,<1.26,>=1.21.1 in c:\\users\\rajar\\anaconda3\\lib\\site-packages (from requests<3.0,>=2.22->gingerit) (1.25.9)\n",
      "Requirement already satisfied: certifi>=2017.4.17 in c:\\users\\rajar\\anaconda3\\lib\\site-packages (from requests<3.0,>=2.22->gingerit) (2020.6.20)\n",
      "Requirement already satisfied: chardet<4,>=3.0.2 in c:\\users\\rajar\\anaconda3\\lib\\site-packages (from requests<3.0,>=2.22->gingerit) (3.0.4)\n",
      "Installing collected packages: gingerit\n",
      "Successfully installed gingerit-0.8.0\n",
      "Note: you may need to restart the kernel to use updated packages.\n"
     ]
    }
   ],
   "source": [
    "pip install gingerit"
   ]
  },
  {
   "cell_type": "code",
   "execution_count": 11,
   "metadata": {},
   "outputs": [
    {
     "data": {
      "text/plain": [
       "{'text': 'hello am grl',\n",
       " 'result': 'Hello am a girl',\n",
       " 'corrections': [{'start': 9,\n",
       "   'text': 'grl',\n",
       "   'correct': 'a girl',\n",
       "   'definition': None},\n",
       "  {'start': 0,\n",
       "   'text': 'hello',\n",
       "   'correct': 'Hello',\n",
       "   'definition': 'used as a greeting'}]}"
      ]
     },
     "execution_count": 11,
     "metadata": {},
     "output_type": "execute_result"
    }
   ],
   "source": [
    "from gingerit.gingerit import GingerIt\n",
    "\n",
    "text = 'hello am grl'\n",
    "\n",
    "parser = GingerIt()\n",
    "parser.parse(text)"
   ]
  },
  {
   "cell_type": "code",
   "execution_count": 3,
   "metadata": {},
   "outputs": [
    {
     "name": "stdout",
     "output_type": "stream",
     "text": [
      "[{'correct': 'apple', 'definition': None, 'start': 8, 'text': 'apples'},\n",
      " {'correct': 'an', 'definition': None, 'start': 6, 'text': 'a'},\n",
      " {'correct': 'have', 'definition': None, 'start': 2, 'text': 'has'}]\n",
      "\n",
      "Number of grammar issues found with Ginger: 3\n",
      "\n",
      "\t(Char #8) Use 'apple' instead of 'apples'\n",
      "\t(Char #6) Use 'an' instead of 'a'\n",
      "\t(Char #2) Use 'have' instead of 'has'\n"
     ]
    }
   ],
   "source": [
    "from gingerit.gingerit import GingerIt\n",
    "import pprint\n",
    "\n",
    "text = \"I has a apples\"\n",
    "\n",
    "ginger_parser = GingerIt()\n",
    "\n",
    "ginger_grammar_results = ginger_parser.parse(text)\n",
    "\n",
    "#pprint.pprint(ginger_grammar_results)\n",
    "\n",
    "ginger_corrections = ginger_grammar_results['corrections']\n",
    "\n",
    "pprint.pprint(ginger_corrections)\n",
    "\n",
    "print(\"\\nNumber of grammar issues found with Ginger: \" + str(len(ginger_corrections)) + \"\\n\")\n",
    "\n",
    "for correction in ginger_corrections:\n",
    "    print(\"\\t(Char #\" + str(correction['start']) + \") Use '\" + correction['correct'] + \"' instead of '\" + correction['text'] + \"'\")"
   ]
  },
  {
   "cell_type": "code",
   "execution_count": 4,
   "metadata": {},
   "outputs": [
    {
     "data": {
      "text/plain": [
       "['__class__',\n",
       " '__delattr__',\n",
       " '__dict__',\n",
       " '__dir__',\n",
       " '__doc__',\n",
       " '__eq__',\n",
       " '__format__',\n",
       " '__ge__',\n",
       " '__getattribute__',\n",
       " '__gt__',\n",
       " '__hash__',\n",
       " '__init__',\n",
       " '__init_subclass__',\n",
       " '__le__',\n",
       " '__lt__',\n",
       " '__module__',\n",
       " '__ne__',\n",
       " '__new__',\n",
       " '__reduce__',\n",
       " '__reduce_ex__',\n",
       " '__repr__',\n",
       " '__setattr__',\n",
       " '__sizeof__',\n",
       " '__str__',\n",
       " '__subclasshook__',\n",
       " '__weakref__',\n",
       " '_change_char',\n",
       " '_process_data',\n",
       " 'parse']"
      ]
     },
     "execution_count": 4,
     "metadata": {},
     "output_type": "execute_result"
    }
   ],
   "source": [
    "dir(GingerIt)"
   ]
  },
  {
   "cell_type": "code",
   "execution_count": null,
   "metadata": {},
   "outputs": [],
   "source": []
  }
 ],
 "metadata": {
  "kernelspec": {
   "display_name": "Python 3",
   "language": "python",
   "name": "python3"
  },
  "language_info": {
   "codemirror_mode": {
    "name": "ipython",
    "version": 3
   },
   "file_extension": ".py",
   "mimetype": "text/x-python",
   "name": "python",
   "nbconvert_exporter": "python",
   "pygments_lexer": "ipython3",
   "version": "3.8.3"
  }
 },
 "nbformat": 4,
 "nbformat_minor": 4
}
