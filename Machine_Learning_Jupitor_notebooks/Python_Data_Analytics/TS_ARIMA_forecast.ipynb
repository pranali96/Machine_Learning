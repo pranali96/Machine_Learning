{
 "cells": [
  {
   "cell_type": "code",
   "execution_count": 27,
   "metadata": {},
   "outputs": [
    {
     "name": "stderr",
     "output_type": "stream",
     "text": [
      "<ipython-input-27-17f34e1571e8>:2: FutureWarning: The pandas.datetime class is deprecated and will be removed from pandas in a future version. Import from datetime module instead.\n",
      "  from pandas import datetime\n"
     ]
    }
   ],
   "source": [
    "from pandas import read_csv\n",
    "from pandas import datetime\n",
    "from matplotlib import pyplot\n",
    "from statsmodels.tsa.arima_model import ARIMA\n",
    "from sklearn.metrics import mean_squared_error"
   ]
  },
  {
   "cell_type": "code",
   "execution_count": 28,
   "metadata": {},
   "outputs": [],
   "source": [
    "# def parser(x):\n",
    "# \treturn datetime.strptime('190'+x, '%Y-%m')\n",
    "\n",
    "df = read_csv('HistoricalQuotes.csv', header=0, parse_dates=[0], index_col=0, squeeze=True)#, date_parser=parser)\n",
    "X = df['open']\n",
    "X = X[1:]"
   ]
  },
  {
   "cell_type": "code",
   "execution_count": 29,
   "metadata": {},
   "outputs": [
    {
     "data": {
      "text/html": [
       "<div>\n",
       "<style scoped>\n",
       "    .dataframe tbody tr th:only-of-type {\n",
       "        vertical-align: middle;\n",
       "    }\n",
       "\n",
       "    .dataframe tbody tr th {\n",
       "        vertical-align: top;\n",
       "    }\n",
       "\n",
       "    .dataframe thead th {\n",
       "        text-align: right;\n",
       "    }\n",
       "</style>\n",
       "<table border=\"1\" class=\"dataframe\">\n",
       "  <thead>\n",
       "    <tr style=\"text-align: right;\">\n",
       "      <th></th>\n",
       "      <th>close</th>\n",
       "      <th>volume</th>\n",
       "      <th>open</th>\n",
       "      <th>high</th>\n",
       "      <th>low</th>\n",
       "    </tr>\n",
       "    <tr>\n",
       "      <th>date</th>\n",
       "      <th></th>\n",
       "      <th></th>\n",
       "      <th></th>\n",
       "      <th></th>\n",
       "      <th></th>\n",
       "    </tr>\n",
       "  </thead>\n",
       "  <tbody>\n",
       "    <tr>\n",
       "      <th>2019-08-10</th>\n",
       "      <td>200.99</td>\n",
       "      <td>24,619,446</td>\n",
       "      <td>201.23</td>\n",
       "      <td>202.760</td>\n",
       "      <td>199.2900</td>\n",
       "    </tr>\n",
       "    <tr>\n",
       "      <th>2019-08-09</th>\n",
       "      <td>200.99</td>\n",
       "      <td>24619750.0000</td>\n",
       "      <td>201.30</td>\n",
       "      <td>202.760</td>\n",
       "      <td>199.2900</td>\n",
       "    </tr>\n",
       "    <tr>\n",
       "      <th>2019-08-08</th>\n",
       "      <td>203.43</td>\n",
       "      <td>27009520.0000</td>\n",
       "      <td>200.20</td>\n",
       "      <td>203.530</td>\n",
       "      <td>199.3900</td>\n",
       "    </tr>\n",
       "    <tr>\n",
       "      <th>2019-08-07</th>\n",
       "      <td>199.04</td>\n",
       "      <td>33364400.0000</td>\n",
       "      <td>195.41</td>\n",
       "      <td>199.560</td>\n",
       "      <td>193.8200</td>\n",
       "    </tr>\n",
       "    <tr>\n",
       "      <th>2019-08-06</th>\n",
       "      <td>197.00</td>\n",
       "      <td>35824790.0000</td>\n",
       "      <td>196.31</td>\n",
       "      <td>198.067</td>\n",
       "      <td>194.0400</td>\n",
       "    </tr>\n",
       "    <tr>\n",
       "      <th>2019-08-05</th>\n",
       "      <td>193.34</td>\n",
       "      <td>52392970.0000</td>\n",
       "      <td>197.99</td>\n",
       "      <td>198.649</td>\n",
       "      <td>192.5800</td>\n",
       "    </tr>\n",
       "    <tr>\n",
       "      <th>2019-08-02</th>\n",
       "      <td>204.02</td>\n",
       "      <td>40862120.0000</td>\n",
       "      <td>205.53</td>\n",
       "      <td>206.430</td>\n",
       "      <td>201.6300</td>\n",
       "    </tr>\n",
       "    <tr>\n",
       "      <th>2019-08-01</th>\n",
       "      <td>208.43</td>\n",
       "      <td>54017920.0000</td>\n",
       "      <td>213.90</td>\n",
       "      <td>218.030</td>\n",
       "      <td>206.7435</td>\n",
       "    </tr>\n",
       "    <tr>\n",
       "      <th>2019-07-31</th>\n",
       "      <td>213.04</td>\n",
       "      <td>69281360.0000</td>\n",
       "      <td>216.42</td>\n",
       "      <td>221.370</td>\n",
       "      <td>211.3000</td>\n",
       "    </tr>\n",
       "    <tr>\n",
       "      <th>2019-07-30</th>\n",
       "      <td>208.78</td>\n",
       "      <td>33935720.0000</td>\n",
       "      <td>208.76</td>\n",
       "      <td>210.160</td>\n",
       "      <td>207.3100</td>\n",
       "    </tr>\n",
       "  </tbody>\n",
       "</table>\n",
       "</div>"
      ],
      "text/plain": [
       "             close         volume    open     high       low\n",
       "date                                                        \n",
       "2019-08-10  200.99     24,619,446  201.23  202.760  199.2900\n",
       "2019-08-09  200.99  24619750.0000  201.30  202.760  199.2900\n",
       "2019-08-08  203.43  27009520.0000  200.20  203.530  199.3900\n",
       "2019-08-07  199.04  33364400.0000  195.41  199.560  193.8200\n",
       "2019-08-06  197.00  35824790.0000  196.31  198.067  194.0400\n",
       "2019-08-05  193.34  52392970.0000  197.99  198.649  192.5800\n",
       "2019-08-02  204.02  40862120.0000  205.53  206.430  201.6300\n",
       "2019-08-01  208.43  54017920.0000  213.90  218.030  206.7435\n",
       "2019-07-31  213.04  69281360.0000  216.42  221.370  211.3000\n",
       "2019-07-30  208.78  33935720.0000  208.76  210.160  207.3100"
      ]
     },
     "execution_count": 29,
     "metadata": {},
     "output_type": "execute_result"
    }
   ],
   "source": [
    "df[:10]"
   ]
  },
  {
   "cell_type": "code",
   "execution_count": 30,
   "metadata": {},
   "outputs": [],
   "source": [
    "size = int(len(X) * 0.66)\n",
    "train, test = X[0:size], X[size:len(X)]\n",
    "history = [x for x in train]"
   ]
  },
  {
   "cell_type": "code",
   "execution_count": 31,
   "metadata": {},
   "outputs": [
    {
     "name": "stdout",
     "output_type": "stream",
     "text": [
      "predicted=172.071923, expected=171.660000\n",
      "predicted=172.313767, expected=165.000000\n",
      "predicted=163.431998, expected=173.490000\n",
      "predicted=174.095869, expected=171.760000\n",
      "predicted=173.246927, expected=180.950000\n",
      "predicted=180.123278, expected=184.460000\n",
      "predicted=185.523941, expected=180.290000\n",
      "predicted=178.870880, expected=182.660000\n"
     ]
    },
    {
     "name": "stderr",
     "output_type": "stream",
     "text": [
      "C:\\Users\\rajar\\anaconda3\\lib\\site-packages\\statsmodels\\base\\model.py:547: HessianInversionWarning: Inverting hessian failed, no bse or cov_params available\n",
      "  warn('Inverting hessian failed, no bse or cov_params '\n"
     ]
    },
    {
     "name": "stdout",
     "output_type": "stream",
     "text": [
      "predicted=182.712772, expected=176.730000\n",
      "predicted=176.943992, expected=171.510000\n",
      "predicted=171.503235, expected=174.240000\n",
      "predicted=174.542689, expected=174.940000\n",
      "predicted=176.629286, expected=179.730000\n",
      "predicted=181.288229, expected=178.370000\n",
      "predicted=177.017255, expected=190.000000\n",
      "predicted=188.995139, expected=190.500000\n"
     ]
    },
    {
     "name": "stderr",
     "output_type": "stream",
     "text": [
      "C:\\Users\\rajar\\anaconda3\\lib\\site-packages\\statsmodels\\base\\model.py:547: HessianInversionWarning: Inverting hessian failed, no bse or cov_params available\n",
      "  warn('Inverting hessian failed, no bse or cov_params '\n"
     ]
    },
    {
     "name": "stdout",
     "output_type": "stream",
     "text": [
      "predicted=191.874158, expected=188.390000\n",
      "predicted=187.033997, expected=193.900000\n"
     ]
    },
    {
     "name": "stderr",
     "output_type": "stream",
     "text": [
      "C:\\Users\\rajar\\anaconda3\\lib\\site-packages\\statsmodels\\base\\model.py:547: HessianInversionWarning: Inverting hessian failed, no bse or cov_params available\n",
      "  warn('Inverting hessian failed, no bse or cov_params '\n"
     ]
    },
    {
     "name": "stdout",
     "output_type": "stream",
     "text": [
      "predicted=190.426919, expected=191.630000\n"
     ]
    },
    {
     "name": "stderr",
     "output_type": "stream",
     "text": [
      "C:\\Users\\rajar\\anaconda3\\lib\\site-packages\\statsmodels\\base\\model.py:547: HessianInversionWarning: Inverting hessian failed, no bse or cov_params available\n",
      "  warn('Inverting hessian failed, no bse or cov_params '\n"
     ]
    },
    {
     "name": "stdout",
     "output_type": "stream",
     "text": [
      "predicted=191.997350, expected=199.000000\n"
     ]
    },
    {
     "name": "stderr",
     "output_type": "stream",
     "text": [
      "C:\\Users\\rajar\\anaconda3\\lib\\site-packages\\statsmodels\\base\\model.py:547: HessianInversionWarning: Inverting hessian failed, no bse or cov_params available\n",
      "  warn('Inverting hessian failed, no bse or cov_params '\n"
     ]
    },
    {
     "name": "stdout",
     "output_type": "stream",
     "text": [
      "predicted=202.407775, expected=205.550000\n",
      "predicted=206.225956, expected=209.980000\n",
      "predicted=209.900369, expected=205.970000\n",
      "predicted=207.680069, expected=201.920000\n",
      "predicted=200.056988, expected=204.300000\n",
      "predicted=202.838940, expected=209.550000\n",
      "predicted=213.853918, expected=219.050000\n"
     ]
    },
    {
     "name": "stderr",
     "output_type": "stream",
     "text": [
      "C:\\Users\\rajar\\anaconda3\\lib\\site-packages\\statsmodels\\base\\model.py:547: HessianInversionWarning: Inverting hessian failed, no bse or cov_params available\n",
      "  warn('Inverting hessian failed, no bse or cov_params '\n"
     ]
    },
    {
     "name": "stdout",
     "output_type": "stream",
     "text": [
      "predicted=224.668787, expected=216.880000\n"
     ]
    },
    {
     "name": "stderr",
     "output_type": "stream",
     "text": [
      "C:\\Users\\rajar\\anaconda3\\lib\\site-packages\\statsmodels\\base\\model.py:547: HessianInversionWarning: Inverting hessian failed, no bse or cov_params available\n",
      "  warn('Inverting hessian failed, no bse or cov_params '\n"
     ]
    },
    {
     "name": "stdout",
     "output_type": "stream",
     "text": [
      "predicted=217.272769, expected=211.150000\n",
      "predicted=209.790861, expected=219.190000\n",
      "predicted=219.880138, expected=215.900000\n"
     ]
    },
    {
     "name": "stderr",
     "output_type": "stream",
     "text": [
      "C:\\Users\\rajar\\anaconda3\\lib\\site-packages\\statsmodels\\base\\model.py:547: HessianInversionWarning: Inverting hessian failed, no bse or cov_params available\n",
      "  warn('Inverting hessian failed, no bse or cov_params '\n"
     ]
    },
    {
     "name": "stdout",
     "output_type": "stream",
     "text": [
      "predicted=218.193119, expected=217.710000\n",
      "predicted=216.407514, expected=222.600000\n",
      "predicted=221.700090, expected=215.830000\n",
      "predicted=216.800533, expected=219.790000\n",
      "predicted=221.116931, expected=218.060000\n",
      "predicted=218.340576, expected=217.860000\n",
      "predicted=218.469916, expected=222.300000\n",
      "predicted=221.766082, expected=218.930000\n",
      "predicted=219.757387, expected=221.160000\n",
      "predicted=221.075463, expected=220.420000\n",
      "predicted=220.096739, expected=214.520000\n",
      "predicted=215.841656, expected=225.460000\n",
      "predicted=224.685296, expected=223.640000\n",
      "predicted=224.904892, expected=222.210000\n",
      "predicted=223.215131, expected=227.960000\n",
      "predicted=224.609283, expected=230.780000\n",
      "predicted=232.471648, expected=230.050000\n",
      "predicted=231.380849, expected=227.250000\n",
      "predicted=226.320368, expected=227.950000\n",
      "predicted=228.618886, expected=224.790000\n",
      "predicted=226.403719, expected=223.820000\n",
      "predicted=225.108139, expected=221.000000\n",
      "predicted=221.012551, expected=219.750000\n",
      "predicted=220.406523, expected=216.820000\n",
      "predicted=216.789495, expected=220.780000\n",
      "predicted=220.136386, expected=220.240000\n",
      "predicted=219.346392, expected=218.500000\n",
      "predicted=218.402029, expected=217.790000\n",
      "predicted=217.157777, expected=222.150000\n"
     ]
    },
    {
     "name": "stderr",
     "output_type": "stream",
     "text": [
      "C:\\Users\\rajar\\anaconda3\\lib\\site-packages\\statsmodels\\base\\model.py:547: HessianInversionWarning: Inverting hessian failed, no bse or cov_params available\n",
      "  warn('Inverting hessian failed, no bse or cov_params '\n"
     ]
    },
    {
     "name": "stdout",
     "output_type": "stream",
     "text": [
      "predicted=221.065548, expected=225.750000\n"
     ]
    },
    {
     "name": "stderr",
     "output_type": "stream",
     "text": [
      "C:\\Users\\rajar\\anaconda3\\lib\\site-packages\\statsmodels\\base\\model.py:547: HessianInversionWarning: Inverting hessian failed, no bse or cov_params available\n",
      "  warn('Inverting hessian failed, no bse or cov_params '\n"
     ]
    },
    {
     "name": "stdout",
     "output_type": "stream",
     "text": [
      "predicted=224.227868, expected=223.520000\n",
      "predicted=223.377733, expected=224.940000\n",
      "predicted=223.709147, expected=218.010000\n",
      "predicted=218.402932, expected=220.950000\n",
      "predicted=221.644795, expected=221.850000\n",
      "predicted=223.170811, expected=226.230000\n",
      "predicted=227.402380, expected=228.990000\n"
     ]
    },
    {
     "name": "stderr",
     "output_type": "stream",
     "text": [
      "C:\\Users\\rajar\\anaconda3\\lib\\site-packages\\statsmodels\\base\\model.py:547: HessianInversionWarning: Inverting hessian failed, no bse or cov_params available\n",
      "  warn('Inverting hessian failed, no bse or cov_params '\n"
     ]
    },
    {
     "name": "stdout",
     "output_type": "stream",
     "text": [
      "predicted=229.973189, expected=228.410000\n",
      "predicted=229.240400, expected=226.510000\n",
      "predicted=227.241984, expected=223.250000\n",
      "predicted=224.141032, expected=220.150000\n",
      "predicted=222.194587, expected=219.010000\n",
      "predicted=219.954727, expected=217.150000\n"
     ]
    },
    {
     "name": "stderr",
     "output_type": "stream",
     "text": [
      "C:\\Users\\rajar\\anaconda3\\lib\\site-packages\\statsmodels\\base\\model.py:547: HessianInversionWarning: Inverting hessian failed, no bse or cov_params available\n",
      "  warn('Inverting hessian failed, no bse or cov_params '\n"
     ]
    },
    {
     "name": "stdout",
     "output_type": "stream",
     "text": [
      "predicted=217.848262, expected=216.600000\n",
      "predicted=216.727948, expected=214.650000\n",
      "predicted=214.278252, expected=214.100000\n",
      "predicted=213.108038, expected=216.800000\n",
      "predicted=216.318034, expected=218.100000\n",
      "predicted=217.789893, expected=213.440000\n",
      "predicted=211.778847, expected=211.750000\n",
      "predicted=209.356479, expected=209.220000\n",
      "predicted=208.067219, expected=210.155000\n",
      "predicted=210.170691, expected=207.700000\n",
      "predicted=207.604270, expected=207.360000\n",
      "predicted=206.836801, expected=207.280000\n"
     ]
    }
   ],
   "source": [
    "predictions = list()\n",
    "for t in range(len(test)):\n",
    "\tmodel = ARIMA(history, order=(5,1,0))\n",
    "\tmodel_fit = model.fit(disp=0)\n",
    "\toutput = model_fit.forecast()\n",
    "\tyhat = output[0]\n",
    "\tpredictions.append(yhat)\n",
    "\tobs = test[t]\n",
    "\thistory.append(obs)\n",
    "\tprint('predicted=%f, expected=%f' % (yhat, obs))"
   ]
  },
  {
   "cell_type": "code",
   "execution_count": 32,
   "metadata": {},
   "outputs": [
    {
     "name": "stdout",
     "output_type": "stream",
     "text": [
      "Test MSE: 19.002\n"
     ]
    }
   ],
   "source": [
    "error = mean_squared_error(test, predictions)\n",
    "print('Test MSE: %.3f' % error)"
   ]
  },
  {
   "cell_type": "code",
   "execution_count": 25,
   "metadata": {},
   "outputs": [
    {
     "data": {
      "text/plain": [
       "[<matplotlib.lines.Line2D at 0x1c9f7792220>]"
      ]
     },
     "execution_count": 25,
     "metadata": {},
     "output_type": "execute_result"
    },
    {
     "data": {
      "image/png": "[encoded data removed]",
      "text/plain": [
       "<Figure size 432x288 with 1 Axes>"
      ]
     },
     "metadata": {
      "needs_background": "light"
     },
     "output_type": "display_data"
    }
   ],
   "source": [
    "# plot\n",
    "pyplot.plot(test.values)\n",
    "pyplot.plot(predictions, color='red')\n",
    "# pyplot.show()"
   ]
  },
  {
   "cell_type": "code",
   "execution_count": null,
   "metadata": {},
   "outputs": [],
   "source": []
  }
 ],
 "metadata": {
  "kernelspec": {
   "display_name": "Python 3",
   "language": "python",
   "name": "python3"
  },
  "language_info": {
   "codemirror_mode": {
    "name": "ipython",
    "version": 3
   },
   "file_extension": ".py",
   "mimetype": "text/x-python",
   "name": "python",
   "nbconvert_exporter": "python",
   "pygments_lexer": "ipython3",
   "version": "3.8.3"
  }
 },
 "nbformat": 4,
 "nbformat_minor": 4
}
