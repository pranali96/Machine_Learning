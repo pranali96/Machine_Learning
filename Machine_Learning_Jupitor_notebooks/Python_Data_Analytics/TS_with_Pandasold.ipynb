{
 "cells": [
  {
   "cell_type": "code",
   "execution_count": 101,
   "metadata": {},
   "outputs": [],
   "source": [
    "import pandas as pd"
   ]
  },
  {
   "cell_type": "code",
   "execution_count": 102,
   "metadata": {},
   "outputs": [],
   "source": [
    "df=pd.read_csv(\"HistoricalQuotes.csv\")"
   ]
  },
  {
   "cell_type": "code",
   "execution_count": 103,
   "metadata": {},
   "outputs": [
    {
     "data": {
      "text/html": [
       "<div>\n",
       "<style scoped>\n",
       "    .dataframe tbody tr th:only-of-type {\n",
       "        vertical-align: middle;\n",
       "    }\n",
       "\n",
       "    .dataframe tbody tr th {\n",
       "        vertical-align: top;\n",
       "    }\n",
       "\n",
       "    .dataframe thead th {\n",
       "        text-align: right;\n",
       "    }\n",
       "</style>\n",
       "<table border=\"1\" class=\"dataframe\">\n",
       "  <thead>\n",
       "    <tr style=\"text-align: right;\">\n",
       "      <th></th>\n",
       "      <th>date</th>\n",
       "      <th>close</th>\n",
       "      <th>volume</th>\n",
       "      <th>open</th>\n",
       "      <th>high</th>\n",
       "      <th>low</th>\n",
       "    </tr>\n",
       "  </thead>\n",
       "  <tbody>\n",
       "    <tr>\n",
       "      <th>0</th>\n",
       "      <td>16:00</td>\n",
       "      <td>200.99</td>\n",
       "      <td>24,619,446</td>\n",
       "      <td>201.230</td>\n",
       "      <td>202.760</td>\n",
       "      <td>199.29</td>\n",
       "    </tr>\n",
       "    <tr>\n",
       "      <th>1</th>\n",
       "      <td>2019/08/09</td>\n",
       "      <td>200.99</td>\n",
       "      <td>24619750.0000</td>\n",
       "      <td>201.300</td>\n",
       "      <td>202.760</td>\n",
       "      <td>199.29</td>\n",
       "    </tr>\n",
       "    <tr>\n",
       "      <th>2</th>\n",
       "      <td>2019/08/08</td>\n",
       "      <td>203.43</td>\n",
       "      <td>27009520.0000</td>\n",
       "      <td>200.200</td>\n",
       "      <td>203.530</td>\n",
       "      <td>199.39</td>\n",
       "    </tr>\n",
       "    <tr>\n",
       "      <th>3</th>\n",
       "      <td>2019/08/07</td>\n",
       "      <td>199.04</td>\n",
       "      <td>33364400.0000</td>\n",
       "      <td>195.410</td>\n",
       "      <td>199.560</td>\n",
       "      <td>193.82</td>\n",
       "    </tr>\n",
       "    <tr>\n",
       "      <th>4</th>\n",
       "      <td>2019/08/06</td>\n",
       "      <td>197.00</td>\n",
       "      <td>35824790.0000</td>\n",
       "      <td>196.310</td>\n",
       "      <td>198.067</td>\n",
       "      <td>194.04</td>\n",
       "    </tr>\n",
       "    <tr>\n",
       "      <th>...</th>\n",
       "      <td>...</td>\n",
       "      <td>...</td>\n",
       "      <td>...</td>\n",
       "      <td>...</td>\n",
       "      <td>...</td>\n",
       "      <td>...</td>\n",
       "    </tr>\n",
       "    <tr>\n",
       "      <th>248</th>\n",
       "      <td>2018/08/15</td>\n",
       "      <td>210.24</td>\n",
       "      <td>28595230.0000</td>\n",
       "      <td>209.220</td>\n",
       "      <td>210.740</td>\n",
       "      <td>208.33</td>\n",
       "    </tr>\n",
       "    <tr>\n",
       "      <th>249</th>\n",
       "      <td>2018/08/14</td>\n",
       "      <td>209.75</td>\n",
       "      <td>20679270.0000</td>\n",
       "      <td>210.155</td>\n",
       "      <td>210.560</td>\n",
       "      <td>208.26</td>\n",
       "    </tr>\n",
       "    <tr>\n",
       "      <th>250</th>\n",
       "      <td>2018/08/13</td>\n",
       "      <td>208.87</td>\n",
       "      <td>25864510.0000</td>\n",
       "      <td>207.700</td>\n",
       "      <td>210.952</td>\n",
       "      <td>207.70</td>\n",
       "    </tr>\n",
       "    <tr>\n",
       "      <th>251</th>\n",
       "      <td>2018/08/10</td>\n",
       "      <td>207.53</td>\n",
       "      <td>24592460.0000</td>\n",
       "      <td>207.360</td>\n",
       "      <td>209.100</td>\n",
       "      <td>206.67</td>\n",
       "    </tr>\n",
       "    <tr>\n",
       "      <th>252</th>\n",
       "      <td>2018/08/09</td>\n",
       "      <td>208.88</td>\n",
       "      <td>23389530.0000</td>\n",
       "      <td>207.280</td>\n",
       "      <td>209.780</td>\n",
       "      <td>207.20</td>\n",
       "    </tr>\n",
       "  </tbody>\n",
       "</table>\n",
       "<p>253 rows × 6 columns</p>\n",
       "</div>"
      ],
      "text/plain": [
       "           date   close         volume     open     high     low\n",
       "0         16:00  200.99     24,619,446  201.230  202.760  199.29\n",
       "1    2019/08/09  200.99  24619750.0000  201.300  202.760  199.29\n",
       "2    2019/08/08  203.43  27009520.0000  200.200  203.530  199.39\n",
       "3    2019/08/07  199.04  33364400.0000  195.410  199.560  193.82\n",
       "4    2019/08/06  197.00  35824790.0000  196.310  198.067  194.04\n",
       "..          ...     ...            ...      ...      ...     ...\n",
       "248  2018/08/15  210.24  28595230.0000  209.220  210.740  208.33\n",
       "249  2018/08/14  209.75  20679270.0000  210.155  210.560  208.26\n",
       "250  2018/08/13  208.87  25864510.0000  207.700  210.952  207.70\n",
       "251  2018/08/10  207.53  24592460.0000  207.360  209.100  206.67\n",
       "252  2018/08/09  208.88  23389530.0000  207.280  209.780  207.20\n",
       "\n",
       "[253 rows x 6 columns]"
      ]
     },
     "execution_count": 103,
     "metadata": {},
     "output_type": "execute_result"
    }
   ],
   "source": [
    "df"
   ]
  },
  {
   "cell_type": "code",
   "execution_count": 104,
   "metadata": {},
   "outputs": [
    {
     "data": {
      "text/html": [
       "<div>\n",
       "<style scoped>\n",
       "    .dataframe tbody tr th:only-of-type {\n",
       "        vertical-align: middle;\n",
       "    }\n",
       "\n",
       "    .dataframe tbody tr th {\n",
       "        vertical-align: top;\n",
       "    }\n",
       "\n",
       "    .dataframe thead th {\n",
       "        text-align: right;\n",
       "    }\n",
       "</style>\n",
       "<table border=\"1\" class=\"dataframe\">\n",
       "  <thead>\n",
       "    <tr style=\"text-align: right;\">\n",
       "      <th></th>\n",
       "      <th>date</th>\n",
       "      <th>close</th>\n",
       "      <th>volume</th>\n",
       "      <th>open</th>\n",
       "      <th>high</th>\n",
       "      <th>low</th>\n",
       "    </tr>\n",
       "  </thead>\n",
       "  <tbody>\n",
       "    <tr>\n",
       "      <th>0</th>\n",
       "      <td>16:00</td>\n",
       "      <td>200.99</td>\n",
       "      <td>24,619,446</td>\n",
       "      <td>201.23</td>\n",
       "      <td>202.760</td>\n",
       "      <td>199.29</td>\n",
       "    </tr>\n",
       "    <tr>\n",
       "      <th>1</th>\n",
       "      <td>2019/08/09</td>\n",
       "      <td>200.99</td>\n",
       "      <td>24619750.0000</td>\n",
       "      <td>201.30</td>\n",
       "      <td>202.760</td>\n",
       "      <td>199.29</td>\n",
       "    </tr>\n",
       "    <tr>\n",
       "      <th>2</th>\n",
       "      <td>2019/08/08</td>\n",
       "      <td>203.43</td>\n",
       "      <td>27009520.0000</td>\n",
       "      <td>200.20</td>\n",
       "      <td>203.530</td>\n",
       "      <td>199.39</td>\n",
       "    </tr>\n",
       "    <tr>\n",
       "      <th>3</th>\n",
       "      <td>2019/08/07</td>\n",
       "      <td>199.04</td>\n",
       "      <td>33364400.0000</td>\n",
       "      <td>195.41</td>\n",
       "      <td>199.560</td>\n",
       "      <td>193.82</td>\n",
       "    </tr>\n",
       "    <tr>\n",
       "      <th>4</th>\n",
       "      <td>2019/08/06</td>\n",
       "      <td>197.00</td>\n",
       "      <td>35824790.0000</td>\n",
       "      <td>196.31</td>\n",
       "      <td>198.067</td>\n",
       "      <td>194.04</td>\n",
       "    </tr>\n",
       "  </tbody>\n",
       "</table>\n",
       "</div>"
      ],
      "text/plain": [
       "         date   close         volume    open     high     low\n",
       "0       16:00  200.99     24,619,446  201.23  202.760  199.29\n",
       "1  2019/08/09  200.99  24619750.0000  201.30  202.760  199.29\n",
       "2  2019/08/08  203.43  27009520.0000  200.20  203.530  199.39\n",
       "3  2019/08/07  199.04  33364400.0000  195.41  199.560  193.82\n",
       "4  2019/08/06  197.00  35824790.0000  196.31  198.067  194.04"
      ]
     },
     "execution_count": 104,
     "metadata": {},
     "output_type": "execute_result"
    }
   ],
   "source": [
    "df.head()"
   ]
  },
  {
   "cell_type": "code",
   "execution_count": 105,
   "metadata": {},
   "outputs": [
    {
     "data": {
      "text/plain": [
       "str"
      ]
     },
     "execution_count": 105,
     "metadata": {},
     "output_type": "execute_result"
    }
   ],
   "source": [
    "type(df.date[0])"
   ]
  },
  {
   "cell_type": "code",
   "execution_count": 106,
   "metadata": {},
   "outputs": [],
   "source": [
    "df=pd.read_csv(\"HistoricalQuotes.csv\", parse_dates=[\"date\"])"
   ]
  },
  {
   "cell_type": "code",
   "execution_count": 107,
   "metadata": {},
   "outputs": [
    {
     "data": {
      "text/plain": [
       "pandas._libs.tslibs.timestamps.Timestamp"
      ]
     },
     "execution_count": 107,
     "metadata": {},
     "output_type": "execute_result"
    }
   ],
   "source": [
    "type(df.date[0])"
   ]
  },
  {
   "cell_type": "code",
   "execution_count": 108,
   "metadata": {},
   "outputs": [
    {
     "data": {
      "text/html": [
       "<div>\n",
       "<style scoped>\n",
       "    .dataframe tbody tr th:only-of-type {\n",
       "        vertical-align: middle;\n",
       "    }\n",
       "\n",
       "    .dataframe tbody tr th {\n",
       "        vertical-align: top;\n",
       "    }\n",
       "\n",
       "    .dataframe thead th {\n",
       "        text-align: right;\n",
       "    }\n",
       "</style>\n",
       "<table border=\"1\" class=\"dataframe\">\n",
       "  <thead>\n",
       "    <tr style=\"text-align: right;\">\n",
       "      <th></th>\n",
       "      <th>date</th>\n",
       "      <th>close</th>\n",
       "      <th>volume</th>\n",
       "      <th>open</th>\n",
       "      <th>high</th>\n",
       "      <th>low</th>\n",
       "    </tr>\n",
       "  </thead>\n",
       "  <tbody>\n",
       "    <tr>\n",
       "      <th>0</th>\n",
       "      <td>2020-09-05 16:00:00</td>\n",
       "      <td>200.99</td>\n",
       "      <td>24,619,446</td>\n",
       "      <td>201.23</td>\n",
       "      <td>202.760</td>\n",
       "      <td>199.29</td>\n",
       "    </tr>\n",
       "    <tr>\n",
       "      <th>1</th>\n",
       "      <td>2019-08-09 00:00:00</td>\n",
       "      <td>200.99</td>\n",
       "      <td>24619750.0000</td>\n",
       "      <td>201.30</td>\n",
       "      <td>202.760</td>\n",
       "      <td>199.29</td>\n",
       "    </tr>\n",
       "    <tr>\n",
       "      <th>2</th>\n",
       "      <td>2019-08-08 00:00:00</td>\n",
       "      <td>203.43</td>\n",
       "      <td>27009520.0000</td>\n",
       "      <td>200.20</td>\n",
       "      <td>203.530</td>\n",
       "      <td>199.39</td>\n",
       "    </tr>\n",
       "    <tr>\n",
       "      <th>3</th>\n",
       "      <td>2019-08-07 00:00:00</td>\n",
       "      <td>199.04</td>\n",
       "      <td>33364400.0000</td>\n",
       "      <td>195.41</td>\n",
       "      <td>199.560</td>\n",
       "      <td>193.82</td>\n",
       "    </tr>\n",
       "    <tr>\n",
       "      <th>4</th>\n",
       "      <td>2019-08-06 00:00:00</td>\n",
       "      <td>197.00</td>\n",
       "      <td>35824790.0000</td>\n",
       "      <td>196.31</td>\n",
       "      <td>198.067</td>\n",
       "      <td>194.04</td>\n",
       "    </tr>\n",
       "  </tbody>\n",
       "</table>\n",
       "</div>"
      ],
      "text/plain": [
       "                 date   close         volume    open     high     low\n",
       "0 2020-09-05 16:00:00  200.99     24,619,446  201.23  202.760  199.29\n",
       "1 2019-08-09 00:00:00  200.99  24619750.0000  201.30  202.760  199.29\n",
       "2 2019-08-08 00:00:00  203.43  27009520.0000  200.20  203.530  199.39\n",
       "3 2019-08-07 00:00:00  199.04  33364400.0000  195.41  199.560  193.82\n",
       "4 2019-08-06 00:00:00  197.00  35824790.0000  196.31  198.067  194.04"
      ]
     },
     "execution_count": 108,
     "metadata": {},
     "output_type": "execute_result"
    }
   ],
   "source": [
    "df.head()"
   ]
  },
  {
   "cell_type": "code",
   "execution_count": 109,
   "metadata": {},
   "outputs": [],
   "source": [
    "df=pd.read_csv(\"HistoricalQuotes.csv\", parse_dates=[\"date\"], index_col=['date'])"
   ]
  },
  {
   "cell_type": "code",
   "execution_count": 110,
   "metadata": {},
   "outputs": [
    {
     "data": {
      "text/html": [
       "<div>\n",
       "<style scoped>\n",
       "    .dataframe tbody tr th:only-of-type {\n",
       "        vertical-align: middle;\n",
       "    }\n",
       "\n",
       "    .dataframe tbody tr th {\n",
       "        vertical-align: top;\n",
       "    }\n",
       "\n",
       "    .dataframe thead th {\n",
       "        text-align: right;\n",
       "    }\n",
       "</style>\n",
       "<table border=\"1\" class=\"dataframe\">\n",
       "  <thead>\n",
       "    <tr style=\"text-align: right;\">\n",
       "      <th></th>\n",
       "      <th>close</th>\n",
       "      <th>volume</th>\n",
       "      <th>open</th>\n",
       "      <th>high</th>\n",
       "      <th>low</th>\n",
       "    </tr>\n",
       "    <tr>\n",
       "      <th>date</th>\n",
       "      <th></th>\n",
       "      <th></th>\n",
       "      <th></th>\n",
       "      <th></th>\n",
       "      <th></th>\n",
       "    </tr>\n",
       "  </thead>\n",
       "  <tbody>\n",
       "    <tr>\n",
       "      <th>2020-09-05 16:00:00</th>\n",
       "      <td>200.99</td>\n",
       "      <td>24,619,446</td>\n",
       "      <td>201.230</td>\n",
       "      <td>202.760</td>\n",
       "      <td>199.29</td>\n",
       "    </tr>\n",
       "    <tr>\n",
       "      <th>2019-08-09 00:00:00</th>\n",
       "      <td>200.99</td>\n",
       "      <td>24619750.0000</td>\n",
       "      <td>201.300</td>\n",
       "      <td>202.760</td>\n",
       "      <td>199.29</td>\n",
       "    </tr>\n",
       "    <tr>\n",
       "      <th>2019-08-08 00:00:00</th>\n",
       "      <td>203.43</td>\n",
       "      <td>27009520.0000</td>\n",
       "      <td>200.200</td>\n",
       "      <td>203.530</td>\n",
       "      <td>199.39</td>\n",
       "    </tr>\n",
       "    <tr>\n",
       "      <th>2019-08-07 00:00:00</th>\n",
       "      <td>199.04</td>\n",
       "      <td>33364400.0000</td>\n",
       "      <td>195.410</td>\n",
       "      <td>199.560</td>\n",
       "      <td>193.82</td>\n",
       "    </tr>\n",
       "    <tr>\n",
       "      <th>2019-08-06 00:00:00</th>\n",
       "      <td>197.00</td>\n",
       "      <td>35824790.0000</td>\n",
       "      <td>196.310</td>\n",
       "      <td>198.067</td>\n",
       "      <td>194.04</td>\n",
       "    </tr>\n",
       "    <tr>\n",
       "      <th>...</th>\n",
       "      <td>...</td>\n",
       "      <td>...</td>\n",
       "      <td>...</td>\n",
       "      <td>...</td>\n",
       "      <td>...</td>\n",
       "    </tr>\n",
       "    <tr>\n",
       "      <th>2018-08-15 00:00:00</th>\n",
       "      <td>210.24</td>\n",
       "      <td>28595230.0000</td>\n",
       "      <td>209.220</td>\n",
       "      <td>210.740</td>\n",
       "      <td>208.33</td>\n",
       "    </tr>\n",
       "    <tr>\n",
       "      <th>2018-08-14 00:00:00</th>\n",
       "      <td>209.75</td>\n",
       "      <td>20679270.0000</td>\n",
       "      <td>210.155</td>\n",
       "      <td>210.560</td>\n",
       "      <td>208.26</td>\n",
       "    </tr>\n",
       "    <tr>\n",
       "      <th>2018-08-13 00:00:00</th>\n",
       "      <td>208.87</td>\n",
       "      <td>25864510.0000</td>\n",
       "      <td>207.700</td>\n",
       "      <td>210.952</td>\n",
       "      <td>207.70</td>\n",
       "    </tr>\n",
       "    <tr>\n",
       "      <th>2018-08-10 00:00:00</th>\n",
       "      <td>207.53</td>\n",
       "      <td>24592460.0000</td>\n",
       "      <td>207.360</td>\n",
       "      <td>209.100</td>\n",
       "      <td>206.67</td>\n",
       "    </tr>\n",
       "    <tr>\n",
       "      <th>2018-08-09 00:00:00</th>\n",
       "      <td>208.88</td>\n",
       "      <td>23389530.0000</td>\n",
       "      <td>207.280</td>\n",
       "      <td>209.780</td>\n",
       "      <td>207.20</td>\n",
       "    </tr>\n",
       "  </tbody>\n",
       "</table>\n",
       "<p>253 rows × 5 columns</p>\n",
       "</div>"
      ],
      "text/plain": [
       "                      close         volume     open     high     low\n",
       "date                                                                \n",
       "2020-09-05 16:00:00  200.99     24,619,446  201.230  202.760  199.29\n",
       "2019-08-09 00:00:00  200.99  24619750.0000  201.300  202.760  199.29\n",
       "2019-08-08 00:00:00  203.43  27009520.0000  200.200  203.530  199.39\n",
       "2019-08-07 00:00:00  199.04  33364400.0000  195.410  199.560  193.82\n",
       "2019-08-06 00:00:00  197.00  35824790.0000  196.310  198.067  194.04\n",
       "...                     ...            ...      ...      ...     ...\n",
       "2018-08-15 00:00:00  210.24  28595230.0000  209.220  210.740  208.33\n",
       "2018-08-14 00:00:00  209.75  20679270.0000  210.155  210.560  208.26\n",
       "2018-08-13 00:00:00  208.87  25864510.0000  207.700  210.952  207.70\n",
       "2018-08-10 00:00:00  207.53  24592460.0000  207.360  209.100  206.67\n",
       "2018-08-09 00:00:00  208.88  23389530.0000  207.280  209.780  207.20\n",
       "\n",
       "[253 rows x 5 columns]"
      ]
     },
     "execution_count": 110,
     "metadata": {},
     "output_type": "execute_result"
    }
   ],
   "source": [
    "df"
   ]
  },
  {
   "cell_type": "code",
   "execution_count": 111,
   "metadata": {},
   "outputs": [],
   "source": [
    "df.sort_index(inplace=True)\n"
   ]
  },
  {
   "cell_type": "code",
   "execution_count": 112,
   "metadata": {},
   "outputs": [
    {
     "data": {
      "text/plain": [
       "DatetimeIndex(['2018-08-09 00:00:00', '2018-08-10 00:00:00',\n",
       "               '2018-08-13 00:00:00', '2018-08-14 00:00:00',\n",
       "               '2018-08-15 00:00:00', '2018-08-16 00:00:00',\n",
       "               '2018-08-17 00:00:00', '2018-08-20 00:00:00',\n",
       "               '2018-08-21 00:00:00', '2018-08-22 00:00:00',\n",
       "               ...\n",
       "               '2019-07-30 00:00:00', '2019-07-31 00:00:00',\n",
       "               '2019-08-01 00:00:00', '2019-08-02 00:00:00',\n",
       "               '2019-08-05 00:00:00', '2019-08-06 00:00:00',\n",
       "               '2019-08-07 00:00:00', '2019-08-08 00:00:00',\n",
       "               '2019-08-09 00:00:00', '2020-09-05 16:00:00'],\n",
       "              dtype='datetime64[ns]', name='date', length=253, freq=None)"
      ]
     },
     "execution_count": 112,
     "metadata": {},
     "output_type": "execute_result"
    }
   ],
   "source": [
    "df.index"
   ]
  },
  {
   "cell_type": "code",
   "execution_count": 113,
   "metadata": {},
   "outputs": [
    {
     "data": {
      "text/html": [
       "<div>\n",
       "<style scoped>\n",
       "    .dataframe tbody tr th:only-of-type {\n",
       "        vertical-align: middle;\n",
       "    }\n",
       "\n",
       "    .dataframe tbody tr th {\n",
       "        vertical-align: top;\n",
       "    }\n",
       "\n",
       "    .dataframe thead th {\n",
       "        text-align: right;\n",
       "    }\n",
       "</style>\n",
       "<table border=\"1\" class=\"dataframe\">\n",
       "  <thead>\n",
       "    <tr style=\"text-align: right;\">\n",
       "      <th></th>\n",
       "      <th>close</th>\n",
       "      <th>volume</th>\n",
       "      <th>open</th>\n",
       "      <th>high</th>\n",
       "      <th>low</th>\n",
       "    </tr>\n",
       "    <tr>\n",
       "      <th>date</th>\n",
       "      <th></th>\n",
       "      <th></th>\n",
       "      <th></th>\n",
       "      <th></th>\n",
       "      <th></th>\n",
       "    </tr>\n",
       "  </thead>\n",
       "  <tbody>\n",
       "    <tr>\n",
       "      <th>2019-08-01</th>\n",
       "      <td>208.43</td>\n",
       "      <td>54017920.0000</td>\n",
       "      <td>213.90</td>\n",
       "      <td>218.030</td>\n",
       "      <td>206.7435</td>\n",
       "    </tr>\n",
       "    <tr>\n",
       "      <th>2019-08-02</th>\n",
       "      <td>204.02</td>\n",
       "      <td>40862120.0000</td>\n",
       "      <td>205.53</td>\n",
       "      <td>206.430</td>\n",
       "      <td>201.6300</td>\n",
       "    </tr>\n",
       "    <tr>\n",
       "      <th>2019-08-05</th>\n",
       "      <td>193.34</td>\n",
       "      <td>52392970.0000</td>\n",
       "      <td>197.99</td>\n",
       "      <td>198.649</td>\n",
       "      <td>192.5800</td>\n",
       "    </tr>\n",
       "    <tr>\n",
       "      <th>2019-08-06</th>\n",
       "      <td>197.00</td>\n",
       "      <td>35824790.0000</td>\n",
       "      <td>196.31</td>\n",
       "      <td>198.067</td>\n",
       "      <td>194.0400</td>\n",
       "    </tr>\n",
       "    <tr>\n",
       "      <th>2019-08-07</th>\n",
       "      <td>199.04</td>\n",
       "      <td>33364400.0000</td>\n",
       "      <td>195.41</td>\n",
       "      <td>199.560</td>\n",
       "      <td>193.8200</td>\n",
       "    </tr>\n",
       "    <tr>\n",
       "      <th>2019-08-08</th>\n",
       "      <td>203.43</td>\n",
       "      <td>27009520.0000</td>\n",
       "      <td>200.20</td>\n",
       "      <td>203.530</td>\n",
       "      <td>199.3900</td>\n",
       "    </tr>\n",
       "    <tr>\n",
       "      <th>2019-08-09</th>\n",
       "      <td>200.99</td>\n",
       "      <td>24619750.0000</td>\n",
       "      <td>201.30</td>\n",
       "      <td>202.760</td>\n",
       "      <td>199.2900</td>\n",
       "    </tr>\n",
       "  </tbody>\n",
       "</table>\n",
       "</div>"
      ],
      "text/plain": [
       "             close         volume    open     high       low\n",
       "date                                                        \n",
       "2019-08-01  208.43  54017920.0000  213.90  218.030  206.7435\n",
       "2019-08-02  204.02  40862120.0000  205.53  206.430  201.6300\n",
       "2019-08-05  193.34  52392970.0000  197.99  198.649  192.5800\n",
       "2019-08-06  197.00  35824790.0000  196.31  198.067  194.0400\n",
       "2019-08-07  199.04  33364400.0000  195.41  199.560  193.8200\n",
       "2019-08-08  203.43  27009520.0000  200.20  203.530  199.3900\n",
       "2019-08-09  200.99  24619750.0000  201.30  202.760  199.2900"
      ]
     },
     "execution_count": 113,
     "metadata": {},
     "output_type": "execute_result"
    }
   ],
   "source": [
    "df['2019-08']"
   ]
  },
  {
   "cell_type": "code",
   "execution_count": 114,
   "metadata": {},
   "outputs": [
    {
     "data": {
      "text/plain": [
       "date\n",
       "2019-08-01    208.43\n",
       "2019-08-02    204.02\n",
       "2019-08-05    193.34\n",
       "2019-08-06    197.00\n",
       "2019-08-07    199.04\n",
       "2019-08-08    203.43\n",
       "2019-08-09    200.99\n",
       "Name: close, dtype: float64"
      ]
     },
     "execution_count": 114,
     "metadata": {},
     "output_type": "execute_result"
    }
   ],
   "source": [
    "df['2019-08'].close"
   ]
  },
  {
   "cell_type": "code",
   "execution_count": 115,
   "metadata": {},
   "outputs": [
    {
     "data": {
      "text/plain": [
       "200.89285714285714"
      ]
     },
     "execution_count": 115,
     "metadata": {},
     "output_type": "execute_result"
    }
   ],
   "source": [
    "df['2019-08'].close.mean()"
   ]
  },
  {
   "cell_type": "code",
   "execution_count": 116,
   "metadata": {},
   "outputs": [
    {
     "data": {
      "text/plain": [
       "200.99"
      ]
     },
     "execution_count": 116,
     "metadata": {},
     "output_type": "execute_result"
    }
   ],
   "source": [
    "df['2019-08'].close.median()"
   ]
  },
  {
   "cell_type": "code",
   "execution_count": 117,
   "metadata": {},
   "outputs": [
    {
     "data": {
      "text/plain": [
       "0    193.34\n",
       "1    197.00\n",
       "2    199.04\n",
       "3    200.99\n",
       "4    203.43\n",
       "5    204.02\n",
       "6    208.43\n",
       "dtype: float64"
      ]
     },
     "execution_count": 117,
     "metadata": {},
     "output_type": "execute_result"
    }
   ],
   "source": [
    "df['2019-08'].close.mode()"
   ]
  },
  {
   "cell_type": "code",
   "execution_count": 118,
   "metadata": {},
   "outputs": [
    {
     "data": {
      "text/html": [
       "<div>\n",
       "<style scoped>\n",
       "    .dataframe tbody tr th:only-of-type {\n",
       "        vertical-align: middle;\n",
       "    }\n",
       "\n",
       "    .dataframe tbody tr th {\n",
       "        vertical-align: top;\n",
       "    }\n",
       "\n",
       "    .dataframe thead th {\n",
       "        text-align: right;\n",
       "    }\n",
       "</style>\n",
       "<table border=\"1\" class=\"dataframe\">\n",
       "  <thead>\n",
       "    <tr style=\"text-align: right;\">\n",
       "      <th></th>\n",
       "      <th>close</th>\n",
       "      <th>volume</th>\n",
       "      <th>open</th>\n",
       "      <th>high</th>\n",
       "      <th>low</th>\n",
       "    </tr>\n",
       "    <tr>\n",
       "      <th>date</th>\n",
       "      <th></th>\n",
       "      <th></th>\n",
       "      <th></th>\n",
       "      <th></th>\n",
       "      <th></th>\n",
       "    </tr>\n",
       "  </thead>\n",
       "  <tbody>\n",
       "    <tr>\n",
       "      <th>2019-08-02</th>\n",
       "      <td>204.02</td>\n",
       "      <td>40862120.0000</td>\n",
       "      <td>205.53</td>\n",
       "      <td>206.43</td>\n",
       "      <td>201.63</td>\n",
       "    </tr>\n",
       "  </tbody>\n",
       "</table>\n",
       "</div>"
      ],
      "text/plain": [
       "             close         volume    open    high     low\n",
       "date                                                     \n",
       "2019-08-02  204.02  40862120.0000  205.53  206.43  201.63"
      ]
     },
     "execution_count": 118,
     "metadata": {},
     "output_type": "execute_result"
    }
   ],
   "source": [
    "df['2019-08-02']"
   ]
  },
  {
   "cell_type": "code",
   "execution_count": 119,
   "metadata": {},
   "outputs": [
    {
     "data": {
      "text/html": [
       "<div>\n",
       "<style scoped>\n",
       "    .dataframe tbody tr th:only-of-type {\n",
       "        vertical-align: middle;\n",
       "    }\n",
       "\n",
       "    .dataframe tbody tr th {\n",
       "        vertical-align: top;\n",
       "    }\n",
       "\n",
       "    .dataframe thead th {\n",
       "        text-align: right;\n",
       "    }\n",
       "</style>\n",
       "<table border=\"1\" class=\"dataframe\">\n",
       "  <thead>\n",
       "    <tr style=\"text-align: right;\">\n",
       "      <th></th>\n",
       "      <th>close</th>\n",
       "      <th>volume</th>\n",
       "      <th>open</th>\n",
       "      <th>high</th>\n",
       "      <th>low</th>\n",
       "    </tr>\n",
       "    <tr>\n",
       "      <th>date</th>\n",
       "      <th></th>\n",
       "      <th></th>\n",
       "      <th></th>\n",
       "      <th></th>\n",
       "      <th></th>\n",
       "    </tr>\n",
       "  </thead>\n",
       "  <tbody>\n",
       "    <tr>\n",
       "      <th>2019-07-09</th>\n",
       "      <td>201.24</td>\n",
       "      <td>20578020.0000</td>\n",
       "      <td>199.20</td>\n",
       "      <td>201.5100</td>\n",
       "      <td>198.8100</td>\n",
       "    </tr>\n",
       "    <tr>\n",
       "      <th>2019-07-10</th>\n",
       "      <td>203.23</td>\n",
       "      <td>17897140.0000</td>\n",
       "      <td>201.85</td>\n",
       "      <td>203.7300</td>\n",
       "      <td>201.5600</td>\n",
       "    </tr>\n",
       "    <tr>\n",
       "      <th>2019-07-11</th>\n",
       "      <td>201.75</td>\n",
       "      <td>20191840.0000</td>\n",
       "      <td>203.31</td>\n",
       "      <td>204.3900</td>\n",
       "      <td>201.7100</td>\n",
       "    </tr>\n",
       "    <tr>\n",
       "      <th>2019-07-12</th>\n",
       "      <td>203.30</td>\n",
       "      <td>17595210.0000</td>\n",
       "      <td>202.45</td>\n",
       "      <td>204.0000</td>\n",
       "      <td>202.2000</td>\n",
       "    </tr>\n",
       "    <tr>\n",
       "      <th>2019-07-15</th>\n",
       "      <td>205.21</td>\n",
       "      <td>16947420.0000</td>\n",
       "      <td>204.09</td>\n",
       "      <td>205.8700</td>\n",
       "      <td>204.0000</td>\n",
       "    </tr>\n",
       "    <tr>\n",
       "      <th>2019-07-16</th>\n",
       "      <td>204.50</td>\n",
       "      <td>16866820.0000</td>\n",
       "      <td>204.59</td>\n",
       "      <td>206.1100</td>\n",
       "      <td>203.5000</td>\n",
       "    </tr>\n",
       "    <tr>\n",
       "      <th>2019-07-17</th>\n",
       "      <td>203.35</td>\n",
       "      <td>14107450.0000</td>\n",
       "      <td>204.05</td>\n",
       "      <td>205.0915</td>\n",
       "      <td>203.2700</td>\n",
       "    </tr>\n",
       "    <tr>\n",
       "      <th>2019-07-18</th>\n",
       "      <td>205.66</td>\n",
       "      <td>18582160.0000</td>\n",
       "      <td>204.00</td>\n",
       "      <td>205.8800</td>\n",
       "      <td>203.7000</td>\n",
       "    </tr>\n",
       "    <tr>\n",
       "      <th>2019-07-19</th>\n",
       "      <td>202.59</td>\n",
       "      <td>20929310.0000</td>\n",
       "      <td>205.79</td>\n",
       "      <td>206.5000</td>\n",
       "      <td>202.3600</td>\n",
       "    </tr>\n",
       "    <tr>\n",
       "      <th>2019-07-22</th>\n",
       "      <td>207.22</td>\n",
       "      <td>22277930.0000</td>\n",
       "      <td>203.65</td>\n",
       "      <td>207.2300</td>\n",
       "      <td>203.6100</td>\n",
       "    </tr>\n",
       "    <tr>\n",
       "      <th>2019-07-23</th>\n",
       "      <td>208.84</td>\n",
       "      <td>18355210.0000</td>\n",
       "      <td>208.46</td>\n",
       "      <td>208.9100</td>\n",
       "      <td>207.2900</td>\n",
       "    </tr>\n",
       "    <tr>\n",
       "      <th>2019-07-24</th>\n",
       "      <td>208.67</td>\n",
       "      <td>14991570.0000</td>\n",
       "      <td>207.67</td>\n",
       "      <td>209.1500</td>\n",
       "      <td>207.1700</td>\n",
       "    </tr>\n",
       "    <tr>\n",
       "      <th>2019-07-25</th>\n",
       "      <td>207.02</td>\n",
       "      <td>13909560.0000</td>\n",
       "      <td>208.89</td>\n",
       "      <td>209.2400</td>\n",
       "      <td>206.7300</td>\n",
       "    </tr>\n",
       "    <tr>\n",
       "      <th>2019-07-26</th>\n",
       "      <td>207.74</td>\n",
       "      <td>17618870.0000</td>\n",
       "      <td>207.48</td>\n",
       "      <td>209.7300</td>\n",
       "      <td>207.1400</td>\n",
       "    </tr>\n",
       "    <tr>\n",
       "      <th>2019-07-29</th>\n",
       "      <td>209.68</td>\n",
       "      <td>21673390.0000</td>\n",
       "      <td>208.46</td>\n",
       "      <td>210.6400</td>\n",
       "      <td>208.4400</td>\n",
       "    </tr>\n",
       "    <tr>\n",
       "      <th>2019-07-30</th>\n",
       "      <td>208.78</td>\n",
       "      <td>33935720.0000</td>\n",
       "      <td>208.76</td>\n",
       "      <td>210.1600</td>\n",
       "      <td>207.3100</td>\n",
       "    </tr>\n",
       "    <tr>\n",
       "      <th>2019-07-31</th>\n",
       "      <td>213.04</td>\n",
       "      <td>69281360.0000</td>\n",
       "      <td>216.42</td>\n",
       "      <td>221.3700</td>\n",
       "      <td>211.3000</td>\n",
       "    </tr>\n",
       "    <tr>\n",
       "      <th>2019-08-01</th>\n",
       "      <td>208.43</td>\n",
       "      <td>54017920.0000</td>\n",
       "      <td>213.90</td>\n",
       "      <td>218.0300</td>\n",
       "      <td>206.7435</td>\n",
       "    </tr>\n",
       "    <tr>\n",
       "      <th>2019-08-02</th>\n",
       "      <td>204.02</td>\n",
       "      <td>40862120.0000</td>\n",
       "      <td>205.53</td>\n",
       "      <td>206.4300</td>\n",
       "      <td>201.6300</td>\n",
       "    </tr>\n",
       "    <tr>\n",
       "      <th>2019-08-05</th>\n",
       "      <td>193.34</td>\n",
       "      <td>52392970.0000</td>\n",
       "      <td>197.99</td>\n",
       "      <td>198.6490</td>\n",
       "      <td>192.5800</td>\n",
       "    </tr>\n",
       "    <tr>\n",
       "      <th>2019-08-06</th>\n",
       "      <td>197.00</td>\n",
       "      <td>35824790.0000</td>\n",
       "      <td>196.31</td>\n",
       "      <td>198.0670</td>\n",
       "      <td>194.0400</td>\n",
       "    </tr>\n",
       "    <tr>\n",
       "      <th>2019-08-07</th>\n",
       "      <td>199.04</td>\n",
       "      <td>33364400.0000</td>\n",
       "      <td>195.41</td>\n",
       "      <td>199.5600</td>\n",
       "      <td>193.8200</td>\n",
       "    </tr>\n",
       "    <tr>\n",
       "      <th>2019-08-08</th>\n",
       "      <td>203.43</td>\n",
       "      <td>27009520.0000</td>\n",
       "      <td>200.20</td>\n",
       "      <td>203.5300</td>\n",
       "      <td>199.3900</td>\n",
       "    </tr>\n",
       "    <tr>\n",
       "      <th>2019-08-09</th>\n",
       "      <td>200.99</td>\n",
       "      <td>24619750.0000</td>\n",
       "      <td>201.30</td>\n",
       "      <td>202.7600</td>\n",
       "      <td>199.2900</td>\n",
       "    </tr>\n",
       "  </tbody>\n",
       "</table>\n",
       "</div>"
      ],
      "text/plain": [
       "             close         volume    open      high       low\n",
       "date                                                         \n",
       "2019-07-09  201.24  20578020.0000  199.20  201.5100  198.8100\n",
       "2019-07-10  203.23  17897140.0000  201.85  203.7300  201.5600\n",
       "2019-07-11  201.75  20191840.0000  203.31  204.3900  201.7100\n",
       "2019-07-12  203.30  17595210.0000  202.45  204.0000  202.2000\n",
       "2019-07-15  205.21  16947420.0000  204.09  205.8700  204.0000\n",
       "2019-07-16  204.50  16866820.0000  204.59  206.1100  203.5000\n",
       "2019-07-17  203.35  14107450.0000  204.05  205.0915  203.2700\n",
       "2019-07-18  205.66  18582160.0000  204.00  205.8800  203.7000\n",
       "2019-07-19  202.59  20929310.0000  205.79  206.5000  202.3600\n",
       "2019-07-22  207.22  22277930.0000  203.65  207.2300  203.6100\n",
       "2019-07-23  208.84  18355210.0000  208.46  208.9100  207.2900\n",
       "2019-07-24  208.67  14991570.0000  207.67  209.1500  207.1700\n",
       "2019-07-25  207.02  13909560.0000  208.89  209.2400  206.7300\n",
       "2019-07-26  207.74  17618870.0000  207.48  209.7300  207.1400\n",
       "2019-07-29  209.68  21673390.0000  208.46  210.6400  208.4400\n",
       "2019-07-30  208.78  33935720.0000  208.76  210.1600  207.3100\n",
       "2019-07-31  213.04  69281360.0000  216.42  221.3700  211.3000\n",
       "2019-08-01  208.43  54017920.0000  213.90  218.0300  206.7435\n",
       "2019-08-02  204.02  40862120.0000  205.53  206.4300  201.6300\n",
       "2019-08-05  193.34  52392970.0000  197.99  198.6490  192.5800\n",
       "2019-08-06  197.00  35824790.0000  196.31  198.0670  194.0400\n",
       "2019-08-07  199.04  33364400.0000  195.41  199.5600  193.8200\n",
       "2019-08-08  203.43  27009520.0000  200.20  203.5300  199.3900\n",
       "2019-08-09  200.99  24619750.0000  201.30  202.7600  199.2900"
      ]
     },
     "execution_count": 119,
     "metadata": {},
     "output_type": "execute_result"
    }
   ],
   "source": [
    "df['2019-07-09':'2019-08-09'] # Time :: count ticks from midnight 1/1/1971"
   ]
  },
  {
   "cell_type": "code",
   "execution_count": 120,
   "metadata": {},
   "outputs": [
    {
     "data": {
      "text/plain": [
       "[(Timestamp('2018-08-31 00:00:00', freq='M'),\n",
       "  date\n",
       "  2018-08-09    208.88\n",
       "  2018-08-10    207.53\n",
       "  2018-08-13    208.87\n",
       "  2018-08-14    209.75\n",
       "  2018-08-15    210.24\n",
       "  2018-08-16    213.32\n",
       "  2018-08-17    217.58\n",
       "  2018-08-20    215.46\n",
       "  2018-08-21    215.04\n",
       "  2018-08-22    215.05\n",
       "  2018-08-23    215.49\n",
       "  2018-08-24    216.16\n",
       "  2018-08-27    217.94\n",
       "  2018-08-28    219.70\n",
       "  2018-08-29    222.98\n",
       "  2018-08-30    225.03\n",
       "  2018-08-31    227.63\n",
       "  Name: close, dtype: float64),\n",
       " (Timestamp('2018-09-30 00:00:00', freq='M'),\n",
       "  date\n",
       "  2018-09-04    228.36\n",
       "  2018-09-05    226.87\n",
       "  2018-09-06    223.10\n",
       "  2018-09-07    221.30\n",
       "  2018-09-10    218.33\n",
       "  2018-09-11    223.85\n",
       "  2018-09-12    221.07\n",
       "  2018-09-13    226.41\n",
       "  2018-09-14    223.84\n",
       "  2018-09-17    217.88\n",
       "  2018-09-18    218.24\n",
       "  2018-09-19    218.37\n",
       "  2018-09-20    220.03\n",
       "  2018-09-21    217.66\n",
       "  2018-09-24    220.79\n",
       "  2018-09-25    222.19\n",
       "  2018-09-26    220.42\n",
       "  2018-09-27    224.95\n",
       "  2018-09-28    225.74\n",
       "  Name: close, dtype: float64),\n",
       " (Timestamp('2018-10-31 00:00:00', freq='M'),\n",
       "  date\n",
       "  2018-10-01    227.26\n",
       "  2018-10-02    229.28\n",
       "  2018-10-03    232.07\n",
       "  2018-10-04    227.99\n",
       "  2018-10-05    224.29\n",
       "  2018-10-08    223.77\n",
       "  2018-10-09    226.87\n",
       "  2018-10-10    216.36\n",
       "  2018-10-11    214.45\n",
       "  2018-10-12    222.11\n",
       "  2018-10-15    217.36\n",
       "  2018-10-16    222.15\n",
       "  2018-10-17    221.19\n",
       "  2018-10-18    216.02\n",
       "  2018-10-19    219.31\n",
       "  2018-10-22    220.65\n",
       "  2018-10-23    222.73\n",
       "  2018-10-24    215.09\n",
       "  2018-10-25    219.80\n",
       "  2018-10-26    216.30\n",
       "  2018-10-29    212.24\n",
       "  2018-10-30    213.30\n",
       "  2018-10-31    218.86\n",
       "  Name: close, dtype: float64),\n",
       " (Timestamp('2018-11-30 00:00:00', freq='M'),\n",
       "  date\n",
       "  2018-11-01    222.22\n",
       "  2018-11-02    207.48\n",
       "  2018-11-05    201.59\n",
       "  2018-11-06    203.77\n",
       "  2018-11-07    209.95\n",
       "  2018-11-08    208.49\n",
       "  2018-11-09    204.47\n",
       "  2018-11-12    194.17\n",
       "  2018-11-13    192.23\n",
       "  2018-11-14    186.80\n",
       "  2018-11-15    191.41\n",
       "  2018-11-16    193.53\n",
       "  2018-11-19    185.86\n",
       "  2018-11-20    176.98\n",
       "  2018-11-21    176.78\n",
       "  2018-11-23    172.29\n",
       "  2018-11-26    174.62\n",
       "  2018-11-27    174.24\n",
       "  2018-11-28    180.94\n",
       "  2018-11-29    179.55\n",
       "  2018-11-30    178.58\n",
       "  Name: close, dtype: float64),\n",
       " (Timestamp('2018-12-31 00:00:00', freq='M'),\n",
       "  date\n",
       "  2018-12-03    184.82\n",
       "  2018-12-04    176.69\n",
       "  2018-12-06    174.72\n",
       "  2018-12-07    168.49\n",
       "  2018-12-10    169.60\n",
       "  2018-12-11    168.63\n",
       "  2018-12-12    169.10\n",
       "  2018-12-13    170.95\n",
       "  2018-12-14    165.48\n",
       "  2018-12-17    163.94\n",
       "  2018-12-18    166.07\n",
       "  2018-12-19    160.89\n",
       "  2018-12-20    156.83\n",
       "  2018-12-21    150.73\n",
       "  2018-12-24    146.83\n",
       "  2018-12-26    157.17\n",
       "  2018-12-27    156.15\n",
       "  2018-12-28    156.23\n",
       "  2018-12-31    157.74\n",
       "  Name: close, dtype: float64),\n",
       " (Timestamp('2019-01-31 00:00:00', freq='M'),\n",
       "  date\n",
       "  2019-01-02    157.92\n",
       "  2019-01-03    142.19\n",
       "  2019-01-04    148.26\n",
       "  2019-01-07    147.93\n",
       "  2019-01-08    150.75\n",
       "  2019-01-09    153.31\n",
       "  2019-01-10    153.80\n",
       "  2019-01-11    152.29\n",
       "  2019-01-14    150.00\n",
       "  2019-01-15    153.07\n",
       "  2019-01-16    154.94\n",
       "  2019-01-17    155.86\n",
       "  2019-01-18    156.82\n",
       "  2019-01-22    153.30\n",
       "  2019-01-23    153.92\n",
       "  2019-01-24    152.70\n",
       "  2019-01-25    157.76\n",
       "  2019-01-28    156.30\n",
       "  2019-01-29    154.68\n",
       "  2019-01-30    165.25\n",
       "  2019-01-31    166.44\n",
       "  Name: close, dtype: float64),\n",
       " (Timestamp('2019-02-28 00:00:00', freq='M'),\n",
       "  date\n",
       "  2019-02-01    166.52\n",
       "  2019-02-04    171.25\n",
       "  2019-02-05    174.18\n",
       "  2019-02-06    174.24\n",
       "  2019-02-07    170.94\n",
       "  2019-02-08    170.41\n",
       "  2019-02-11    169.43\n",
       "  2019-02-12    170.89\n",
       "  2019-02-13    170.18\n",
       "  2019-02-14    170.80\n",
       "  2019-02-15    170.42\n",
       "  2019-02-19    170.93\n",
       "  2019-02-20    172.03\n",
       "  2019-02-21    171.06\n",
       "  2019-02-22    172.97\n",
       "  2019-02-25    174.23\n",
       "  2019-02-26    174.33\n",
       "  2019-02-27    174.87\n",
       "  2019-02-28    173.15\n",
       "  Name: close, dtype: float64),\n",
       " (Timestamp('2019-03-31 00:00:00', freq='M'),\n",
       "  date\n",
       "  2019-03-01    174.97\n",
       "  2019-03-04    175.85\n",
       "  2019-03-05    175.53\n",
       "  2019-03-06    174.52\n",
       "  2019-03-07    172.50\n",
       "  2019-03-08    172.91\n",
       "  2019-03-11    178.90\n",
       "  2019-03-12    180.91\n",
       "  2019-03-13    181.71\n",
       "  2019-03-14    183.73\n",
       "  2019-03-15    186.12\n",
       "  2019-03-18    188.02\n",
       "  2019-03-19    186.53\n",
       "  2019-03-20    188.16\n",
       "  2019-03-21    195.09\n",
       "  2019-03-22    191.05\n",
       "  2019-03-25    188.74\n",
       "  2019-03-26    186.79\n",
       "  2019-03-27    188.47\n",
       "  2019-03-28    188.72\n",
       "  2019-03-29    189.95\n",
       "  Name: close, dtype: float64),\n",
       " (Timestamp('2019-04-30 00:00:00', freq='M'),\n",
       "  date\n",
       "  2019-04-01    191.24\n",
       "  2019-04-02    194.02\n",
       "  2019-04-03    195.35\n",
       "  2019-04-04    195.69\n",
       "  2019-04-05    197.00\n",
       "  2019-04-08    200.10\n",
       "  2019-04-09    199.50\n",
       "  2019-04-10    200.62\n",
       "  2019-04-11    198.95\n",
       "  2019-04-12    198.87\n",
       "  2019-04-15    199.23\n",
       "  2019-04-16    199.25\n",
       "  2019-04-17    203.13\n",
       "  2019-04-18    203.86\n",
       "  2019-04-22    204.53\n",
       "  2019-04-23    207.48\n",
       "  2019-04-24    207.16\n",
       "  2019-04-25    205.28\n",
       "  2019-04-26    204.30\n",
       "  2019-04-29    204.61\n",
       "  2019-04-30    200.67\n",
       "  Name: close, dtype: float64),\n",
       " (Timestamp('2019-05-31 00:00:00', freq='M'),\n",
       "  date\n",
       "  2019-05-01    210.52\n",
       "  2019-05-02    209.15\n",
       "  2019-05-03    211.75\n",
       "  2019-05-06    208.48\n",
       "  2019-05-07    202.86\n",
       "  2019-05-08    202.90\n",
       "  2019-05-09    200.72\n",
       "  2019-05-10    197.18\n",
       "  2019-05-13    185.72\n",
       "  2019-05-14    188.66\n",
       "  2019-05-15    190.92\n",
       "  2019-05-16    190.08\n",
       "  2019-05-17    189.00\n",
       "  2019-05-20    183.09\n",
       "  2019-05-21    186.60\n",
       "  2019-05-22    182.78\n",
       "  2019-05-23    179.66\n",
       "  2019-05-24    178.97\n",
       "  2019-05-28    178.23\n",
       "  2019-05-29    177.38\n",
       "  2019-05-30    178.30\n",
       "  2019-05-31    175.07\n",
       "  Name: close, dtype: float64),\n",
       " (Timestamp('2019-06-30 00:00:00', freq='M'),\n",
       "  date\n",
       "  2019-06-03    173.30\n",
       "  2019-06-04    179.64\n",
       "  2019-06-05    182.54\n",
       "  2019-06-06    185.22\n",
       "  2019-06-07    190.15\n",
       "  2019-06-10    192.58\n",
       "  2019-06-11    194.81\n",
       "  2019-06-12    194.19\n",
       "  2019-06-13    194.15\n",
       "  2019-06-14    192.74\n",
       "  2019-06-17    193.89\n",
       "  2019-06-18    198.45\n",
       "  2019-06-19    197.87\n",
       "  2019-06-20    199.46\n",
       "  2019-06-21    198.78\n",
       "  2019-06-24    198.58\n",
       "  2019-06-25    195.57\n",
       "  2019-06-26    199.80\n",
       "  2019-06-27    199.74\n",
       "  2019-06-28    197.92\n",
       "  Name: close, dtype: float64),\n",
       " (Timestamp('2019-07-31 00:00:00', freq='M'),\n",
       "  date\n",
       "  2019-07-01    201.55\n",
       "  2019-07-02    202.73\n",
       "  2019-07-03    204.41\n",
       "  2019-07-05    204.23\n",
       "  2019-07-08    200.02\n",
       "  2019-07-09    201.24\n",
       "  2019-07-10    203.23\n",
       "  2019-07-11    201.75\n",
       "  2019-07-12    203.30\n",
       "  2019-07-15    205.21\n",
       "  2019-07-16    204.50\n",
       "  2019-07-17    203.35\n",
       "  2019-07-18    205.66\n",
       "  2019-07-19    202.59\n",
       "  2019-07-22    207.22\n",
       "  2019-07-23    208.84\n",
       "  2019-07-24    208.67\n",
       "  2019-07-25    207.02\n",
       "  2019-07-26    207.74\n",
       "  2019-07-29    209.68\n",
       "  2019-07-30    208.78\n",
       "  2019-07-31    213.04\n",
       "  Name: close, dtype: float64),\n",
       " (Timestamp('2019-08-31 00:00:00', freq='M'),\n",
       "  date\n",
       "  2019-08-01    208.43\n",
       "  2019-08-02    204.02\n",
       "  2019-08-05    193.34\n",
       "  2019-08-06    197.00\n",
       "  2019-08-07    199.04\n",
       "  2019-08-08    203.43\n",
       "  2019-08-09    200.99\n",
       "  Name: close, dtype: float64),\n",
       " (Timestamp('2019-09-30 00:00:00', freq='M'),\n",
       "  Series([], Name: close, dtype: float64)),\n",
       " (Timestamp('2019-10-31 00:00:00', freq='M'),\n",
       "  Series([], Name: close, dtype: float64)),\n",
       " (Timestamp('2019-11-30 00:00:00', freq='M'),\n",
       "  Series([], Name: close, dtype: float64)),\n",
       " (Timestamp('2019-12-31 00:00:00', freq='M'),\n",
       "  Series([], Name: close, dtype: float64)),\n",
       " (Timestamp('2020-01-31 00:00:00', freq='M'),\n",
       "  Series([], Name: close, dtype: float64)),\n",
       " (Timestamp('2020-02-29 00:00:00', freq='M'),\n",
       "  Series([], Name: close, dtype: float64)),\n",
       " (Timestamp('2020-03-31 00:00:00', freq='M'),\n",
       "  Series([], Name: close, dtype: float64)),\n",
       " (Timestamp('2020-04-30 00:00:00', freq='M'),\n",
       "  Series([], Name: close, dtype: float64)),\n",
       " (Timestamp('2020-05-31 00:00:00', freq='M'),\n",
       "  Series([], Name: close, dtype: float64)),\n",
       " (Timestamp('2020-06-30 00:00:00', freq='M'),\n",
       "  Series([], Name: close, dtype: float64)),\n",
       " (Timestamp('2020-07-31 00:00:00', freq='M'),\n",
       "  Series([], Name: close, dtype: float64)),\n",
       " (Timestamp('2020-08-31 00:00:00', freq='M'),\n",
       "  Series([], Name: close, dtype: float64)),\n",
       " (Timestamp('2020-09-30 00:00:00', freq='M'),\n",
       "  date\n",
       "  2020-09-05 16:00:00    200.99\n",
       "  Name: close, dtype: float64)]"
      ]
     },
     "execution_count": 120,
     "metadata": {},
     "output_type": "execute_result"
    }
   ],
   "source": [
    "list(df.close.resample(\"M\"))\n",
    "#https://pandas.pydata.org/pandas-docs/stable/user_guide/timeseries.html#offset-aliases\n"
   ]
  },
  {
   "cell_type": "code",
   "execution_count": 121,
   "metadata": {},
   "outputs": [
    {
     "data": {
      "text/plain": [
       "date\n",
       "2018-08-31    215.685294\n",
       "2018-09-30    222.073684\n",
       "2018-10-31    220.845652\n",
       "2018-11-30    191.235714\n",
       "2018-12-31    164.266316\n",
       "2019-01-31    154.166190\n",
       "2019-02-28    171.727895\n",
       "2019-03-31    183.293810\n",
       "2019-04-30    200.516190\n",
       "2019-05-31    191.273636\n",
       "2019-06-30    192.969000\n",
       "2019-07-31    205.216364\n",
       "2019-08-31    200.892857\n",
       "2019-09-30           NaN\n",
       "2019-10-31           NaN\n",
       "2019-11-30           NaN\n",
       "2019-12-31           NaN\n",
       "2020-01-31           NaN\n",
       "2020-02-29           NaN\n",
       "2020-03-31           NaN\n",
       "2020-04-30           NaN\n",
       "2020-05-31           NaN\n",
       "2020-06-30           NaN\n",
       "2020-07-31           NaN\n",
       "2020-08-31           NaN\n",
       "2020-09-30    200.990000\n",
       "Freq: M, Name: close, dtype: float64"
      ]
     },
     "execution_count": 121,
     "metadata": {},
     "output_type": "execute_result"
    }
   ],
   "source": [
    "df.close.resample(\"M\").mean()"
   ]
  },
  {
   "cell_type": "code",
   "execution_count": 122,
   "metadata": {},
   "outputs": [
    {
     "data": {
      "text/plain": [
       "<matplotlib.axes._subplots.AxesSubplot at 0x2230ded0640>"
      ]
     },
     "execution_count": 122,
     "metadata": {},
     "output_type": "execute_result"
    },
    {
     "data": {
      "image/png": "[encoded data removed]",
      "text/plain": [
       "<Figure size 432x288 with 1 Axes>"
      ]
     },
     "metadata": {
      "needs_background": "light"
     },
     "output_type": "display_data"
    }
   ],
   "source": [
    "%matplotlib inline\n",
    "df.close.resample(\"M\").mean().plot()"
   ]
  },
  {
   "cell_type": "code",
   "execution_count": 123,
   "metadata": {},
   "outputs": [
    {
     "data": {
      "text/plain": [
       "<matplotlib.axes._subplots.AxesSubplot at 0x2230e4a35b0>"
      ]
     },
     "execution_count": 123,
     "metadata": {},
     "output_type": "execute_result"
    },
    {
     "data": {
      "image/png": "[encoded data removed]",
      "text/plain": [
       "<Figure size 432x288 with 1 Axes>"
      ]
     },
     "metadata": {
      "needs_background": "light"
     },
     "output_type": "display_data"
    }
   ],
   "source": [
    "df.close.resample(\"W\").mean().plot()"
   ]
  },
  {
   "cell_type": "code",
   "execution_count": 124,
   "metadata": {},
   "outputs": [
    {
     "data": {
      "text/plain": [
       "<matplotlib.axes._subplots.AxesSubplot at 0x2230e52ddf0>"
      ]
     },
     "execution_count": 124,
     "metadata": {},
     "output_type": "execute_result"
    },
    {
     "data": {
      "image/png": "[encoded data removed]",
      "text/plain": [
       "<Figure size 432x288 with 1 Axes>"
      ]
     },
     "metadata": {
      "needs_background": "light"
     },
     "output_type": "display_data"
    }
   ],
   "source": [
    "df.close.resample(\"D\").mean().plot()"
   ]
  },
  {
   "cell_type": "code",
   "execution_count": 125,
   "metadata": {},
   "outputs": [
    {
     "data": {
      "text/plain": [
       "<matplotlib.axes._subplots.AxesSubplot at 0x2230e142340>"
      ]
     },
     "execution_count": 125,
     "metadata": {},
     "output_type": "execute_result"
    },
    {
     "data": {
      "image/png": "[encoded data removed]",
      "text/plain": [
       "<Figure size 432x288 with 1 Axes>"
      ]
     },
     "metadata": {
      "needs_background": "light"
     },
     "output_type": "display_data"
    }
   ],
   "source": [
    "df.close.resample(\"B\").mean().plot()"
   ]
  },
  {
   "cell_type": "code",
   "execution_count": 126,
   "metadata": {},
   "outputs": [
    {
     "data": {
      "image/png": "[encoded data removed]",
      "text/plain": [
       "<Figure size 432x288 with 1 Axes>"
      ]
     },
     "metadata": {
      "needs_background": "light"
     },
     "output_type": "display_data"
    }
   ],
   "source": [
    "Quarterly_resampled_data = df.open.resample('Q').mean().plot()"
   ]
  },
  {
   "cell_type": "code",
   "execution_count": 127,
   "metadata": {},
   "outputs": [],
   "source": [
    "period = 15\n",
    "x=pd.Series(range(period), index=pd.date_range('2019', freq='MS', periods=period))"
   ]
  },
  {
   "cell_type": "code",
   "execution_count": 128,
   "metadata": {},
   "outputs": [
    {
     "data": {
      "text/plain": [
       "2019-01-01     0\n",
       "2019-02-01     1\n",
       "2019-03-01     2\n",
       "2019-04-01     3\n",
       "2019-05-01     4\n",
       "2019-06-01     5\n",
       "2019-07-01     6\n",
       "2019-08-01     7\n",
       "2019-09-01     8\n",
       "2019-10-01     9\n",
       "2019-11-01    10\n",
       "2019-12-01    11\n",
       "2020-01-01    12\n",
       "2020-02-01    13\n",
       "2020-03-01    14\n",
       "Freq: MS, dtype: int64"
      ]
     },
     "execution_count": 128,
     "metadata": {},
     "output_type": "execute_result"
    }
   ],
   "source": [
    "x"
   ]
  },
  {
   "cell_type": "code",
   "execution_count": 129,
   "metadata": {},
   "outputs": [
    {
     "data": {
      "text/plain": [
       "2019-01-01     0\n",
       "2019-02-01     1\n",
       "2019-03-01     2\n",
       "2019-04-01     3\n",
       "2019-05-01     4\n",
       "2019-06-01     5\n",
       "2019-07-01     6\n",
       "2019-08-01     7\n",
       "2019-09-01     8\n",
       "2019-10-01     9\n",
       "2019-11-01    10\n",
       "2019-12-01    11\n",
       "2020-01-01    12\n",
       "2020-02-01    13\n",
       "2020-03-01    14\n",
       "Freq: MS, dtype: int64"
      ]
     },
     "execution_count": 129,
     "metadata": {},
     "output_type": "execute_result"
    }
   ],
   "source": [
    "mx=pd.Series(range(3), index=pd.date_range('2019', freq='D', periods=3))\n",
    "x"
   ]
  },
  {
   "cell_type": "code",
   "execution_count": 130,
   "metadata": {},
   "outputs": [
    {
     "data": {
      "text/plain": [
       "<matplotlib.axes._subplots.AxesSubplot at 0x2230b63c640>"
      ]
     },
     "execution_count": 130,
     "metadata": {},
     "output_type": "execute_result"
    },
    {
     "data": {
      "image/png": "[encoded data removed]",
      "text/plain": [
       "<Figure size 432x288 with 1 Axes>"
      ]
     },
     "metadata": {
      "needs_background": "light"
     },
     "output_type": "display_data"
    }
   ],
   "source": [
    "df.open.resample('Y').mean().plot()"
   ]
  },
  {
   "cell_type": "code",
   "execution_count": 131,
   "metadata": {},
   "outputs": [
    {
     "data": {
      "text/plain": [
       "<matplotlib.axes._subplots.AxesSubplot at 0x2230f601ac0>"
      ]
     },
     "execution_count": 131,
     "metadata": {},
     "output_type": "execute_result"
    },
    {
     "data": {
      "image/png": "[encoded data removed]",
      "text/plain": [
       "<Figure size 432x288 with 1 Axes>"
      ]
     },
     "metadata": {
      "needs_background": "light"
     },
     "output_type": "display_data"
    }
   ],
   "source": [
    "df.open.resample('M').mean().plot()"
   ]
  },
  {
   "cell_type": "code",
   "execution_count": 132,
   "metadata": {},
   "outputs": [
    {
     "data": {
      "text/plain": [
       "<matplotlib.axes._subplots.AxesSubplot at 0x2230f653b50>"
      ]
     },
     "execution_count": 132,
     "metadata": {},
     "output_type": "execute_result"
    },
    {
     "data": {
      "image/png": "[encoded data removed]",
      "text/plain": [
       "<Figure size 432x288 with 1 Axes>"
      ]
     },
     "metadata": {
      "needs_background": "light"
     },
     "output_type": "display_data"
    }
   ],
   "source": [
    "df.open.resample('M').mean().plot(kind=\"bar\")"
   ]
  },
  {
   "cell_type": "code",
   "execution_count": 133,
   "metadata": {},
   "outputs": [],
   "source": [
    "rng=pd.date_range(start=\"2018-08-09\", end=\"2019/08/09\",freq=\"B\")"
   ]
  },
  {
   "cell_type": "code",
   "execution_count": 134,
   "metadata": {},
   "outputs": [
    {
     "data": {
      "text/plain": [
       "DatetimeIndex(['2018-08-09', '2018-08-10', '2018-08-13', '2018-08-14',\n",
       "               '2018-08-15', '2018-08-16', '2018-08-17', '2018-08-20',\n",
       "               '2018-08-21', '2018-08-22',\n",
       "               ...\n",
       "               '2019-07-29', '2019-07-30', '2019-07-31', '2019-08-01',\n",
       "               '2019-08-02', '2019-08-05', '2019-08-06', '2019-08-07',\n",
       "               '2019-08-08', '2019-08-09'],\n",
       "              dtype='datetime64[ns]', length=262, freq='B')"
      ]
     },
     "execution_count": 134,
     "metadata": {},
     "output_type": "execute_result"
    }
   ],
   "source": [
    "rng"
   ]
  },
  {
   "cell_type": "code",
   "execution_count": 135,
   "metadata": {},
   "outputs": [
    {
     "data": {
      "text/html": [
       "<div>\n",
       "<style scoped>\n",
       "    .dataframe tbody tr th:only-of-type {\n",
       "        vertical-align: middle;\n",
       "    }\n",
       "\n",
       "    .dataframe tbody tr th {\n",
       "        vertical-align: top;\n",
       "    }\n",
       "\n",
       "    .dataframe thead th {\n",
       "        text-align: right;\n",
       "    }\n",
       "</style>\n",
       "<table border=\"1\" class=\"dataframe\">\n",
       "  <thead>\n",
       "    <tr style=\"text-align: right;\">\n",
       "      <th></th>\n",
       "      <th>close</th>\n",
       "      <th>volume</th>\n",
       "      <th>open</th>\n",
       "      <th>high</th>\n",
       "      <th>low</th>\n",
       "    </tr>\n",
       "    <tr>\n",
       "      <th>date</th>\n",
       "      <th></th>\n",
       "      <th></th>\n",
       "      <th></th>\n",
       "      <th></th>\n",
       "      <th></th>\n",
       "    </tr>\n",
       "  </thead>\n",
       "  <tbody>\n",
       "  </tbody>\n",
       "</table>\n",
       "</div>"
      ],
      "text/plain": [
       "Empty DataFrame\n",
       "Columns: [close, volume, open, high, low]\n",
       "Index: []"
      ]
     },
     "execution_count": 135,
     "metadata": {},
     "output_type": "execute_result"
    }
   ],
   "source": [
    "df[\"2018-12-09\" :\"2018-08-09\"]"
   ]
  },
  {
   "cell_type": "code",
   "execution_count": 136,
   "metadata": {},
   "outputs": [
    {
     "data": {
      "text/plain": [
       "nan"
      ]
     },
     "execution_count": 136,
     "metadata": {},
     "output_type": "execute_result"
    }
   ],
   "source": [
    "%matplotlib inline\n",
    "df[\"2019-08-01\" :\"2018-09-01\"].close.mean()"
   ]
  },
  {
   "cell_type": "code",
   "execution_count": 137,
   "metadata": {},
   "outputs": [],
   "source": [
    "rng=pd.date_range(start=\"2018-08-09\", periods=100,freq=\"B\")"
   ]
  },
  {
   "cell_type": "code",
   "execution_count": 138,
   "metadata": {},
   "outputs": [
    {
     "data": {
      "text/plain": [
       "DatetimeIndex(['2018-08-09', '2018-08-10', '2018-08-13', '2018-08-14',\n",
       "               '2018-08-15', '2018-08-16', '2018-08-17', '2018-08-20',\n",
       "               '2018-08-21', '2018-08-22', '2018-08-23', '2018-08-24',\n",
       "               '2018-08-27', '2018-08-28', '2018-08-29', '2018-08-30',\n",
       "               '2018-08-31', '2018-09-03', '2018-09-04', '2018-09-05',\n",
       "               '2018-09-06', '2018-09-07', '2018-09-10', '2018-09-11',\n",
       "               '2018-09-12', '2018-09-13', '2018-09-14', '2018-09-17',\n",
       "               '2018-09-18', '2018-09-19', '2018-09-20', '2018-09-21',\n",
       "               '2018-09-24', '2018-09-25', '2018-09-26', '2018-09-27',\n",
       "               '2018-09-28', '2018-10-01', '2018-10-02', '2018-10-03',\n",
       "               '2018-10-04', '2018-10-05', '2018-10-08', '2018-10-09',\n",
       "               '2018-10-10', '2018-10-11', '2018-10-12', '2018-10-15',\n",
       "               '2018-10-16', '2018-10-17', '2018-10-18', '2018-10-19',\n",
       "               '2018-10-22', '2018-10-23', '2018-10-24', '2018-10-25',\n",
       "               '2018-10-26', '2018-10-29', '2018-10-30', '2018-10-31',\n",
       "               '2018-11-01', '2018-11-02', '2018-11-05', '2018-11-06',\n",
       "               '2018-11-07', '2018-11-08', '2018-11-09', '2018-11-12',\n",
       "               '2018-11-13', '2018-11-14', '2018-11-15', '2018-11-16',\n",
       "               '2018-11-19', '2018-11-20', '2018-11-21', '2018-11-22',\n",
       "               '2018-11-23', '2018-11-26', '2018-11-27', '2018-11-28',\n",
       "               '2018-11-29', '2018-11-30', '2018-12-03', '2018-12-04',\n",
       "               '2018-12-05', '2018-12-06', '2018-12-07', '2018-12-10',\n",
       "               '2018-12-11', '2018-12-12', '2018-12-13', '2018-12-14',\n",
       "               '2018-12-17', '2018-12-18', '2018-12-19', '2018-12-20',\n",
       "               '2018-12-21', '2018-12-24', '2018-12-25', '2018-12-26'],\n",
       "              dtype='datetime64[ns]', freq='B')"
      ]
     },
     "execution_count": 138,
     "metadata": {},
     "output_type": "execute_result"
    }
   ],
   "source": [
    "rng"
   ]
  },
  {
   "cell_type": "code",
   "execution_count": 139,
   "metadata": {},
   "outputs": [
    {
     "data": {
      "text/plain": [
       "DatetimeIndex(['2018-08-09 00:00:00', '2018-08-09 01:00:00',\n",
       "               '2018-08-09 02:00:00', '2018-08-09 03:00:00',\n",
       "               '2018-08-09 04:00:00', '2018-08-09 05:00:00',\n",
       "               '2018-08-09 06:00:00', '2018-08-09 07:00:00',\n",
       "               '2018-08-09 08:00:00', '2018-08-09 09:00:00',\n",
       "               ...\n",
       "               '2019-08-08 15:00:00', '2019-08-08 16:00:00',\n",
       "               '2019-08-08 17:00:00', '2019-08-08 18:00:00',\n",
       "               '2019-08-08 19:00:00', '2019-08-08 20:00:00',\n",
       "               '2019-08-08 21:00:00', '2019-08-08 22:00:00',\n",
       "               '2019-08-08 23:00:00', '2019-08-09 00:00:00'],\n",
       "              dtype='datetime64[ns]', length=8761, freq='H')"
      ]
     },
     "execution_count": 139,
     "metadata": {},
     "output_type": "execute_result"
    }
   ],
   "source": [
    "rng=pd.date_range(start=\"2018-08-09\", end=\"2019/08/09\",freq=\"H\")\n",
    "rng"
   ]
  },
  {
   "cell_type": "code",
   "execution_count": 140,
   "metadata": {},
   "outputs": [
    {
     "name": "stdout",
     "output_type": "stream",
     "text": [
      "[5 5 2 ... 1 8 7]\n"
     ]
    }
   ],
   "source": [
    "import numpy as np\n",
    "x=np.random.randint(1,10,len(rng))\n",
    "print(x)"
   ]
  },
  {
   "cell_type": "code",
   "execution_count": 141,
   "metadata": {},
   "outputs": [],
   "source": [
    "ts=pd.Series(np.random.randint(1,10,len(rng)), index=rng)"
   ]
  },
  {
   "cell_type": "code",
   "execution_count": 142,
   "metadata": {},
   "outputs": [
    {
     "data": {
      "text/plain": [
       "2018-08-09 00:00:00    8\n",
       "2018-08-09 01:00:00    1\n",
       "2018-08-09 02:00:00    2\n",
       "2018-08-09 03:00:00    3\n",
       "2018-08-09 04:00:00    7\n",
       "                      ..\n",
       "2019-08-08 20:00:00    9\n",
       "2019-08-08 21:00:00    3\n",
       "2019-08-08 22:00:00    8\n",
       "2019-08-08 23:00:00    3\n",
       "2019-08-09 00:00:00    8\n",
       "Freq: H, Length: 8761, dtype: int32"
      ]
     },
     "execution_count": 142,
     "metadata": {},
     "output_type": "execute_result"
    }
   ],
   "source": [
    "ts"
   ]
  },
  {
   "cell_type": "code",
   "execution_count": 143,
   "metadata": {},
   "outputs": [],
   "source": [
    "import numpy as np"
   ]
  },
  {
   "cell_type": "code",
   "execution_count": 144,
   "metadata": {},
   "outputs": [
    {
     "name": "stdout",
     "output_type": "stream",
     "text": [
      "    Humidity\n",
      "0       50.0\n",
      "1       51.0\n",
      "2       52.0\n",
      "3        NaN\n",
      "4       54.0\n",
      "5       55.0\n",
      "6       56.0\n",
      "7        NaN\n",
      "8       58.0\n",
      "9       59.0\n",
      "10       NaN\n",
      "11       NaN\n",
      "12      62.0\n",
      "13      63.0\n"
     ]
    },
    {
     "data": {
      "text/plain": [
       "0     50.000000\n",
       "1     50.500000\n",
       "2     51.000000\n",
       "3     51.000000\n",
       "4     52.333333\n",
       "5     53.666667\n",
       "6     55.000000\n",
       "7     55.000000\n",
       "8     56.333333\n",
       "9     57.666667\n",
       "10    58.500000\n",
       "11    58.500000\n",
       "12    60.500000\n",
       "13    62.500000\n",
       "Name: Humidity, dtype: float64"
      ]
     },
     "execution_count": 144,
     "metadata": {},
     "output_type": "execute_result"
    }
   ],
   "source": [
    "frame = pd.DataFrame({'Humidity':np.arange(50,64)})\n",
    "\n",
    "frame.loc[[3,7,10,11],'Humidity'] = np.nan\n",
    "print(frame)\n",
    "frame.Humidity.rolling(4,min_periods=1).mean()"
   ]
  },
  {
   "cell_type": "code",
   "execution_count": 145,
   "metadata": {},
   "outputs": [
    {
     "name": "stdout",
     "output_type": "stream",
     "text": [
      "    Humidity\n",
      "0       50.0\n",
      "1       51.0\n",
      "2       52.0\n",
      "3        NaN\n",
      "4       54.0\n",
      "5       55.0\n",
      "6       56.0\n",
      "7        NaN\n",
      "8       58.0\n",
      "9       59.0\n",
      "10       NaN\n",
      "11       NaN\n",
      "12      62.0\n",
      "13      63.0\n"
     ]
    },
    {
     "data": {
      "text/plain": [
       "0     50.0\n",
       "1     51.0\n",
       "2     52.0\n",
       "3     51.0\n",
       "4     54.0\n",
       "5     55.0\n",
       "6     56.0\n",
       "7     55.0\n",
       "8     58.0\n",
       "9     59.0\n",
       "10    58.5\n",
       "11    58.5\n",
       "12    62.0\n",
       "13    63.0\n",
       "Name: Humidity, dtype: float64"
      ]
     },
     "execution_count": 145,
     "metadata": {},
     "output_type": "execute_result"
    }
   ],
   "source": [
    "frame = pd.DataFrame({'Humidity':np.arange(50,64)})\n",
    "\n",
    "frame.loc[[3,7,10,11],'Humidity'] = np.nan\n",
    "print(frame)\n",
    "frame.Humidity.fillna(frame.Humidity.rolling(4,min_periods=1).mean())"
   ]
  },
  {
   "cell_type": "code",
   "execution_count": 146,
   "metadata": {},
   "outputs": [
    {
     "name": "stdout",
     "output_type": "stream",
     "text": [
      "    Humidity\n",
      "0       50.0\n",
      "1       51.0\n",
      "2       52.0\n",
      "3        NaN\n",
      "4       54.0\n",
      "5       55.0\n",
      "6       56.0\n",
      "7        NaN\n",
      "8       58.0\n",
      "9       59.0\n",
      "10       NaN\n",
      "11       NaN\n",
      "12      62.0\n",
      "13      63.0\n"
     ]
    },
    {
     "data": {
      "text/plain": [
       "0     50.0\n",
       "1     51.0\n",
       "2     52.0\n",
       "3     53.0\n",
       "4     54.0\n",
       "5     55.0\n",
       "6     56.0\n",
       "7     57.0\n",
       "8     58.0\n",
       "9     59.0\n",
       "10    60.0\n",
       "11    61.0\n",
       "12    62.0\n",
       "13    63.0\n",
       "Name: Humidity, dtype: float64"
      ]
     },
     "execution_count": 146,
     "metadata": {},
     "output_type": "execute_result"
    }
   ],
   "source": [
    "frame = pd.DataFrame({'Humidity':np.arange(50,64)})\n",
    "\n",
    "frame.loc[[3,7,10,11],'Humidity'] = np.nan\n",
    "print(frame)\n",
    "frame['Humidity'].interpolate(method='linear')"
   ]
  },
  {
   "cell_type": "code",
   "execution_count": 147,
   "metadata": {},
   "outputs": [
    {
     "name": "stdout",
     "output_type": "stream",
     "text": [
      "    Humidity\n",
      "0       50.0\n",
      "1       51.0\n",
      "2       52.0\n",
      "3        NaN\n",
      "4       54.0\n",
      "5       55.0\n",
      "6       56.0\n",
      "7        NaN\n",
      "8       58.0\n",
      "9       59.0\n",
      "10       NaN\n",
      "11       NaN\n",
      "12      62.0\n",
      "13      63.0\n"
     ]
    },
    {
     "data": {
      "text/plain": [
       "0     50.0\n",
       "1     51.0\n",
       "2     52.0\n",
       "3     54.0\n",
       "4     54.0\n",
       "5     55.0\n",
       "6     56.0\n",
       "7     58.0\n",
       "8     58.0\n",
       "9     59.0\n",
       "10    62.0\n",
       "11    62.0\n",
       "12    62.0\n",
       "13    63.0\n",
       "Name: Humidity, dtype: float64"
      ]
     },
     "execution_count": 147,
     "metadata": {},
     "output_type": "execute_result"
    }
   ],
   "source": [
    "frame = pd.DataFrame({'Humidity':np.arange(50,64)})\n",
    "\n",
    "frame.loc[[3,7,10,11],'Humidity'] = np.nan\n",
    "print(frame)\n",
    "frame['Humidity'].fillna(value=None, method='backfill', axis=None, limit=None, downcast=None)"
   ]
  },
  {
   "cell_type": "code",
   "execution_count": 148,
   "metadata": {},
   "outputs": [
    {
     "name": "stdout",
     "output_type": "stream",
     "text": [
      "    Humidity\n",
      "0       50.0\n",
      "1       51.0\n",
      "2       52.0\n",
      "3        NaN\n",
      "4       54.0\n",
      "5       55.0\n",
      "6       56.0\n",
      "7        NaN\n",
      "8       58.0\n",
      "9       59.0\n",
      "10       NaN\n",
      "11       NaN\n",
      "12      62.0\n",
      "13      63.0\n"
     ]
    },
    {
     "data": {
      "text/plain": [
       "0     50.0\n",
       "1     51.0\n",
       "2     52.0\n",
       "3     52.0\n",
       "4     54.0\n",
       "5     55.0\n",
       "6     56.0\n",
       "7     56.0\n",
       "8     58.0\n",
       "9     59.0\n",
       "10    59.0\n",
       "11    59.0\n",
       "12    62.0\n",
       "13    63.0\n",
       "Name: Humidity, dtype: float64"
      ]
     },
     "execution_count": 148,
     "metadata": {},
     "output_type": "execute_result"
    }
   ],
   "source": [
    "frame = pd.DataFrame({'Humidity':np.arange(50,64)})\n",
    "\n",
    "frame.loc[[3,7,10,11],'Humidity'] = np.nan\n",
    "print(frame)\n",
    "frame['Humidity'].fillna(value=None, method='ffill', axis=None, limit=None, downcast=None)"
   ]
  },
  {
   "cell_type": "code",
   "execution_count": 149,
   "metadata": {},
   "outputs": [],
   "source": [
    "# n=5 # number of points to be checked before and after \n",
    "# # Find local peaks\n",
    "# df['min'] = df.iloc[argrelextrema(df.data.values, np.less_equal, order=n)[0]]['data']\n",
    "# df['max'] = df.iloc[argrelextrema(df.data.values, np.greater_equal, order=n)[0]]['data']"
   ]
  },
  {
   "cell_type": "code",
   "execution_count": 150,
   "metadata": {},
   "outputs": [],
   "source": [
    "# analysis of Volume\n",
    "df.volume = df.volume.str.replace(\",\",\"\").astype(float)"
   ]
  },
  {
   "cell_type": "code",
   "execution_count": 151,
   "metadata": {},
   "outputs": [
    {
     "data": {
      "text/html": [
       "<div>\n",
       "<style scoped>\n",
       "    .dataframe tbody tr th:only-of-type {\n",
       "        vertical-align: middle;\n",
       "    }\n",
       "\n",
       "    .dataframe tbody tr th {\n",
       "        vertical-align: top;\n",
       "    }\n",
       "\n",
       "    .dataframe thead th {\n",
       "        text-align: right;\n",
       "    }\n",
       "</style>\n",
       "<table border=\"1\" class=\"dataframe\">\n",
       "  <thead>\n",
       "    <tr style=\"text-align: right;\">\n",
       "      <th></th>\n",
       "      <th>close</th>\n",
       "      <th>volume</th>\n",
       "      <th>open</th>\n",
       "      <th>high</th>\n",
       "      <th>low</th>\n",
       "    </tr>\n",
       "    <tr>\n",
       "      <th>date</th>\n",
       "      <th></th>\n",
       "      <th></th>\n",
       "      <th></th>\n",
       "      <th></th>\n",
       "      <th></th>\n",
       "    </tr>\n",
       "  </thead>\n",
       "  <tbody>\n",
       "    <tr>\n",
       "      <th>2019-08-01</th>\n",
       "      <td>208.43</td>\n",
       "      <td>54017920.0</td>\n",
       "      <td>213.90</td>\n",
       "      <td>218.030</td>\n",
       "      <td>206.7435</td>\n",
       "    </tr>\n",
       "    <tr>\n",
       "      <th>2019-08-02</th>\n",
       "      <td>204.02</td>\n",
       "      <td>40862120.0</td>\n",
       "      <td>205.53</td>\n",
       "      <td>206.430</td>\n",
       "      <td>201.6300</td>\n",
       "    </tr>\n",
       "    <tr>\n",
       "      <th>2019-08-05</th>\n",
       "      <td>193.34</td>\n",
       "      <td>52392970.0</td>\n",
       "      <td>197.99</td>\n",
       "      <td>198.649</td>\n",
       "      <td>192.5800</td>\n",
       "    </tr>\n",
       "    <tr>\n",
       "      <th>2019-08-06</th>\n",
       "      <td>197.00</td>\n",
       "      <td>35824790.0</td>\n",
       "      <td>196.31</td>\n",
       "      <td>198.067</td>\n",
       "      <td>194.0400</td>\n",
       "    </tr>\n",
       "    <tr>\n",
       "      <th>2019-08-07</th>\n",
       "      <td>199.04</td>\n",
       "      <td>33364400.0</td>\n",
       "      <td>195.41</td>\n",
       "      <td>199.560</td>\n",
       "      <td>193.8200</td>\n",
       "    </tr>\n",
       "    <tr>\n",
       "      <th>2019-08-08</th>\n",
       "      <td>203.43</td>\n",
       "      <td>27009520.0</td>\n",
       "      <td>200.20</td>\n",
       "      <td>203.530</td>\n",
       "      <td>199.3900</td>\n",
       "    </tr>\n",
       "    <tr>\n",
       "      <th>2019-08-09</th>\n",
       "      <td>200.99</td>\n",
       "      <td>24619750.0</td>\n",
       "      <td>201.30</td>\n",
       "      <td>202.760</td>\n",
       "      <td>199.2900</td>\n",
       "    </tr>\n",
       "  </tbody>\n",
       "</table>\n",
       "</div>"
      ],
      "text/plain": [
       "             close      volume    open     high       low\n",
       "date                                                     \n",
       "2019-08-01  208.43  54017920.0  213.90  218.030  206.7435\n",
       "2019-08-02  204.02  40862120.0  205.53  206.430  201.6300\n",
       "2019-08-05  193.34  52392970.0  197.99  198.649  192.5800\n",
       "2019-08-06  197.00  35824790.0  196.31  198.067  194.0400\n",
       "2019-08-07  199.04  33364400.0  195.41  199.560  193.8200\n",
       "2019-08-08  203.43  27009520.0  200.20  203.530  199.3900\n",
       "2019-08-09  200.99  24619750.0  201.30  202.760  199.2900"
      ]
     },
     "execution_count": 151,
     "metadata": {},
     "output_type": "execute_result"
    }
   ],
   "source": [
    "df['2019-08']"
   ]
  },
  {
   "cell_type": "code",
   "execution_count": 152,
   "metadata": {},
   "outputs": [
    {
     "data": {
      "text/plain": [
       "date\n",
       "2019-08-01    218.030\n",
       "2019-08-02    206.430\n",
       "2019-08-05    198.649\n",
       "2019-08-06    198.067\n",
       "2019-08-07    199.560\n",
       "2019-08-08    203.530\n",
       "2019-08-09    202.760\n",
       "Name: high, dtype: float64"
      ]
     },
     "execution_count": 152,
     "metadata": {},
     "output_type": "execute_result"
    }
   ],
   "source": [
    "df['2019-08'].high"
   ]
  },
  {
   "cell_type": "code",
   "execution_count": 153,
   "metadata": {},
   "outputs": [
    {
     "data": {
      "text/plain": [
       "date\n",
       "2019-08-01    54017920.0\n",
       "2019-08-02    40862120.0\n",
       "2019-08-05    52392970.0\n",
       "2019-08-06    35824790.0\n",
       "2019-08-07    33364400.0\n",
       "2019-08-08    27009520.0\n",
       "2019-08-09    24619750.0\n",
       "Name: volume, dtype: float64"
      ]
     },
     "execution_count": 153,
     "metadata": {},
     "output_type": "execute_result"
    }
   ],
   "source": [
    "df['2019-08'].volume"
   ]
  },
  {
   "cell_type": "code",
   "execution_count": 154,
   "metadata": {},
   "outputs": [
    {
     "data": {
      "text/plain": [
       "203.86085714285716"
      ]
     },
     "execution_count": 154,
     "metadata": {},
     "output_type": "execute_result"
    }
   ],
   "source": [
    "df['2019-08'].high.mean()"
   ]
  },
  {
   "cell_type": "code",
   "execution_count": null,
   "metadata": {},
   "outputs": [],
   "source": []
  },
  {
   "cell_type": "code",
   "execution_count": 155,
   "metadata": {},
   "outputs": [
    {
     "data": {
      "text/plain": [
       "38298781.428571425"
      ]
     },
     "execution_count": 155,
     "metadata": {},
     "output_type": "execute_result"
    }
   ],
   "source": [
    "df['2019-08'].volume.mean()"
   ]
  },
  {
   "cell_type": "code",
   "execution_count": 156,
   "metadata": {},
   "outputs": [
    {
     "data": {
      "text/plain": [
       "202.76"
      ]
     },
     "execution_count": 156,
     "metadata": {},
     "output_type": "execute_result"
    }
   ],
   "source": [
    "df['2019-08'].high.median()"
   ]
  },
  {
   "cell_type": "code",
   "execution_count": 157,
   "metadata": {},
   "outputs": [
    {
     "data": {
      "text/plain": [
       "35824790.0"
      ]
     },
     "execution_count": 157,
     "metadata": {},
     "output_type": "execute_result"
    }
   ],
   "source": [
    "df['2019-08'].volume.median()"
   ]
  },
  {
   "cell_type": "code",
   "execution_count": 158,
   "metadata": {},
   "outputs": [
    {
     "data": {
      "text/plain": [
       "0    198.067\n",
       "1    198.649\n",
       "2    199.560\n",
       "3    202.760\n",
       "4    203.530\n",
       "5    206.430\n",
       "6    218.030\n",
       "dtype: float64"
      ]
     },
     "execution_count": 158,
     "metadata": {},
     "output_type": "execute_result"
    }
   ],
   "source": [
    "df['2019-08'].high.mode()"
   ]
  },
  {
   "cell_type": "code",
   "execution_count": 159,
   "metadata": {},
   "outputs": [
    {
     "data": {
      "text/plain": [
       "0    24619750.0\n",
       "1    27009520.0\n",
       "2    33364400.0\n",
       "3    35824790.0\n",
       "4    40862120.0\n",
       "5    52392970.0\n",
       "6    54017920.0\n",
       "dtype: float64"
      ]
     },
     "execution_count": 159,
     "metadata": {},
     "output_type": "execute_result"
    }
   ],
   "source": [
    "df['2019-08'].volume.mode()"
   ]
  },
  {
   "cell_type": "code",
   "execution_count": 160,
   "metadata": {},
   "outputs": [
    {
     "data": {
      "text/plain": [
       "[(Timestamp('2018-08-31 00:00:00', freq='M'),\n",
       "  date\n",
       "  2018-08-09    209.7800\n",
       "  2018-08-10    209.1000\n",
       "  2018-08-13    210.9520\n",
       "  2018-08-14    210.5600\n",
       "  2018-08-15    210.7400\n",
       "  2018-08-16    213.8121\n",
       "  2018-08-17    217.9500\n",
       "  2018-08-20    219.1800\n",
       "  2018-08-21    217.1900\n",
       "  2018-08-22    216.3600\n",
       "  2018-08-23    217.0500\n",
       "  2018-08-24    216.9000\n",
       "  2018-08-27    218.7400\n",
       "  2018-08-28    220.5400\n",
       "  2018-08-29    223.4900\n",
       "  2018-08-30    228.2600\n",
       "  2018-08-31    228.8700\n",
       "  Name: high, dtype: float64),\n",
       " (Timestamp('2018-09-30 00:00:00', freq='M'),\n",
       "  date\n",
       "  2018-09-04    229.180\n",
       "  2018-09-05    229.670\n",
       "  2018-09-06    227.350\n",
       "  2018-09-07    225.370\n",
       "  2018-09-10    221.850\n",
       "  2018-09-11    224.299\n",
       "  2018-09-12    225.000\n",
       "  2018-09-13    228.350\n",
       "  2018-09-14    226.840\n",
       "  2018-09-17    222.950\n",
       "  2018-09-18    221.850\n",
       "  2018-09-19    219.620\n",
       "  2018-09-20    222.280\n",
       "  2018-09-21    221.360\n",
       "  2018-09-24    221.260\n",
       "  2018-09-25    222.820\n",
       "  2018-09-26    223.750\n",
       "  2018-09-27    226.440\n",
       "  2018-09-28    225.840\n",
       "  Name: high, dtype: float64),\n",
       " (Timestamp('2018-10-31 00:00:00', freq='M'),\n",
       "  date\n",
       "  2018-10-01    229.42\n",
       "  2018-10-02    230.00\n",
       "  2018-10-03    233.47\n",
       "  2018-10-04    232.35\n",
       "  2018-10-05    228.41\n",
       "  2018-10-08    224.80\n",
       "  2018-10-09    227.27\n",
       "  2018-10-10    226.35\n",
       "  2018-10-11    219.50\n",
       "  2018-10-12    222.88\n",
       "  2018-10-15    221.83\n",
       "  2018-10-16    222.99\n",
       "  2018-10-17    222.64\n",
       "  2018-10-18    219.74\n",
       "  2018-10-19    221.26\n",
       "  2018-10-22    223.36\n",
       "  2018-10-23    223.25\n",
       "  2018-10-24    224.23\n",
       "  2018-10-25    221.38\n",
       "  2018-10-26    220.19\n",
       "  2018-10-29    219.69\n",
       "  2018-10-30    215.18\n",
       "  2018-10-31    220.45\n",
       "  Name: high, dtype: float64),\n",
       " (Timestamp('2018-11-30 00:00:00', freq='M'),\n",
       "  date\n",
       "  2018-11-01    222.3600\n",
       "  2018-11-02    213.6500\n",
       "  2018-11-05    204.3900\n",
       "  2018-11-06    204.7200\n",
       "  2018-11-07    210.0600\n",
       "  2018-11-08    210.1200\n",
       "  2018-11-09    206.0100\n",
       "  2018-11-12    199.8500\n",
       "  2018-11-13    197.1800\n",
       "  2018-11-14    194.4800\n",
       "  2018-11-15    191.9700\n",
       "  2018-11-16    194.9695\n",
       "  2018-11-19    190.7000\n",
       "  2018-11-20    181.4700\n",
       "  2018-11-21    180.2700\n",
       "  2018-11-23    176.5950\n",
       "  2018-11-26    174.9500\n",
       "  2018-11-27    174.7700\n",
       "  2018-11-28    181.2900\n",
       "  2018-11-29    182.8000\n",
       "  2018-11-30    180.3300\n",
       "  Name: high, dtype: float64),\n",
       " (Timestamp('2018-12-31 00:00:00', freq='M'),\n",
       "  date\n",
       "  2018-12-03    184.9400\n",
       "  2018-12-04    182.3899\n",
       "  2018-12-06    174.7800\n",
       "  2018-12-07    174.4900\n",
       "  2018-12-10    170.0900\n",
       "  2018-12-11    171.7900\n",
       "  2018-12-12    171.9200\n",
       "  2018-12-13    172.5700\n",
       "  2018-12-14    169.0800\n",
       "  2018-12-17    168.3500\n",
       "  2018-12-18    167.5300\n",
       "  2018-12-19    167.4500\n",
       "  2018-12-20    162.1100\n",
       "  2018-12-21    158.1600\n",
       "  2018-12-24    151.5500\n",
       "  2018-12-26    157.2300\n",
       "  2018-12-27    156.7700\n",
       "  2018-12-28    158.5200\n",
       "  2018-12-31    159.3600\n",
       "  Name: high, dtype: float64),\n",
       " (Timestamp('2019-01-31 00:00:00', freq='M'),\n",
       "  date\n",
       "  2019-01-02    158.8500\n",
       "  2019-01-03    145.7200\n",
       "  2019-01-04    148.5499\n",
       "  2019-01-07    148.8300\n",
       "  2019-01-08    151.8200\n",
       "  2019-01-09    154.5300\n",
       "  2019-01-10    153.9700\n",
       "  2019-01-11    153.7000\n",
       "  2019-01-14    151.2700\n",
       "  2019-01-15    153.3900\n",
       "  2019-01-16    155.8800\n",
       "  2019-01-17    157.6600\n",
       "  2019-01-18    157.8800\n",
       "  2019-01-22    156.7300\n",
       "  2019-01-23    155.1400\n",
       "  2019-01-24    154.4800\n",
       "  2019-01-25    158.1300\n",
       "  2019-01-28    156.3300\n",
       "  2019-01-29    158.1300\n",
       "  2019-01-30    166.1500\n",
       "  2019-01-31    169.0000\n",
       "  Name: high, dtype: float64),\n",
       " (Timestamp('2019-02-28 00:00:00', freq='M'),\n",
       "  date\n",
       "  2019-02-01    168.9800\n",
       "  2019-02-04    171.6550\n",
       "  2019-02-05    175.0800\n",
       "  2019-02-06    175.5700\n",
       "  2019-02-07    173.9400\n",
       "  2019-02-08    170.6600\n",
       "  2019-02-11    171.2100\n",
       "  2019-02-12    171.0000\n",
       "  2019-02-13    172.4800\n",
       "  2019-02-14    171.2615\n",
       "  2019-02-15    171.7000\n",
       "  2019-02-19    171.4400\n",
       "  2019-02-20    173.3200\n",
       "  2019-02-21    172.3700\n",
       "  2019-02-22    173.0000\n",
       "  2019-02-25    175.8700\n",
       "  2019-02-26    175.3000\n",
       "  2019-02-27    175.0000\n",
       "  2019-02-28    174.9100\n",
       "  Name: high, dtype: float64),\n",
       " (Timestamp('2019-03-31 00:00:00', freq='M'),\n",
       "  date\n",
       "  2019-03-01    175.150\n",
       "  2019-03-04    177.750\n",
       "  2019-03-05    176.000\n",
       "  2019-03-06    175.490\n",
       "  2019-03-07    174.440\n",
       "  2019-03-08    173.070\n",
       "  2019-03-11    179.120\n",
       "  2019-03-12    182.670\n",
       "  2019-03-13    183.300\n",
       "  2019-03-14    184.100\n",
       "  2019-03-15    187.330\n",
       "  2019-03-18    188.390\n",
       "  2019-03-19    188.990\n",
       "  2019-03-20    189.490\n",
       "  2019-03-21    196.330\n",
       "  2019-03-22    197.690\n",
       "  2019-03-25    191.980\n",
       "  2019-03-26    192.880\n",
       "  2019-03-27    189.760\n",
       "  2019-03-28    189.559\n",
       "  2019-03-29    190.080\n",
       "  Name: high, dtype: float64),\n",
       " (Timestamp('2019-04-30 00:00:00', freq='M'),\n",
       "  date\n",
       "  2019-04-01    191.68\n",
       "  2019-04-02    194.46\n",
       "  2019-04-03    196.50\n",
       "  2019-04-04    196.37\n",
       "  2019-04-05    197.10\n",
       "  2019-04-08    200.23\n",
       "  2019-04-09    202.85\n",
       "  2019-04-10    200.74\n",
       "  2019-04-11    201.00\n",
       "  2019-04-12    200.14\n",
       "  2019-04-15    199.85\n",
       "  2019-04-16    201.37\n",
       "  2019-04-17    203.38\n",
       "  2019-04-18    204.15\n",
       "  2019-04-22    204.94\n",
       "  2019-04-23    207.75\n",
       "  2019-04-24    208.48\n",
       "  2019-04-25    207.76\n",
       "  2019-04-26    205.00\n",
       "  2019-04-29    205.97\n",
       "  2019-04-30    203.40\n",
       "  Name: high, dtype: float64),\n",
       " (Timestamp('2019-05-31 00:00:00', freq='M'),\n",
       "  date\n",
       "  2019-05-01    215.3100\n",
       "  2019-05-02    212.6500\n",
       "  2019-05-03    211.8400\n",
       "  2019-05-06    208.8400\n",
       "  2019-05-07    207.4175\n",
       "  2019-05-08    205.3400\n",
       "  2019-05-09    201.6800\n",
       "  2019-05-10    198.8500\n",
       "  2019-05-13    189.4800\n",
       "  2019-05-14    189.7000\n",
       "  2019-05-15    191.7500\n",
       "  2019-05-16    192.4689\n",
       "  2019-05-17    190.9000\n",
       "  2019-05-20    184.3490\n",
       "  2019-05-21    188.0000\n",
       "  2019-05-22    185.7100\n",
       "  2019-05-23    180.5400\n",
       "  2019-05-24    182.1400\n",
       "  2019-05-28    180.5900\n",
       "  2019-05-29    179.3500\n",
       "  2019-05-30    179.2300\n",
       "  2019-05-31    177.9900\n",
       "  Name: high, dtype: float64),\n",
       " (Timestamp('2019-06-30 00:00:00', freq='M'),\n",
       "  date\n",
       "  2019-06-03    177.9200\n",
       "  2019-06-04    179.8300\n",
       "  2019-06-05    184.9900\n",
       "  2019-06-06    185.4700\n",
       "  2019-06-07    191.9200\n",
       "  2019-06-10    195.3700\n",
       "  2019-06-11    196.0000\n",
       "  2019-06-12    195.9700\n",
       "  2019-06-13    196.7900\n",
       "  2019-06-14    193.5863\n",
       "  2019-06-17    194.9600\n",
       "  2019-06-18    200.2900\n",
       "  2019-06-19    199.8800\n",
       "  2019-06-20    200.6100\n",
       "  2019-06-21    200.8500\n",
       "  2019-06-24    200.1600\n",
       "  2019-06-25    199.2600\n",
       "  2019-06-26    200.9900\n",
       "  2019-06-27    201.5700\n",
       "  2019-06-28    199.4950\n",
       "  Name: high, dtype: float64),\n",
       " (Timestamp('2019-07-31 00:00:00', freq='M'),\n",
       "  date\n",
       "  2019-07-01    204.4900\n",
       "  2019-07-02    203.1323\n",
       "  2019-07-03    204.4400\n",
       "  2019-07-05    205.0800\n",
       "  2019-07-08    201.4000\n",
       "  2019-07-09    201.5100\n",
       "  2019-07-10    203.7300\n",
       "  2019-07-11    204.3900\n",
       "  2019-07-12    204.0000\n",
       "  2019-07-15    205.8700\n",
       "  2019-07-16    206.1100\n",
       "  2019-07-17    205.0915\n",
       "  2019-07-18    205.8800\n",
       "  2019-07-19    206.5000\n",
       "  2019-07-22    207.2300\n",
       "  2019-07-23    208.9100\n",
       "  2019-07-24    209.1500\n",
       "  2019-07-25    209.2400\n",
       "  2019-07-26    209.7300\n",
       "  2019-07-29    210.6400\n",
       "  2019-07-30    210.1600\n",
       "  2019-07-31    221.3700\n",
       "  Name: high, dtype: float64),\n",
       " (Timestamp('2019-08-31 00:00:00', freq='M'),\n",
       "  date\n",
       "  2019-08-01    218.030\n",
       "  2019-08-02    206.430\n",
       "  2019-08-05    198.649\n",
       "  2019-08-06    198.067\n",
       "  2019-08-07    199.560\n",
       "  2019-08-08    203.530\n",
       "  2019-08-09    202.760\n",
       "  Name: high, dtype: float64),\n",
       " (Timestamp('2019-09-30 00:00:00', freq='M'),\n",
       "  Series([], Name: high, dtype: float64)),\n",
       " (Timestamp('2019-10-31 00:00:00', freq='M'),\n",
       "  Series([], Name: high, dtype: float64)),\n",
       " (Timestamp('2019-11-30 00:00:00', freq='M'),\n",
       "  Series([], Name: high, dtype: float64)),\n",
       " (Timestamp('2019-12-31 00:00:00', freq='M'),\n",
       "  Series([], Name: high, dtype: float64)),\n",
       " (Timestamp('2020-01-31 00:00:00', freq='M'),\n",
       "  Series([], Name: high, dtype: float64)),\n",
       " (Timestamp('2020-02-29 00:00:00', freq='M'),\n",
       "  Series([], Name: high, dtype: float64)),\n",
       " (Timestamp('2020-03-31 00:00:00', freq='M'),\n",
       "  Series([], Name: high, dtype: float64)),\n",
       " (Timestamp('2020-04-30 00:00:00', freq='M'),\n",
       "  Series([], Name: high, dtype: float64)),\n",
       " (Timestamp('2020-05-31 00:00:00', freq='M'),\n",
       "  Series([], Name: high, dtype: float64)),\n",
       " (Timestamp('2020-06-30 00:00:00', freq='M'),\n",
       "  Series([], Name: high, dtype: float64)),\n",
       " (Timestamp('2020-07-31 00:00:00', freq='M'),\n",
       "  Series([], Name: high, dtype: float64)),\n",
       " (Timestamp('2020-08-31 00:00:00', freq='M'),\n",
       "  Series([], Name: high, dtype: float64)),\n",
       " (Timestamp('2020-09-30 00:00:00', freq='M'),\n",
       "  date\n",
       "  2020-09-05 16:00:00    202.76\n",
       "  Name: high, dtype: float64)]"
      ]
     },
     "execution_count": 160,
     "metadata": {},
     "output_type": "execute_result"
    }
   ],
   "source": [
    "list(df.high.resample(\"M\"))"
   ]
  },
  {
   "cell_type": "code",
   "execution_count": 161,
   "metadata": {},
   "outputs": [
    {
     "data": {
      "text/plain": [
       "[(Timestamp('2018-08-31 00:00:00', freq='M'),\n",
       "  date\n",
       "  2018-08-09    23389530.0\n",
       "  2018-08-10    24592460.0\n",
       "  2018-08-13    25864510.0\n",
       "  2018-08-14    20679270.0\n",
       "  2018-08-15    28595230.0\n",
       "  2018-08-16    27595310.0\n",
       "  2018-08-17    35034410.0\n",
       "  2018-08-20    30149410.0\n",
       "  2018-08-21    25682700.0\n",
       "  2018-08-22    18965930.0\n",
       "  2018-08-23    18505780.0\n",
       "  2018-08-24    18457720.0\n",
       "  2018-08-27    20400770.0\n",
       "  2018-08-28    22751390.0\n",
       "  2018-08-29    27074260.0\n",
       "  2018-08-30    48696960.0\n",
       "  2018-08-31    43177540.0\n",
       "  Name: volume, dtype: float64),\n",
       " (Timestamp('2018-09-30 00:00:00', freq='M'),\n",
       "  date\n",
       "  2018-09-04    27363960.0\n",
       "  2018-09-05    33290830.0\n",
       "  2018-09-06    34121240.0\n",
       "  2018-09-07    37418910.0\n",
       "  2018-09-10    39194720.0\n",
       "  2018-09-11    35644510.0\n",
       "  2018-09-12    49118510.0\n",
       "  2018-09-13    41411350.0\n",
       "  2018-09-14    31801970.0\n",
       "  2018-09-17    36810120.0\n",
       "  2018-09-18    31495630.0\n",
       "  2018-09-19    26869880.0\n",
       "  2018-09-20    26388050.0\n",
       "  2018-09-21    95584080.0\n",
       "  2018-09-24    27581270.0\n",
       "  2018-09-25    22811140.0\n",
       "  2018-09-26    23430370.0\n",
       "  2018-09-27    29729270.0\n",
       "  2018-09-28    22560440.0\n",
       "  Name: volume, dtype: float64),\n",
       " (Timestamp('2018-10-31 00:00:00', freq='M'),\n",
       "  date\n",
       "  2018-10-01    23171020.0\n",
       "  2018-10-02    24435010.0\n",
       "  2018-10-03    28540490.0\n",
       "  2018-10-04    31961120.0\n",
       "  2018-10-05    33507770.0\n",
       "  2018-10-08    28784550.0\n",
       "  2018-10-09    26656630.0\n",
       "  2018-10-10    41084070.0\n",
       "  2018-10-11    52902320.0\n",
       "  2018-10-12    39494770.0\n",
       "  2018-10-15    30280450.0\n",
       "  2018-10-16    28802550.0\n",
       "  2018-10-17    22692880.0\n",
       "  2018-10-18    32389280.0\n",
       "  2018-10-19    32874330.0\n",
       "  2018-10-22    28751540.0\n",
       "  2018-10-23    38681170.0\n",
       "  2018-10-24    39992120.0\n",
       "  2018-10-25    29027340.0\n",
       "  2018-10-26    47191700.0\n",
       "  2018-10-29    45713690.0\n",
       "  2018-10-30    36487930.0\n",
       "  2018-10-31    38016810.0\n",
       "  Name: volume, dtype: float64),\n",
       " (Timestamp('2018-11-30 00:00:00', freq='M'),\n",
       "  date\n",
       "  2018-11-01    52954070.0\n",
       "  2018-11-02    91046560.0\n",
       "  2018-11-05    66072170.0\n",
       "  2018-11-06    31774720.0\n",
       "  2018-11-07    33291640.0\n",
       "  2018-11-08    25289270.0\n",
       "  2018-11-09    34317760.0\n",
       "  2018-11-12    50991030.0\n",
       "  2018-11-13    46725710.0\n",
       "  2018-11-14    60547340.0\n",
       "  2018-11-15    46271660.0\n",
       "  2018-11-16    36191330.0\n",
       "  2018-11-19    41626820.0\n",
       "  2018-11-20    67678680.0\n",
       "  2018-11-21    31096240.0\n",
       "  2018-11-23    23623970.0\n",
       "  2018-11-26    44662320.0\n",
       "  2018-11-27    41156140.0\n",
       "  2018-11-28    45941750.0\n",
       "  2018-11-29    41523580.0\n",
       "  2018-11-30    39424260.0\n",
       "  Name: volume, dtype: float64),\n",
       " (Timestamp('2018-12-31 00:00:00', freq='M'),\n",
       "  date\n",
       "  2018-12-03    40537700.0\n",
       "  2018-12-04    41141250.0\n",
       "  2018-12-06    42704910.0\n",
       "  2018-12-07    41678680.0\n",
       "  2018-12-10    61759000.0\n",
       "  2018-12-11    45968040.0\n",
       "  2018-12-12    35474680.0\n",
       "  2018-12-13    31754210.0\n",
       "  2018-12-14    40620360.0\n",
       "  2018-12-17    43250420.0\n",
       "  2018-12-18    33753490.0\n",
       "  2018-12-19    47597670.0\n",
       "  2018-12-20    64398230.0\n",
       "  2018-12-21    95497900.0\n",
       "  2018-12-24    37169230.0\n",
       "  2018-12-26    58133850.0\n",
       "  2018-12-27    51608850.0\n",
       "  2018-12-28    41740600.0\n",
       "  2018-12-31    34499390.0\n",
       "  Name: volume, dtype: float64),\n",
       " (Timestamp('2019-01-31 00:00:00', freq='M'),\n",
       "  date\n",
       "  2019-01-02    35637070.0\n",
       "  2019-01-03    91106840.0\n",
       "  2019-01-04    57423650.0\n",
       "  2019-01-07    54571440.0\n",
       "  2019-01-08    40622910.0\n",
       "  2019-01-09    45034370.0\n",
       "  2019-01-10    35661200.0\n",
       "  2019-01-11    26924630.0\n",
       "  2019-01-14    32018540.0\n",
       "  2019-01-15    28449940.0\n",
       "  2019-01-16    30483120.0\n",
       "  2019-01-17    29616190.0\n",
       "  2019-01-18    33259460.0\n",
       "  2019-01-22    30273990.0\n",
       "  2019-01-23    23046560.0\n",
       "  2019-01-24    25418110.0\n",
       "  2019-01-25    33508960.0\n",
       "  2019-01-28    26147280.0\n",
       "  2019-01-29    39914850.0\n",
       "  2019-01-30    60800480.0\n",
       "  2019-01-31    40613260.0\n",
       "  Name: volume, dtype: float64),\n",
       " (Timestamp('2019-02-28 00:00:00', freq='M'),\n",
       "  date\n",
       "  2019-02-01    32644590.0\n",
       "  2019-02-04    31384720.0\n",
       "  2019-02-05    36054570.0\n",
       "  2019-02-06    28204640.0\n",
       "  2019-02-07    31644240.0\n",
       "  2019-02-08    23793830.0\n",
       "  2019-02-11    20940020.0\n",
       "  2019-02-12    22224400.0\n",
       "  2019-02-13    22389660.0\n",
       "  2019-02-14    21785180.0\n",
       "  2019-02-15    24603320.0\n",
       "  2019-02-19    18958570.0\n",
       "  2019-02-20    25323890.0\n",
       "  2019-02-21    17154540.0\n",
       "  2019-02-22    18890250.0\n",
       "  2019-02-25    21846400.0\n",
       "  2019-02-26    16991610.0\n",
       "  2019-02-27    27817640.0\n",
       "  2019-02-28    27953810.0\n",
       "  Name: volume, dtype: float64),\n",
       " (Timestamp('2019-03-31 00:00:00', freq='M'),\n",
       "  date\n",
       "  2019-03-01    25737560.0\n",
       "  2019-03-04    27413060.0\n",
       "  2019-03-05    19238480.0\n",
       "  2019-03-06    20755140.0\n",
       "  2019-03-07    24755470.0\n",
       "  2019-03-08    23985960.0\n",
       "  2019-03-11    31123000.0\n",
       "  2019-03-12    32416800.0\n",
       "  2019-03-13    30929740.0\n",
       "  2019-03-14    23527660.0\n",
       "  2019-03-15    39017490.0\n",
       "  2019-03-18    26148590.0\n",
       "  2019-03-19    31440300.0\n",
       "  2019-03-20    31003380.0\n",
       "  2019-03-21    50943120.0\n",
       "  2019-03-22    42287640.0\n",
       "  2019-03-25    43751810.0\n",
       "  2019-03-26    49696100.0\n",
       "  2019-03-27    29771210.0\n",
       "  2019-03-28    20710390.0\n",
       "  2019-03-29    23524830.0\n",
       "  Name: volume, dtype: float64),\n",
       " (Timestamp('2019-04-30 00:00:00', freq='M'),\n",
       "  date\n",
       "  2019-04-01    27308200.0\n",
       "  2019-04-02    22727370.0\n",
       "  2019-04-03    23243160.0\n",
       "  2019-04-04    19090050.0\n",
       "  2019-04-05    18473070.0\n",
       "  2019-04-08    25829880.0\n",
       "  2019-04-09    35738280.0\n",
       "  2019-04-10    21654750.0\n",
       "  2019-04-11    20543190.0\n",
       "  2019-04-12    27738580.0\n",
       "  2019-04-15    17524150.0\n",
       "  2019-04-16    25668330.0\n",
       "  2019-04-17    28865310.0\n",
       "  2019-04-18    24185530.0\n",
       "  2019-04-22    17841920.0\n",
       "  2019-04-23    23286380.0\n",
       "  2019-04-24    17427570.0\n",
       "  2019-04-25    18463850.0\n",
       "  2019-04-26    18612770.0\n",
       "  2019-04-29    22010360.0\n",
       "  2019-04-30    45751160.0\n",
       "  Name: volume, dtype: float64),\n",
       " (Timestamp('2019-05-31 00:00:00', freq='M'),\n",
       "  date\n",
       "  2019-05-01    64827330.0\n",
       "  2019-05-02    31996320.0\n",
       "  2019-05-03    20892380.0\n",
       "  2019-05-06    32443110.0\n",
       "  2019-05-07    38763700.0\n",
       "  2019-05-08    26339500.0\n",
       "  2019-05-09    34908610.0\n",
       "  2019-05-10    41208710.0\n",
       "  2019-05-13    57430620.0\n",
       "  2019-05-14    36529680.0\n",
       "  2019-05-15    26544720.0\n",
       "  2019-05-16    33031360.0\n",
       "  2019-05-17    32879090.0\n",
       "  2019-05-20    38612290.0\n",
       "  2019-05-21    28364850.0\n",
       "  2019-05-22    29748560.0\n",
       "  2019-05-23    36529740.0\n",
       "  2019-05-24    23714690.0\n",
       "  2019-05-28    27948160.0\n",
       "  2019-05-29    28481170.0\n",
       "  2019-05-30    21218410.0\n",
       "  2019-05-31    27043580.0\n",
       "  Name: volume, dtype: float64),\n",
       " (Timestamp('2019-06-30 00:00:00', freq='M'),\n",
       "  date\n",
       "  2019-06-03    40396070.0\n",
       "  2019-06-04    30967960.0\n",
       "  2019-06-05    29773430.0\n",
       "  2019-06-06    22526310.0\n",
       "  2019-06-07    30684390.0\n",
       "  2019-06-10    26220850.0\n",
       "  2019-06-11    26932880.0\n",
       "  2019-06-12    18253190.0\n",
       "  2019-06-13    21674630.0\n",
       "  2019-06-14    18761470.0\n",
       "  2019-06-17    14669140.0\n",
       "  2019-06-18    26551000.0\n",
       "  2019-06-19    21124240.0\n",
       "  2019-06-20    21513990.0\n",
       "  2019-06-21    47800590.0\n",
       "  2019-06-24    18220420.0\n",
       "  2019-06-25    21070330.0\n",
       "  2019-06-26    26067510.0\n",
       "  2019-06-27    20899720.0\n",
       "  2019-06-28    31110640.0\n",
       "  Name: volume, dtype: float64),\n",
       " (Timestamp('2019-07-31 00:00:00', freq='M'),\n",
       "  date\n",
       "  2019-07-01    27316740.0\n",
       "  2019-07-02    16935220.0\n",
       "  2019-07-03    11362050.0\n",
       "  2019-07-05    17265520.0\n",
       "  2019-07-08    25338630.0\n",
       "  2019-07-09    20578020.0\n",
       "  2019-07-10    17897140.0\n",
       "  2019-07-11    20191840.0\n",
       "  2019-07-12    17595210.0\n",
       "  2019-07-15    16947420.0\n",
       "  2019-07-16    16866820.0\n",
       "  2019-07-17    14107450.0\n",
       "  2019-07-18    18582160.0\n",
       "  2019-07-19    20929310.0\n",
       "  2019-07-22    22277930.0\n",
       "  2019-07-23    18355210.0\n",
       "  2019-07-24    14991570.0\n",
       "  2019-07-25    13909560.0\n",
       "  2019-07-26    17618870.0\n",
       "  2019-07-29    21673390.0\n",
       "  2019-07-30    33935720.0\n",
       "  2019-07-31    69281360.0\n",
       "  Name: volume, dtype: float64),\n",
       " (Timestamp('2019-08-31 00:00:00', freq='M'),\n",
       "  date\n",
       "  2019-08-01    54017920.0\n",
       "  2019-08-02    40862120.0\n",
       "  2019-08-05    52392970.0\n",
       "  2019-08-06    35824790.0\n",
       "  2019-08-07    33364400.0\n",
       "  2019-08-08    27009520.0\n",
       "  2019-08-09    24619750.0\n",
       "  Name: volume, dtype: float64),\n",
       " (Timestamp('2019-09-30 00:00:00', freq='M'),\n",
       "  Series([], Name: volume, dtype: float64)),\n",
       " (Timestamp('2019-10-31 00:00:00', freq='M'),\n",
       "  Series([], Name: volume, dtype: float64)),\n",
       " (Timestamp('2019-11-30 00:00:00', freq='M'),\n",
       "  Series([], Name: volume, dtype: float64)),\n",
       " (Timestamp('2019-12-31 00:00:00', freq='M'),\n",
       "  Series([], Name: volume, dtype: float64)),\n",
       " (Timestamp('2020-01-31 00:00:00', freq='M'),\n",
       "  Series([], Name: volume, dtype: float64)),\n",
       " (Timestamp('2020-02-29 00:00:00', freq='M'),\n",
       "  Series([], Name: volume, dtype: float64)),\n",
       " (Timestamp('2020-03-31 00:00:00', freq='M'),\n",
       "  Series([], Name: volume, dtype: float64)),\n",
       " (Timestamp('2020-04-30 00:00:00', freq='M'),\n",
       "  Series([], Name: volume, dtype: float64)),\n",
       " (Timestamp('2020-05-31 00:00:00', freq='M'),\n",
       "  Series([], Name: volume, dtype: float64)),\n",
       " (Timestamp('2020-06-30 00:00:00', freq='M'),\n",
       "  Series([], Name: volume, dtype: float64)),\n",
       " (Timestamp('2020-07-31 00:00:00', freq='M'),\n",
       "  Series([], Name: volume, dtype: float64)),\n",
       " (Timestamp('2020-08-31 00:00:00', freq='M'),\n",
       "  Series([], Name: volume, dtype: float64)),\n",
       " (Timestamp('2020-09-30 00:00:00', freq='M'),\n",
       "  date\n",
       "  2020-09-05 16:00:00    24619446.0\n",
       "  Name: volume, dtype: float64)]"
      ]
     },
     "execution_count": 161,
     "metadata": {},
     "output_type": "execute_result"
    }
   ],
   "source": [
    "list(df.volume.resample(\"M\"))"
   ]
  },
  {
   "cell_type": "code",
   "execution_count": 162,
   "metadata": {},
   "outputs": [
    {
     "data": {
      "text/plain": [
       "date\n",
       "2018-08-31    217.027888\n",
       "2018-09-30    224.530474\n",
       "2018-10-31    223.940870\n",
       "2018-11-30    193.949262\n",
       "2018-12-31    167.319995\n",
       "2019-01-31    155.530471\n",
       "2019-02-28    172.881395\n",
       "2019-03-31    184.931857\n",
       "2019-04-30    201.577143\n",
       "2019-05-31    193.369336\n",
       "2019-06-30    194.795565\n",
       "2019-07-31    206.729718\n",
       "2019-08-31    203.860857\n",
       "2019-09-30           NaN\n",
       "2019-10-31           NaN\n",
       "2019-11-30           NaN\n",
       "2019-12-31           NaN\n",
       "2020-01-31           NaN\n",
       "2020-02-29           NaN\n",
       "2020-03-31           NaN\n",
       "2020-04-30           NaN\n",
       "2020-05-31           NaN\n",
       "2020-06-30           NaN\n",
       "2020-07-31           NaN\n",
       "2020-08-31           NaN\n",
       "2020-09-30    202.760000\n",
       "Freq: M, Name: high, dtype: float64"
      ]
     },
     "execution_count": 162,
     "metadata": {},
     "output_type": "execute_result"
    }
   ],
   "source": [
    "df.high.resample(\"M\").mean()"
   ]
  },
  {
   "cell_type": "code",
   "execution_count": 163,
   "metadata": {},
   "outputs": [
    {
     "data": {
      "text/plain": [
       "<matplotlib.axes._subplots.AxesSubplot at 0x2230f766130>"
      ]
     },
     "execution_count": 163,
     "metadata": {},
     "output_type": "execute_result"
    },
    {
     "data": {
      "image/png": "[encoded data removed]",
      "text/plain": [
       "<Figure size 432x288 with 1 Axes>"
      ]
     },
     "metadata": {
      "needs_background": "light"
     },
     "output_type": "display_data"
    }
   ],
   "source": [
    "%matplotlib inline\n",
    "df.high.resample(\"M\").mean().plot()"
   ]
  },
  {
   "cell_type": "code",
   "execution_count": 164,
   "metadata": {},
   "outputs": [
    {
     "data": {
      "text/plain": [
       "<matplotlib.axes._subplots.AxesSubplot at 0x2230f7d7f40>"
      ]
     },
     "execution_count": 164,
     "metadata": {},
     "output_type": "execute_result"
    },
    {
     "data": {
      "image/png": "[encoded data removed]",
      "text/plain": [
       "<Figure size 432x288 with 1 Axes>"
      ]
     },
     "metadata": {
      "needs_background": "light"
     },
     "output_type": "display_data"
    }
   ],
   "source": [
    "%matplotlib inline\n",
    "df.volume.resample(\"M\").mean().plot()"
   ]
  },
  {
   "cell_type": "code",
   "execution_count": 165,
   "metadata": {},
   "outputs": [
    {
     "data": {
      "text/plain": [
       "<matplotlib.axes._subplots.AxesSubplot at 0x2230f7c1970>"
      ]
     },
     "execution_count": 165,
     "metadata": {},
     "output_type": "execute_result"
    },
    {
     "data": {
      "image/png": "[encoded data removed]",
      "text/plain": [
       "<Figure size 432x288 with 1 Axes>"
      ]
     },
     "metadata": {
      "needs_background": "light"
     },
     "output_type": "display_data"
    }
   ],
   "source": [
    "df.high.resample(\"W\").mean().plot()"
   ]
  },
  {
   "cell_type": "code",
   "execution_count": 166,
   "metadata": {},
   "outputs": [
    {
     "data": {
      "text/plain": [
       "<matplotlib.axes._subplots.AxesSubplot at 0x2230f8d6d00>"
      ]
     },
     "execution_count": 166,
     "metadata": {},
     "output_type": "execute_result"
    },
    {
     "data": {
      "image/png": "[encoded data removed]",
      "text/plain": [
       "<Figure size 432x288 with 1 Axes>"
      ]
     },
     "metadata": {
      "needs_background": "light"
     },
     "output_type": "display_data"
    }
   ],
   "source": [
    "df.volume.resample(\"W\").mean().plot()"
   ]
  },
  {
   "cell_type": "code",
   "execution_count": 167,
   "metadata": {},
   "outputs": [
    {
     "data": {
      "text/plain": [
       "<matplotlib.axes._subplots.AxesSubplot at 0x2230f955a90>"
      ]
     },
     "execution_count": 167,
     "metadata": {},
     "output_type": "execute_result"
    },
    {
     "data": {
      "image/png": "[encoded data removed]",
      "text/plain": [
       "<Figure size 432x288 with 1 Axes>"
      ]
     },
     "metadata": {
      "needs_background": "light"
     },
     "output_type": "display_data"
    }
   ],
   "source": [
    "df.high.resample(\"D\").mean().plot()"
   ]
  },
  {
   "cell_type": "code",
   "execution_count": 168,
   "metadata": {},
   "outputs": [
    {
     "data": {
      "text/plain": [
       "<matplotlib.axes._subplots.AxesSubplot at 0x2230f9b8ca0>"
      ]
     },
     "execution_count": 168,
     "metadata": {},
     "output_type": "execute_result"
    },
    {
     "data": {
      "image/png": "[encoded data removed]",
      "text/plain": [
       "<Figure size 432x288 with 1 Axes>"
      ]
     },
     "metadata": {
      "needs_background": "light"
     },
     "output_type": "display_data"
    }
   ],
   "source": [
    "df.volume.resample(\"D\").mean().plot()"
   ]
  },
  {
   "cell_type": "code",
   "execution_count": 169,
   "metadata": {},
   "outputs": [
    {
     "data": {
      "text/plain": [
       "<matplotlib.axes._subplots.AxesSubplot at 0x2230fa5afa0>"
      ]
     },
     "execution_count": 169,
     "metadata": {},
     "output_type": "execute_result"
    },
    {
     "data": {
      "image/png": "[encoded data removed]",
      "text/plain": [
       "<Figure size 432x288 with 1 Axes>"
      ]
     },
     "metadata": {
      "needs_background": "light"
     },
     "output_type": "display_data"
    }
   ],
   "source": [
    "df.high.resample(\"B\").mean().plot()"
   ]
  },
  {
   "cell_type": "code",
   "execution_count": 170,
   "metadata": {},
   "outputs": [
    {
     "data": {
      "text/plain": [
       "<matplotlib.axes._subplots.AxesSubplot at 0x2230fab9550>"
      ]
     },
     "execution_count": 170,
     "metadata": {},
     "output_type": "execute_result"
    },
    {
     "data": {
      "image/png": "[encoded data removed]",
      "text/plain": [
       "<Figure size 432x288 with 1 Axes>"
      ]
     },
     "metadata": {
      "needs_background": "light"
     },
     "output_type": "display_data"
    }
   ],
   "source": [
    "df.volume.resample(\"B\").mean().plot()"
   ]
  },
  {
   "cell_type": "code",
   "execution_count": 171,
   "metadata": {},
   "outputs": [
    {
     "data": {
      "image/png": "[encoded data removed]",
      "text/plain": [
       "<Figure size 432x288 with 1 Axes>"
      ]
     },
     "metadata": {
      "needs_background": "light"
     },
     "output_type": "display_data"
    }
   ],
   "source": [
    "Quarterly_resampled_data = df.high.resample('Q').mean().plot()"
   ]
  },
  {
   "cell_type": "code",
   "execution_count": 172,
   "metadata": {},
   "outputs": [
    {
     "data": {
      "image/png": "[encoded data removed]",
      "text/plain": [
       "<Figure size 432x288 with 1 Axes>"
      ]
     },
     "metadata": {
      "needs_background": "light"
     },
     "output_type": "display_data"
    }
   ],
   "source": [
    "Quarterly_resampled_data = df.volume.resample('Q').mean().plot()"
   ]
  },
  {
   "cell_type": "code",
   "execution_count": 173,
   "metadata": {},
   "outputs": [
    {
     "data": {
      "text/plain": [
       "<matplotlib.axes._subplots.AxesSubplot at 0x2230fbfd7f0>"
      ]
     },
     "execution_count": 173,
     "metadata": {},
     "output_type": "execute_result"
    },
    {
     "data": {
      "image/png": "[encoded data removed]",
      "text/plain": [
       "<Figure size 432x288 with 1 Axes>"
      ]
     },
     "metadata": {
      "needs_background": "light"
     },
     "output_type": "display_data"
    }
   ],
   "source": [
    "df.high.resample('Y').mean().plot()"
   ]
  },
  {
   "cell_type": "code",
   "execution_count": 174,
   "metadata": {},
   "outputs": [
    {
     "data": {
      "text/plain": [
       "<matplotlib.axes._subplots.AxesSubplot at 0x2230fc4d610>"
      ]
     },
     "execution_count": 174,
     "metadata": {},
     "output_type": "execute_result"
    },
    {
     "data": {
      "image/png": "[encoded data removed]",
      "text/plain": [
       "<Figure size 432x288 with 1 Axes>"
      ]
     },
     "metadata": {
      "needs_background": "light"
     },
     "output_type": "display_data"
    }
   ],
   "source": [
    "df.volume.resample('Y').mean().plot()"
   ]
  },
  {
   "cell_type": "code",
   "execution_count": 175,
   "metadata": {},
   "outputs": [
    {
     "data": {
      "text/plain": [
       "<matplotlib.axes._subplots.AxesSubplot at 0x2230f72a0a0>"
      ]
     },
     "execution_count": 175,
     "metadata": {},
     "output_type": "execute_result"
    },
    {
     "data": {
      "image/png": "[encoded data removed]",
      "text/plain": [
       "<Figure size 432x288 with 1 Axes>"
      ]
     },
     "metadata": {
      "needs_background": "light"
     },
     "output_type": "display_data"
    }
   ],
   "source": [
    "df.high.resample('M').mean().plot()"
   ]
  },
  {
   "cell_type": "code",
   "execution_count": 176,
   "metadata": {},
   "outputs": [
    {
     "data": {
      "text/plain": [
       "<matplotlib.axes._subplots.AxesSubplot at 0x2230fba31f0>"
      ]
     },
     "execution_count": 176,
     "metadata": {},
     "output_type": "execute_result"
    },
    {
     "data": {
      "image/png": "[encoded data removed]",
      "text/plain": [
       "<Figure size 432x288 with 1 Axes>"
      ]
     },
     "metadata": {
      "needs_background": "light"
     },
     "output_type": "display_data"
    }
   ],
   "source": [
    "df.volume.resample('M').mean().plot()"
   ]
  },
  {
   "cell_type": "code",
   "execution_count": 177,
   "metadata": {},
   "outputs": [
    {
     "data": {
      "text/plain": [
       "<matplotlib.axes._subplots.AxesSubplot at 0x2230e1eeeb0>"
      ]
     },
     "execution_count": 177,
     "metadata": {},
     "output_type": "execute_result"
    },
    {
     "data": {
      "image/png": "[encoded data removed]",
      "text/plain": [
       "<Figure size 432x288 with 1 Axes>"
      ]
     },
     "metadata": {
      "needs_background": "light"
     },
     "output_type": "display_data"
    }
   ],
   "source": [
    "df.high.resample('M').mean().plot(kind=\"bar\")"
   ]
  },
  {
   "cell_type": "code",
   "execution_count": 178,
   "metadata": {},
   "outputs": [
    {
     "data": {
      "text/plain": [
       "<matplotlib.axes._subplots.AxesSubplot at 0x2230dcb2ac0>"
      ]
     },
     "execution_count": 178,
     "metadata": {},
     "output_type": "execute_result"
    },
    {
     "data": {
      "image/png": "[encoded data removed]",
      "text/plain": [
       "<Figure size 432x288 with 1 Axes>"
      ]
     },
     "metadata": {
      "needs_background": "light"
     },
     "output_type": "display_data"
    }
   ],
   "source": [
    "df.volume.resample('M').mean().plot(kind=\"bar\")"
   ]
  },
  {
   "cell_type": "code",
   "execution_count": 188,
   "metadata": {},
   "outputs": [
    {
     "data": {
      "text/html": [
       "<div>\n",
       "<style scoped>\n",
       "    .dataframe tbody tr th:only-of-type {\n",
       "        vertical-align: middle;\n",
       "    }\n",
       "\n",
       "    .dataframe tbody tr th {\n",
       "        vertical-align: top;\n",
       "    }\n",
       "\n",
       "    .dataframe thead th {\n",
       "        text-align: right;\n",
       "    }\n",
       "</style>\n",
       "<table border=\"1\" class=\"dataframe\">\n",
       "  <thead>\n",
       "    <tr style=\"text-align: right;\">\n",
       "      <th></th>\n",
       "      <th>Price</th>\n",
       "    </tr>\n",
       "  </thead>\n",
       "  <tbody>\n",
       "    <tr>\n",
       "      <th>0</th>\n",
       "      <td>50.0</td>\n",
       "    </tr>\n",
       "    <tr>\n",
       "      <th>1</th>\n",
       "      <td>51.0</td>\n",
       "    </tr>\n",
       "    <tr>\n",
       "      <th>2</th>\n",
       "      <td>52.0</td>\n",
       "    </tr>\n",
       "    <tr>\n",
       "      <th>3</th>\n",
       "      <td>53.0</td>\n",
       "    </tr>\n",
       "    <tr>\n",
       "      <th>4</th>\n",
       "      <td>NaN</td>\n",
       "    </tr>\n",
       "    <tr>\n",
       "      <th>5</th>\n",
       "      <td>55.0</td>\n",
       "    </tr>\n",
       "    <tr>\n",
       "      <th>6</th>\n",
       "      <td>56.0</td>\n",
       "    </tr>\n",
       "    <tr>\n",
       "      <th>7</th>\n",
       "      <td>57.0</td>\n",
       "    </tr>\n",
       "    <tr>\n",
       "      <th>8</th>\n",
       "      <td>58.0</td>\n",
       "    </tr>\n",
       "    <tr>\n",
       "      <th>9</th>\n",
       "      <td>59.0</td>\n",
       "    </tr>\n",
       "    <tr>\n",
       "      <th>10</th>\n",
       "      <td>60.0</td>\n",
       "    </tr>\n",
       "    <tr>\n",
       "      <th>11</th>\n",
       "      <td>61.0</td>\n",
       "    </tr>\n",
       "    <tr>\n",
       "      <th>12</th>\n",
       "      <td>NaN</td>\n",
       "    </tr>\n",
       "    <tr>\n",
       "      <th>13</th>\n",
       "      <td>63.0</td>\n",
       "    </tr>\n",
       "    <tr>\n",
       "      <th>14</th>\n",
       "      <td>64.0</td>\n",
       "    </tr>\n",
       "    <tr>\n",
       "      <th>15</th>\n",
       "      <td>65.0</td>\n",
       "    </tr>\n",
       "    <tr>\n",
       "      <th>16</th>\n",
       "      <td>66.0</td>\n",
       "    </tr>\n",
       "    <tr>\n",
       "      <th>17</th>\n",
       "      <td>67.0</td>\n",
       "    </tr>\n",
       "    <tr>\n",
       "      <th>18</th>\n",
       "      <td>68.0</td>\n",
       "    </tr>\n",
       "    <tr>\n",
       "      <th>19</th>\n",
       "      <td>69.0</td>\n",
       "    </tr>\n",
       "    <tr>\n",
       "      <th>20</th>\n",
       "      <td>70.0</td>\n",
       "    </tr>\n",
       "    <tr>\n",
       "      <th>21</th>\n",
       "      <td>71.0</td>\n",
       "    </tr>\n",
       "    <tr>\n",
       "      <th>22</th>\n",
       "      <td>72.0</td>\n",
       "    </tr>\n",
       "    <tr>\n",
       "      <th>23</th>\n",
       "      <td>73.0</td>\n",
       "    </tr>\n",
       "    <tr>\n",
       "      <th>24</th>\n",
       "      <td>74.0</td>\n",
       "    </tr>\n",
       "    <tr>\n",
       "      <th>25</th>\n",
       "      <td>75.0</td>\n",
       "    </tr>\n",
       "    <tr>\n",
       "      <th>26</th>\n",
       "      <td>76.0</td>\n",
       "    </tr>\n",
       "    <tr>\n",
       "      <th>27</th>\n",
       "      <td>77.0</td>\n",
       "    </tr>\n",
       "    <tr>\n",
       "      <th>28</th>\n",
       "      <td>78.0</td>\n",
       "    </tr>\n",
       "    <tr>\n",
       "      <th>29</th>\n",
       "      <td>79.0</td>\n",
       "    </tr>\n",
       "    <tr>\n",
       "      <th>30</th>\n",
       "      <td>80.0</td>\n",
       "    </tr>\n",
       "    <tr>\n",
       "      <th>31</th>\n",
       "      <td>81.0</td>\n",
       "    </tr>\n",
       "    <tr>\n",
       "      <th>32</th>\n",
       "      <td>82.0</td>\n",
       "    </tr>\n",
       "    <tr>\n",
       "      <th>33</th>\n",
       "      <td>NaN</td>\n",
       "    </tr>\n",
       "    <tr>\n",
       "      <th>34</th>\n",
       "      <td>NaN</td>\n",
       "    </tr>\n",
       "    <tr>\n",
       "      <th>35</th>\n",
       "      <td>85.0</td>\n",
       "    </tr>\n",
       "    <tr>\n",
       "      <th>36</th>\n",
       "      <td>86.0</td>\n",
       "    </tr>\n",
       "    <tr>\n",
       "      <th>37</th>\n",
       "      <td>87.0</td>\n",
       "    </tr>\n",
       "    <tr>\n",
       "      <th>38</th>\n",
       "      <td>88.0</td>\n",
       "    </tr>\n",
       "    <tr>\n",
       "      <th>39</th>\n",
       "      <td>89.0</td>\n",
       "    </tr>\n",
       "    <tr>\n",
       "      <th>40</th>\n",
       "      <td>90.0</td>\n",
       "    </tr>\n",
       "    <tr>\n",
       "      <th>41</th>\n",
       "      <td>91.0</td>\n",
       "    </tr>\n",
       "    <tr>\n",
       "      <th>42</th>\n",
       "      <td>92.0</td>\n",
       "    </tr>\n",
       "    <tr>\n",
       "      <th>43</th>\n",
       "      <td>93.0</td>\n",
       "    </tr>\n",
       "    <tr>\n",
       "      <th>44</th>\n",
       "      <td>94.0</td>\n",
       "    </tr>\n",
       "    <tr>\n",
       "      <th>45</th>\n",
       "      <td>NaN</td>\n",
       "    </tr>\n",
       "    <tr>\n",
       "      <th>46</th>\n",
       "      <td>NaN</td>\n",
       "    </tr>\n",
       "    <tr>\n",
       "      <th>47</th>\n",
       "      <td>NaN</td>\n",
       "    </tr>\n",
       "    <tr>\n",
       "      <th>48</th>\n",
       "      <td>98.0</td>\n",
       "    </tr>\n",
       "    <tr>\n",
       "      <th>49</th>\n",
       "      <td>99.0</td>\n",
       "    </tr>\n",
       "  </tbody>\n",
       "</table>\n",
       "</div>"
      ],
      "text/plain": [
       "    Price\n",
       "0    50.0\n",
       "1    51.0\n",
       "2    52.0\n",
       "3    53.0\n",
       "4     NaN\n",
       "5    55.0\n",
       "6    56.0\n",
       "7    57.0\n",
       "8    58.0\n",
       "9    59.0\n",
       "10   60.0\n",
       "11   61.0\n",
       "12    NaN\n",
       "13   63.0\n",
       "14   64.0\n",
       "15   65.0\n",
       "16   66.0\n",
       "17   67.0\n",
       "18   68.0\n",
       "19   69.0\n",
       "20   70.0\n",
       "21   71.0\n",
       "22   72.0\n",
       "23   73.0\n",
       "24   74.0\n",
       "25   75.0\n",
       "26   76.0\n",
       "27   77.0\n",
       "28   78.0\n",
       "29   79.0\n",
       "30   80.0\n",
       "31   81.0\n",
       "32   82.0\n",
       "33    NaN\n",
       "34    NaN\n",
       "35   85.0\n",
       "36   86.0\n",
       "37   87.0\n",
       "38   88.0\n",
       "39   89.0\n",
       "40   90.0\n",
       "41   91.0\n",
       "42   92.0\n",
       "43   93.0\n",
       "44   94.0\n",
       "45    NaN\n",
       "46    NaN\n",
       "47    NaN\n",
       "48   98.0\n",
       "49   99.0"
      ]
     },
     "execution_count": 188,
     "metadata": {},
     "output_type": "execute_result"
    }
   ],
   "source": [
    "#Practice NA Value filling\n",
    "\n",
    "frame_new = pd.DataFrame({'Price':np.arange(50,100)})\n",
    "frame_new.loc[[12,4,45,46,47,34,33],'Price'] = np.nan\n",
    "frame_new\n"
   ]
  },
  {
   "cell_type": "code",
   "execution_count": 189,
   "metadata": {},
   "outputs": [
    {
     "data": {
      "text/plain": [
       "0     50.000000\n",
       "1     50.500000\n",
       "2     51.000000\n",
       "3     51.500000\n",
       "4     52.000000\n",
       "5     53.333333\n",
       "6     54.666667\n",
       "7     56.000000\n",
       "8     56.500000\n",
       "9     57.500000\n",
       "10    58.500000\n",
       "11    59.500000\n",
       "12    60.000000\n",
       "13    61.333333\n",
       "14    62.666667\n",
       "15    64.000000\n",
       "16    64.500000\n",
       "17    65.500000\n",
       "18    66.500000\n",
       "19    67.500000\n",
       "20    68.500000\n",
       "21    69.500000\n",
       "22    70.500000\n",
       "23    71.500000\n",
       "24    72.500000\n",
       "25    73.500000\n",
       "26    74.500000\n",
       "27    75.500000\n",
       "28    76.500000\n",
       "29    77.500000\n",
       "30    78.500000\n",
       "31    79.500000\n",
       "32    80.500000\n",
       "33    81.000000\n",
       "34    81.500000\n",
       "35    83.500000\n",
       "36    85.500000\n",
       "37    86.000000\n",
       "38    86.500000\n",
       "39    87.500000\n",
       "40    88.500000\n",
       "41    89.500000\n",
       "42    90.500000\n",
       "43    91.500000\n",
       "44    92.500000\n",
       "45    93.000000\n",
       "46    93.500000\n",
       "47    94.000000\n",
       "48    98.000000\n",
       "49    98.500000\n",
       "Name: Price, dtype: float64"
      ]
     },
     "execution_count": 189,
     "metadata": {},
     "output_type": "execute_result"
    }
   ],
   "source": [
    "\n",
    "frame_new.Price.rolling(4,min_periods=1).mean()"
   ]
  },
  {
   "cell_type": "code",
   "execution_count": 184,
   "metadata": {},
   "outputs": [
    {
     "data": {
      "text/plain": [
       "0     50.0\n",
       "1     51.0\n",
       "2     52.0\n",
       "3     53.0\n",
       "4     54.0\n",
       "5     55.0\n",
       "6     56.0\n",
       "7     57.0\n",
       "8     58.0\n",
       "9     59.0\n",
       "10    60.0\n",
       "11    61.0\n",
       "12    62.0\n",
       "13    63.0\n",
       "14    64.0\n",
       "15    65.0\n",
       "16    66.0\n",
       "17    67.0\n",
       "18    68.0\n",
       "19    69.0\n",
       "20    70.0\n",
       "21    71.0\n",
       "22    72.0\n",
       "23    73.0\n",
       "24    74.0\n",
       "25    75.0\n",
       "26    76.0\n",
       "27    77.0\n",
       "28    78.0\n",
       "29    79.0\n",
       "30    80.0\n",
       "31    81.0\n",
       "32    82.0\n",
       "33    83.0\n",
       "34    84.0\n",
       "35    85.0\n",
       "36    86.0\n",
       "37    87.0\n",
       "38    88.0\n",
       "39    89.0\n",
       "40    90.0\n",
       "41    91.0\n",
       "42    92.0\n",
       "43    93.0\n",
       "44    94.0\n",
       "45    95.0\n",
       "46    96.0\n",
       "47    97.0\n",
       "48    98.0\n",
       "49    99.0\n",
       "Name: Price, dtype: float64"
      ]
     },
     "execution_count": 184,
     "metadata": {},
     "output_type": "execute_result"
    }
   ],
   "source": [
    "frame_new = pd.DataFrame({'Price':np.arange(50,100)})\n",
    "\n",
    "frame_new.loc[[12,4,45,46,47,34,33],'Price'] = np.nan\n",
    "#print(frame_new)\n",
    "frame['Price'].interpolate(method='linear')"
   ]
  },
  {
   "cell_type": "code",
   "execution_count": 186,
   "metadata": {},
   "outputs": [
    {
     "data": {
      "text/plain": [
       "0     50.0\n",
       "1     51.0\n",
       "2     52.0\n",
       "3     53.0\n",
       "4     55.0\n",
       "5     55.0\n",
       "6     56.0\n",
       "7     57.0\n",
       "8     58.0\n",
       "9     59.0\n",
       "10    60.0\n",
       "11    61.0\n",
       "12    63.0\n",
       "13    63.0\n",
       "14    64.0\n",
       "15    65.0\n",
       "16    66.0\n",
       "17    67.0\n",
       "18    68.0\n",
       "19    69.0\n",
       "20    70.0\n",
       "21    71.0\n",
       "22    72.0\n",
       "23    73.0\n",
       "24    74.0\n",
       "25    75.0\n",
       "26    76.0\n",
       "27    77.0\n",
       "28    78.0\n",
       "29    79.0\n",
       "30    80.0\n",
       "31    81.0\n",
       "32    82.0\n",
       "33    85.0\n",
       "34    85.0\n",
       "35    85.0\n",
       "36    86.0\n",
       "37    87.0\n",
       "38    88.0\n",
       "39    89.0\n",
       "40    90.0\n",
       "41    91.0\n",
       "42    92.0\n",
       "43    93.0\n",
       "44    94.0\n",
       "45    98.0\n",
       "46    98.0\n",
       "47    98.0\n",
       "48    98.0\n",
       "49    99.0\n",
       "Name: Price, dtype: float64"
      ]
     },
     "execution_count": 186,
     "metadata": {},
     "output_type": "execute_result"
    }
   ],
   "source": [
    "frame_new = pd.DataFrame({'Price':np.arange(50,100)})\n",
    "\n",
    "frame_new.loc[[12,4,45,46,47,34,33],'Price'] = np.nan\n",
    "#print(frame_new)\n",
    "frame_new['Price'].fillna(value=None, method='backfill', axis=None, limit=None, downcast=None)"
   ]
  },
  {
   "cell_type": "code",
   "execution_count": 187,
   "metadata": {},
   "outputs": [
    {
     "data": {
      "text/plain": [
       "0     50.0\n",
       "1     51.0\n",
       "2     52.0\n",
       "3     53.0\n",
       "4     53.0\n",
       "5     55.0\n",
       "6     56.0\n",
       "7     57.0\n",
       "8     58.0\n",
       "9     59.0\n",
       "10    60.0\n",
       "11    61.0\n",
       "12    61.0\n",
       "13    63.0\n",
       "14    64.0\n",
       "15    65.0\n",
       "16    66.0\n",
       "17    67.0\n",
       "18    68.0\n",
       "19    69.0\n",
       "20    70.0\n",
       "21    71.0\n",
       "22    72.0\n",
       "23    73.0\n",
       "24    74.0\n",
       "25    75.0\n",
       "26    76.0\n",
       "27    77.0\n",
       "28    78.0\n",
       "29    79.0\n",
       "30    80.0\n",
       "31    81.0\n",
       "32    82.0\n",
       "33    82.0\n",
       "34    82.0\n",
       "35    85.0\n",
       "36    86.0\n",
       "37    87.0\n",
       "38    88.0\n",
       "39    89.0\n",
       "40    90.0\n",
       "41    91.0\n",
       "42    92.0\n",
       "43    93.0\n",
       "44    94.0\n",
       "45    94.0\n",
       "46    94.0\n",
       "47    94.0\n",
       "48    98.0\n",
       "49    99.0\n",
       "Name: Price, dtype: float64"
      ]
     },
     "execution_count": 187,
     "metadata": {},
     "output_type": "execute_result"
    }
   ],
   "source": [
    "frame_new = pd.DataFrame({'Price':np.arange(50,100)})\n",
    "\n",
    "frame_new.loc[[12,4,45,46,47,34,33],'Price'] = np.nan\n",
    "#print(frame_new)\n",
    "frame_new['Price'].fillna(value=None, method='ffill', axis=None, limit=None, downcast=None)"
   ]
  },
  {
   "cell_type": "code",
   "execution_count": null,
   "metadata": {},
   "outputs": [],
   "source": []
  }
 ],
 "metadata": {
  "kernelspec": {
   "display_name": "Python 3",
   "language": "python",
   "name": "python3"
  },
  "language_info": {
   "codemirror_mode": {
    "name": "ipython",
    "version": 3
   },
   "file_extension": ".py",
   "mimetype": "text/x-python",
   "name": "python",
   "nbconvert_exporter": "python",
   "pygments_lexer": "ipython3",
   "version": "3.8.3"
  }
 },
 "nbformat": 4,
 "nbformat_minor": 2
}
