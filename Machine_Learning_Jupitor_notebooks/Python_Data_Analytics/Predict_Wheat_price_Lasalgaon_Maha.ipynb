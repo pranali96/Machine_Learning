{
 "cells": [
  {
   "cell_type": "markdown",
   "metadata": {},
   "source": [
    "# Exercise:: \n",
    "# Problem Statement ::\n",
    "Given market data of Lasalgaon\n",
    "\n",
    "Use linear regression to predict quantity\n",
    "\n",
    "# Outcomes \n",
    "\n",
    "1. How to use linear regression with time series data\n",
    "\n",
    "2. How to create lag variables \n",
    "    so that we can model dependencies between current value and previous \n",
    "    value of the same variable"
   ]
  },
  {
   "cell_type": "code",
   "execution_count": 4,
   "metadata": {},
   "outputs": [],
   "source": [
    "import pandas as pd"
   ]
  },
  {
   "cell_type": "code",
   "execution_count": 69,
   "metadata": {},
   "outputs": [],
   "source": [
    "df = pd.read_csv(\"ls_ma_data.csv\",parse_dates=['date'],index_col=['date'])"
   ]
  },
  {
   "cell_type": "code",
   "execution_count": 70,
   "metadata": {},
   "outputs": [
    {
     "data": {
      "text/plain": [
       "(242, 9)"
      ]
     },
     "execution_count": 70,
     "metadata": {},
     "output_type": "execute_result"
    }
   ],
   "source": [
    "df.shape"
   ]
  },
  {
   "cell_type": "code",
   "execution_count": 71,
   "metadata": {},
   "outputs": [
    {
     "data": {
      "text/html": [
       "<div>\n",
       "<style scoped>\n",
       "    .dataframe tbody tr th:only-of-type {\n",
       "        vertical-align: middle;\n",
       "    }\n",
       "\n",
       "    .dataframe tbody tr th {\n",
       "        vertical-align: top;\n",
       "    }\n",
       "\n",
       "    .dataframe thead th {\n",
       "        text-align: right;\n",
       "    }\n",
       "</style>\n",
       "<table border=\"1\" class=\"dataframe\">\n",
       "  <thead>\n",
       "    <tr style=\"text-align: right;\">\n",
       "      <th></th>\n",
       "      <th>market</th>\n",
       "      <th>month</th>\n",
       "      <th>year</th>\n",
       "      <th>quantity</th>\n",
       "      <th>priceMin</th>\n",
       "      <th>priceMax</th>\n",
       "      <th>priceMod</th>\n",
       "      <th>state</th>\n",
       "      <th>city</th>\n",
       "    </tr>\n",
       "    <tr>\n",
       "      <th>date</th>\n",
       "      <th></th>\n",
       "      <th></th>\n",
       "      <th></th>\n",
       "      <th></th>\n",
       "      <th></th>\n",
       "      <th></th>\n",
       "      <th></th>\n",
       "      <th></th>\n",
       "      <th></th>\n",
       "    </tr>\n",
       "  </thead>\n",
       "  <tbody>\n",
       "    <tr>\n",
       "      <th>1996-01-01</th>\n",
       "      <td>LASALGAON(MS)</td>\n",
       "      <td>January</td>\n",
       "      <td>1996</td>\n",
       "      <td>225063</td>\n",
       "      <td>160</td>\n",
       "      <td>257</td>\n",
       "      <td>226</td>\n",
       "      <td>MS</td>\n",
       "      <td>LASALGAON</td>\n",
       "    </tr>\n",
       "    <tr>\n",
       "      <th>1997-01-01</th>\n",
       "      <td>LASALGAON(MS)</td>\n",
       "      <td>January</td>\n",
       "      <td>1997</td>\n",
       "      <td>241225</td>\n",
       "      <td>126</td>\n",
       "      <td>323</td>\n",
       "      <td>290</td>\n",
       "      <td>MS</td>\n",
       "      <td>LASALGAON</td>\n",
       "    </tr>\n",
       "    <tr>\n",
       "      <th>1998-01-01</th>\n",
       "      <td>LASALGAON(MS)</td>\n",
       "      <td>January</td>\n",
       "      <td>1998</td>\n",
       "      <td>125731</td>\n",
       "      <td>225</td>\n",
       "      <td>1447</td>\n",
       "      <td>1037</td>\n",
       "      <td>MS</td>\n",
       "      <td>LASALGAON</td>\n",
       "    </tr>\n",
       "    <tr>\n",
       "      <th>1999-01-01</th>\n",
       "      <td>LASALGAON(MS)</td>\n",
       "      <td>January</td>\n",
       "      <td>1999</td>\n",
       "      <td>236001</td>\n",
       "      <td>310</td>\n",
       "      <td>545</td>\n",
       "      <td>498</td>\n",
       "      <td>MS</td>\n",
       "      <td>LASALGAON</td>\n",
       "    </tr>\n",
       "    <tr>\n",
       "      <th>2000-01-01</th>\n",
       "      <td>LASALGAON(MS)</td>\n",
       "      <td>January</td>\n",
       "      <td>2000</td>\n",
       "      <td>390783</td>\n",
       "      <td>145</td>\n",
       "      <td>341</td>\n",
       "      <td>225</td>\n",
       "      <td>MS</td>\n",
       "      <td>LASALGAON</td>\n",
       "    </tr>\n",
       "  </tbody>\n",
       "</table>\n",
       "</div>"
      ],
      "text/plain": [
       "                   market    month  year  quantity  priceMin  priceMax  \\\n",
       "date                                                                     \n",
       "1996-01-01  LASALGAON(MS)  January  1996    225063       160       257   \n",
       "1997-01-01  LASALGAON(MS)  January  1997    241225       126       323   \n",
       "1998-01-01  LASALGAON(MS)  January  1998    125731       225      1447   \n",
       "1999-01-01  LASALGAON(MS)  January  1999    236001       310       545   \n",
       "2000-01-01  LASALGAON(MS)  January  2000    390783       145       341   \n",
       "\n",
       "            priceMod state       city  \n",
       "date                                   \n",
       "1996-01-01       226    MS  LASALGAON  \n",
       "1997-01-01       290    MS  LASALGAON  \n",
       "1998-01-01      1037    MS  LASALGAON  \n",
       "1999-01-01       498    MS  LASALGAON  \n",
       "2000-01-01       225    MS  LASALGAON  "
      ]
     },
     "execution_count": 71,
     "metadata": {},
     "output_type": "execute_result"
    }
   ],
   "source": [
    "df.head()"
   ]
  },
  {
   "cell_type": "code",
   "execution_count": 72,
   "metadata": {},
   "outputs": [
    {
     "data": {
      "text/html": [
       "<div>\n",
       "<style scoped>\n",
       "    .dataframe tbody tr th:only-of-type {\n",
       "        vertical-align: middle;\n",
       "    }\n",
       "\n",
       "    .dataframe tbody tr th {\n",
       "        vertical-align: top;\n",
       "    }\n",
       "\n",
       "    .dataframe thead th {\n",
       "        text-align: right;\n",
       "    }\n",
       "</style>\n",
       "<table border=\"1\" class=\"dataframe\">\n",
       "  <thead>\n",
       "    <tr style=\"text-align: right;\">\n",
       "      <th></th>\n",
       "      <th>market</th>\n",
       "      <th>month</th>\n",
       "      <th>year</th>\n",
       "      <th>quantity</th>\n",
       "      <th>priceMin</th>\n",
       "      <th>priceMax</th>\n",
       "      <th>priceMod</th>\n",
       "      <th>state</th>\n",
       "      <th>city</th>\n",
       "    </tr>\n",
       "    <tr>\n",
       "      <th>date</th>\n",
       "      <th></th>\n",
       "      <th></th>\n",
       "      <th></th>\n",
       "      <th></th>\n",
       "      <th></th>\n",
       "      <th></th>\n",
       "      <th></th>\n",
       "      <th></th>\n",
       "      <th></th>\n",
       "    </tr>\n",
       "  </thead>\n",
       "  <tbody>\n",
       "    <tr>\n",
       "      <th>2011-12-01</th>\n",
       "      <td>LASALGAON(MS)</td>\n",
       "      <td>December</td>\n",
       "      <td>2011</td>\n",
       "      <td>213720</td>\n",
       "      <td>223</td>\n",
       "      <td>803</td>\n",
       "      <td>575</td>\n",
       "      <td>MS</td>\n",
       "      <td>LASALGAON</td>\n",
       "    </tr>\n",
       "    <tr>\n",
       "      <th>2012-12-01</th>\n",
       "      <td>LASALGAON(MS)</td>\n",
       "      <td>December</td>\n",
       "      <td>2012</td>\n",
       "      <td>498275</td>\n",
       "      <td>586</td>\n",
       "      <td>1390</td>\n",
       "      <td>1207</td>\n",
       "      <td>MS</td>\n",
       "      <td>LASALGAON</td>\n",
       "    </tr>\n",
       "    <tr>\n",
       "      <th>2013-12-01</th>\n",
       "      <td>LASALGAON(MS)</td>\n",
       "      <td>December</td>\n",
       "      <td>2013</td>\n",
       "      <td>343533</td>\n",
       "      <td>955</td>\n",
       "      <td>1690</td>\n",
       "      <td>1335</td>\n",
       "      <td>MS</td>\n",
       "      <td>LASALGAON</td>\n",
       "    </tr>\n",
       "    <tr>\n",
       "      <th>2014-12-01</th>\n",
       "      <td>LASALGAON(MS)</td>\n",
       "      <td>December</td>\n",
       "      <td>2014</td>\n",
       "      <td>246504</td>\n",
       "      <td>884</td>\n",
       "      <td>1705</td>\n",
       "      <td>1514</td>\n",
       "      <td>MS</td>\n",
       "      <td>LASALGAON</td>\n",
       "    </tr>\n",
       "    <tr>\n",
       "      <th>2015-12-01</th>\n",
       "      <td>LASALGAON(MS)</td>\n",
       "      <td>December</td>\n",
       "      <td>2015</td>\n",
       "      <td>438498</td>\n",
       "      <td>923</td>\n",
       "      <td>1690</td>\n",
       "      <td>1280</td>\n",
       "      <td>MS</td>\n",
       "      <td>LASALGAON</td>\n",
       "    </tr>\n",
       "  </tbody>\n",
       "</table>\n",
       "</div>"
      ],
      "text/plain": [
       "                   market     month  year  quantity  priceMin  priceMax  \\\n",
       "date                                                                      \n",
       "2011-12-01  LASALGAON(MS)  December  2011    213720       223       803   \n",
       "2012-12-01  LASALGAON(MS)  December  2012    498275       586      1390   \n",
       "2013-12-01  LASALGAON(MS)  December  2013    343533       955      1690   \n",
       "2014-12-01  LASALGAON(MS)  December  2014    246504       884      1705   \n",
       "2015-12-01  LASALGAON(MS)  December  2015    438498       923      1690   \n",
       "\n",
       "            priceMod state       city  \n",
       "date                                   \n",
       "2011-12-01       575    MS  LASALGAON  \n",
       "2012-12-01      1207    MS  LASALGAON  \n",
       "2013-12-01      1335    MS  LASALGAON  \n",
       "2014-12-01      1514    MS  LASALGAON  \n",
       "2015-12-01      1280    MS  LASALGAON  "
      ]
     },
     "execution_count": 72,
     "metadata": {},
     "output_type": "execute_result"
    }
   ],
   "source": [
    "df.tail()"
   ]
  },
  {
   "cell_type": "code",
   "execution_count": 73,
   "metadata": {},
   "outputs": [],
   "source": [
    "df.sort_index(inplace=True)"
   ]
  },
  {
   "cell_type": "code",
   "execution_count": 74,
   "metadata": {},
   "outputs": [],
   "source": [
    "df.drop(['market','month','year','state','city','priceMin'],axis=1,inplace=True)"
   ]
  },
  {
   "cell_type": "code",
   "execution_count": 75,
   "metadata": {},
   "outputs": [
    {
     "data": {
      "text/plain": [
       "(242, 3)"
      ]
     },
     "execution_count": 75,
     "metadata": {},
     "output_type": "execute_result"
    }
   ],
   "source": [
    "df.shape"
   ]
  },
  {
   "cell_type": "code",
   "execution_count": 76,
   "metadata": {},
   "outputs": [
    {
     "data": {
      "text/html": [
       "<div>\n",
       "<style scoped>\n",
       "    .dataframe tbody tr th:only-of-type {\n",
       "        vertical-align: middle;\n",
       "    }\n",
       "\n",
       "    .dataframe tbody tr th {\n",
       "        vertical-align: top;\n",
       "    }\n",
       "\n",
       "    .dataframe thead th {\n",
       "        text-align: right;\n",
       "    }\n",
       "</style>\n",
       "<table border=\"1\" class=\"dataframe\">\n",
       "  <thead>\n",
       "    <tr style=\"text-align: right;\">\n",
       "      <th></th>\n",
       "      <th>quantity</th>\n",
       "      <th>priceMax</th>\n",
       "      <th>priceMod</th>\n",
       "    </tr>\n",
       "    <tr>\n",
       "      <th>date</th>\n",
       "      <th></th>\n",
       "      <th></th>\n",
       "      <th></th>\n",
       "    </tr>\n",
       "  </thead>\n",
       "  <tbody>\n",
       "    <tr>\n",
       "      <th>1996-01-01</th>\n",
       "      <td>225063</td>\n",
       "      <td>257</td>\n",
       "      <td>226</td>\n",
       "    </tr>\n",
       "    <tr>\n",
       "      <th>1996-02-01</th>\n",
       "      <td>196164</td>\n",
       "      <td>229</td>\n",
       "      <td>186</td>\n",
       "    </tr>\n",
       "    <tr>\n",
       "      <th>1996-03-01</th>\n",
       "      <td>178992</td>\n",
       "      <td>274</td>\n",
       "      <td>243</td>\n",
       "    </tr>\n",
       "    <tr>\n",
       "      <th>1996-04-01</th>\n",
       "      <td>192592</td>\n",
       "      <td>279</td>\n",
       "      <td>254</td>\n",
       "    </tr>\n",
       "    <tr>\n",
       "      <th>1996-05-01</th>\n",
       "      <td>237574</td>\n",
       "      <td>312</td>\n",
       "      <td>269</td>\n",
       "    </tr>\n",
       "  </tbody>\n",
       "</table>\n",
       "</div>"
      ],
      "text/plain": [
       "            quantity  priceMax  priceMod\n",
       "date                                    \n",
       "1996-01-01    225063       257       226\n",
       "1996-02-01    196164       229       186\n",
       "1996-03-01    178992       274       243\n",
       "1996-04-01    192592       279       254\n",
       "1996-05-01    237574       312       269"
      ]
     },
     "execution_count": 76,
     "metadata": {},
     "output_type": "execute_result"
    }
   ],
   "source": [
    "df.head()"
   ]
  },
  {
   "cell_type": "markdown",
   "metadata": {},
   "source": [
    "# Define the target and input\n",
    "Input = Previous (lag) priceMod , priceMax and quantity\n",
    "Output = Current priceMod , priceMax and quantity\n",
    "\n",
    "Assume lag =1"
   ]
  },
  {
   "cell_type": "code",
   "execution_count": 77,
   "metadata": {},
   "outputs": [
    {
     "data": {
      "text/html": [
       "<div>\n",
       "<style scoped>\n",
       "    .dataframe tbody tr th:only-of-type {\n",
       "        vertical-align: middle;\n",
       "    }\n",
       "\n",
       "    .dataframe tbody tr th {\n",
       "        vertical-align: top;\n",
       "    }\n",
       "\n",
       "    .dataframe thead th {\n",
       "        text-align: right;\n",
       "    }\n",
       "</style>\n",
       "<table border=\"1\" class=\"dataframe\">\n",
       "  <thead>\n",
       "    <tr style=\"text-align: right;\">\n",
       "      <th></th>\n",
       "      <th>quantity</th>\n",
       "      <th>quant_lag</th>\n",
       "    </tr>\n",
       "    <tr>\n",
       "      <th>date</th>\n",
       "      <th></th>\n",
       "      <th></th>\n",
       "    </tr>\n",
       "  </thead>\n",
       "  <tbody>\n",
       "    <tr>\n",
       "      <th>1996-01-01</th>\n",
       "      <td>225063</td>\n",
       "      <td>NaN</td>\n",
       "    </tr>\n",
       "    <tr>\n",
       "      <th>1996-02-01</th>\n",
       "      <td>196164</td>\n",
       "      <td>225063.0</td>\n",
       "    </tr>\n",
       "    <tr>\n",
       "      <th>1996-03-01</th>\n",
       "      <td>178992</td>\n",
       "      <td>196164.0</td>\n",
       "    </tr>\n",
       "    <tr>\n",
       "      <th>1996-04-01</th>\n",
       "      <td>192592</td>\n",
       "      <td>178992.0</td>\n",
       "    </tr>\n",
       "    <tr>\n",
       "      <th>1996-05-01</th>\n",
       "      <td>237574</td>\n",
       "      <td>192592.0</td>\n",
       "    </tr>\n",
       "    <tr>\n",
       "      <th>...</th>\n",
       "      <td>...</td>\n",
       "      <td>...</td>\n",
       "    </tr>\n",
       "    <tr>\n",
       "      <th>2015-10-01</th>\n",
       "      <td>30532</td>\n",
       "      <td>34925.0</td>\n",
       "    </tr>\n",
       "    <tr>\n",
       "      <th>2015-11-01</th>\n",
       "      <td>178713</td>\n",
       "      <td>30532.0</td>\n",
       "    </tr>\n",
       "    <tr>\n",
       "      <th>2015-12-01</th>\n",
       "      <td>438498</td>\n",
       "      <td>178713.0</td>\n",
       "    </tr>\n",
       "    <tr>\n",
       "      <th>2016-01-01</th>\n",
       "      <td>563321</td>\n",
       "      <td>438498.0</td>\n",
       "    </tr>\n",
       "    <tr>\n",
       "      <th>2016-02-01</th>\n",
       "      <td>292870</td>\n",
       "      <td>563321.0</td>\n",
       "    </tr>\n",
       "  </tbody>\n",
       "</table>\n",
       "<p>242 rows × 2 columns</p>\n",
       "</div>"
      ],
      "text/plain": [
       "            quantity  quant_lag\n",
       "date                           \n",
       "1996-01-01    225063        NaN\n",
       "1996-02-01    196164   225063.0\n",
       "1996-03-01    178992   196164.0\n",
       "1996-04-01    192592   178992.0\n",
       "1996-05-01    237574   192592.0\n",
       "...              ...        ...\n",
       "2015-10-01     30532    34925.0\n",
       "2015-11-01    178713    30532.0\n",
       "2015-12-01    438498   178713.0\n",
       "2016-01-01    563321   438498.0\n",
       "2016-02-01    292870   563321.0\n",
       "\n",
       "[242 rows x 2 columns]"
      ]
     },
     "execution_count": 77,
     "metadata": {},
     "output_type": "execute_result"
    }
   ],
   "source": [
    "df['priceMax_lag'] = df['priceMax'].shift()\n",
    "df['priceMod_lag'] = df['priceMod'].shift()\n",
    "df['quant_lag'] = df['quantity'].shift()\n",
    "df[['quantity','quant_lag']]"
   ]
  },
  {
   "cell_type": "code",
   "execution_count": 78,
   "metadata": {},
   "outputs": [
    {
     "data": {
      "text/html": [
       "<div>\n",
       "<style scoped>\n",
       "    .dataframe tbody tr th:only-of-type {\n",
       "        vertical-align: middle;\n",
       "    }\n",
       "\n",
       "    .dataframe tbody tr th {\n",
       "        vertical-align: top;\n",
       "    }\n",
       "\n",
       "    .dataframe thead th {\n",
       "        text-align: right;\n",
       "    }\n",
       "</style>\n",
       "<table border=\"1\" class=\"dataframe\">\n",
       "  <thead>\n",
       "    <tr style=\"text-align: right;\">\n",
       "      <th></th>\n",
       "      <th>quantity</th>\n",
       "      <th>priceMax</th>\n",
       "      <th>priceMod</th>\n",
       "      <th>priceMax_lag</th>\n",
       "      <th>priceMod_lag</th>\n",
       "      <th>quant_lag</th>\n",
       "    </tr>\n",
       "    <tr>\n",
       "      <th>date</th>\n",
       "      <th></th>\n",
       "      <th></th>\n",
       "      <th></th>\n",
       "      <th></th>\n",
       "      <th></th>\n",
       "      <th></th>\n",
       "    </tr>\n",
       "  </thead>\n",
       "  <tbody>\n",
       "    <tr>\n",
       "      <th>1996-01-01</th>\n",
       "      <td>225063</td>\n",
       "      <td>257</td>\n",
       "      <td>226</td>\n",
       "      <td>NaN</td>\n",
       "      <td>NaN</td>\n",
       "      <td>NaN</td>\n",
       "    </tr>\n",
       "    <tr>\n",
       "      <th>1996-02-01</th>\n",
       "      <td>196164</td>\n",
       "      <td>229</td>\n",
       "      <td>186</td>\n",
       "      <td>257.0</td>\n",
       "      <td>226.0</td>\n",
       "      <td>225063.0</td>\n",
       "    </tr>\n",
       "    <tr>\n",
       "      <th>1996-03-01</th>\n",
       "      <td>178992</td>\n",
       "      <td>274</td>\n",
       "      <td>243</td>\n",
       "      <td>229.0</td>\n",
       "      <td>186.0</td>\n",
       "      <td>196164.0</td>\n",
       "    </tr>\n",
       "    <tr>\n",
       "      <th>1996-04-01</th>\n",
       "      <td>192592</td>\n",
       "      <td>279</td>\n",
       "      <td>254</td>\n",
       "      <td>274.0</td>\n",
       "      <td>243.0</td>\n",
       "      <td>178992.0</td>\n",
       "    </tr>\n",
       "    <tr>\n",
       "      <th>1996-05-01</th>\n",
       "      <td>237574</td>\n",
       "      <td>312</td>\n",
       "      <td>269</td>\n",
       "      <td>279.0</td>\n",
       "      <td>254.0</td>\n",
       "      <td>192592.0</td>\n",
       "    </tr>\n",
       "  </tbody>\n",
       "</table>\n",
       "</div>"
      ],
      "text/plain": [
       "            quantity  priceMax  priceMod  priceMax_lag  priceMod_lag  \\\n",
       "date                                                                   \n",
       "1996-01-01    225063       257       226           NaN           NaN   \n",
       "1996-02-01    196164       229       186         257.0         226.0   \n",
       "1996-03-01    178992       274       243         229.0         186.0   \n",
       "1996-04-01    192592       279       254         274.0         243.0   \n",
       "1996-05-01    237574       312       269         279.0         254.0   \n",
       "\n",
       "            quant_lag  \n",
       "date                   \n",
       "1996-01-01        NaN  \n",
       "1996-02-01   225063.0  \n",
       "1996-03-01   196164.0  \n",
       "1996-04-01   178992.0  \n",
       "1996-05-01   192592.0  "
      ]
     },
     "execution_count": 78,
     "metadata": {},
     "output_type": "execute_result"
    }
   ],
   "source": [
    "df.head()"
   ]
  },
  {
   "cell_type": "code",
   "execution_count": 79,
   "metadata": {},
   "outputs": [],
   "source": [
    "df.dropna(inplace=True)"
   ]
  },
  {
   "cell_type": "code",
   "execution_count": 80,
   "metadata": {},
   "outputs": [
    {
     "data": {
      "text/html": [
       "<div>\n",
       "<style scoped>\n",
       "    .dataframe tbody tr th:only-of-type {\n",
       "        vertical-align: middle;\n",
       "    }\n",
       "\n",
       "    .dataframe tbody tr th {\n",
       "        vertical-align: top;\n",
       "    }\n",
       "\n",
       "    .dataframe thead th {\n",
       "        text-align: right;\n",
       "    }\n",
       "</style>\n",
       "<table border=\"1\" class=\"dataframe\">\n",
       "  <thead>\n",
       "    <tr style=\"text-align: right;\">\n",
       "      <th></th>\n",
       "      <th>quantity</th>\n",
       "      <th>priceMax</th>\n",
       "      <th>priceMod</th>\n",
       "      <th>priceMax_lag</th>\n",
       "      <th>priceMod_lag</th>\n",
       "      <th>quant_lag</th>\n",
       "    </tr>\n",
       "    <tr>\n",
       "      <th>date</th>\n",
       "      <th></th>\n",
       "      <th></th>\n",
       "      <th></th>\n",
       "      <th></th>\n",
       "      <th></th>\n",
       "      <th></th>\n",
       "    </tr>\n",
       "  </thead>\n",
       "  <tbody>\n",
       "    <tr>\n",
       "      <th>1996-02-01</th>\n",
       "      <td>196164</td>\n",
       "      <td>229</td>\n",
       "      <td>186</td>\n",
       "      <td>257.0</td>\n",
       "      <td>226.0</td>\n",
       "      <td>225063.0</td>\n",
       "    </tr>\n",
       "    <tr>\n",
       "      <th>1996-03-01</th>\n",
       "      <td>178992</td>\n",
       "      <td>274</td>\n",
       "      <td>243</td>\n",
       "      <td>229.0</td>\n",
       "      <td>186.0</td>\n",
       "      <td>196164.0</td>\n",
       "    </tr>\n",
       "    <tr>\n",
       "      <th>1996-04-01</th>\n",
       "      <td>192592</td>\n",
       "      <td>279</td>\n",
       "      <td>254</td>\n",
       "      <td>274.0</td>\n",
       "      <td>243.0</td>\n",
       "      <td>178992.0</td>\n",
       "    </tr>\n",
       "    <tr>\n",
       "      <th>1996-05-01</th>\n",
       "      <td>237574</td>\n",
       "      <td>312</td>\n",
       "      <td>269</td>\n",
       "      <td>279.0</td>\n",
       "      <td>254.0</td>\n",
       "      <td>192592.0</td>\n",
       "    </tr>\n",
       "    <tr>\n",
       "      <th>1996-06-01</th>\n",
       "      <td>175308</td>\n",
       "      <td>413</td>\n",
       "      <td>367</td>\n",
       "      <td>312.0</td>\n",
       "      <td>269.0</td>\n",
       "      <td>237574.0</td>\n",
       "    </tr>\n",
       "  </tbody>\n",
       "</table>\n",
       "</div>"
      ],
      "text/plain": [
       "            quantity  priceMax  priceMod  priceMax_lag  priceMod_lag  \\\n",
       "date                                                                   \n",
       "1996-02-01    196164       229       186         257.0         226.0   \n",
       "1996-03-01    178992       274       243         229.0         186.0   \n",
       "1996-04-01    192592       279       254         274.0         243.0   \n",
       "1996-05-01    237574       312       269         279.0         254.0   \n",
       "1996-06-01    175308       413       367         312.0         269.0   \n",
       "\n",
       "            quant_lag  \n",
       "date                   \n",
       "1996-02-01   225063.0  \n",
       "1996-03-01   196164.0  \n",
       "1996-04-01   178992.0  \n",
       "1996-05-01   192592.0  \n",
       "1996-06-01   237574.0  "
      ]
     },
     "execution_count": 80,
     "metadata": {},
     "output_type": "execute_result"
    }
   ],
   "source": [
    "df.head()"
   ]
  },
  {
   "cell_type": "markdown",
   "metadata": {},
   "source": [
    "# Model --1\n",
    "    X= quantity_lag,\tpriceMax_lag,\tpriceMod_lag\n",
    "    y= quantity\n",
    "    R score = 1"
   ]
  },
  {
   "cell_type": "code",
   "execution_count": 61,
   "metadata": {},
   "outputs": [
    {
     "name": "stdout",
     "output_type": "stream",
     "text": [
      "(200, 3) (200,) (41, 3) (41,)\n"
     ]
    }
   ],
   "source": [
    "# Training = 200 samples and Test remaining samples\n",
    "train_X=df.iloc[:200,3:]\n",
    "train_y=df.iloc[:200,0]\n",
    "test_X=df.iloc[200:,3:]\n",
    "test_y=df.iloc[200:,0]\n",
    "print(train_X.shape,train_y.shape,test_X.shape,test_y.shape)"
   ]
  },
  {
   "cell_type": "code",
   "execution_count": 62,
   "metadata": {},
   "outputs": [],
   "source": [
    "from sklearn.linear_model import LinearRegression"
   ]
  },
  {
   "cell_type": "code",
   "execution_count": 63,
   "metadata": {},
   "outputs": [],
   "source": [
    "model1 = LinearRegression().fit(train_X, train_y)"
   ]
  },
  {
   "cell_type": "code",
   "execution_count": 64,
   "metadata": {},
   "outputs": [
    {
     "name": "stdout",
     "output_type": "stream",
     "text": [
      "0.425969467107369\n"
     ]
    }
   ],
   "source": [
    "print(model1.score(test_X, test_y)) "
   ]
  },
  {
   "cell_type": "code",
   "execution_count": 67,
   "metadata": {},
   "outputs": [],
   "source": [
    "perd_y = model1.predict(test_X)"
   ]
  },
  {
   "cell_type": "code",
   "execution_count": 68,
   "metadata": {},
   "outputs": [
    {
     "data": {
      "text/plain": [
       "107747.55488912817"
      ]
     },
     "execution_count": 68,
     "metadata": {},
     "output_type": "execute_result"
    }
   ],
   "source": [
    "(mean_squared_error(perd_y, test_y)**(1/2))"
   ]
  },
  {
   "cell_type": "markdown",
   "metadata": {},
   "source": [
    "# Assume lag =3"
   ]
  },
  {
   "cell_type": "code",
   "execution_count": 81,
   "metadata": {},
   "outputs": [
    {
     "data": {
      "text/html": [
       "<div>\n",
       "<style scoped>\n",
       "    .dataframe tbody tr th:only-of-type {\n",
       "        vertical-align: middle;\n",
       "    }\n",
       "\n",
       "    .dataframe tbody tr th {\n",
       "        vertical-align: top;\n",
       "    }\n",
       "\n",
       "    .dataframe thead th {\n",
       "        text-align: right;\n",
       "    }\n",
       "</style>\n",
       "<table border=\"1\" class=\"dataframe\">\n",
       "  <thead>\n",
       "    <tr style=\"text-align: right;\">\n",
       "      <th></th>\n",
       "      <th>quantity</th>\n",
       "      <th>priceMax</th>\n",
       "      <th>priceMod</th>\n",
       "      <th>priceMax_lag</th>\n",
       "      <th>priceMod_lag</th>\n",
       "      <th>quant_lag</th>\n",
       "      <th>quant_lag1</th>\n",
       "      <th>quant_lag2</th>\n",
       "      <th>quant_lag3</th>\n",
       "    </tr>\n",
       "    <tr>\n",
       "      <th>date</th>\n",
       "      <th></th>\n",
       "      <th></th>\n",
       "      <th></th>\n",
       "      <th></th>\n",
       "      <th></th>\n",
       "      <th></th>\n",
       "      <th></th>\n",
       "      <th></th>\n",
       "      <th></th>\n",
       "    </tr>\n",
       "  </thead>\n",
       "  <tbody>\n",
       "    <tr>\n",
       "      <th>1996-02-01</th>\n",
       "      <td>196164</td>\n",
       "      <td>229</td>\n",
       "      <td>186</td>\n",
       "      <td>257.0</td>\n",
       "      <td>226.0</td>\n",
       "      <td>225063.0</td>\n",
       "      <td>NaN</td>\n",
       "      <td>NaN</td>\n",
       "      <td>NaN</td>\n",
       "    </tr>\n",
       "    <tr>\n",
       "      <th>1996-03-01</th>\n",
       "      <td>178992</td>\n",
       "      <td>274</td>\n",
       "      <td>243</td>\n",
       "      <td>229.0</td>\n",
       "      <td>186.0</td>\n",
       "      <td>196164.0</td>\n",
       "      <td>196164.0</td>\n",
       "      <td>NaN</td>\n",
       "      <td>NaN</td>\n",
       "    </tr>\n",
       "    <tr>\n",
       "      <th>1996-04-01</th>\n",
       "      <td>192592</td>\n",
       "      <td>279</td>\n",
       "      <td>254</td>\n",
       "      <td>274.0</td>\n",
       "      <td>243.0</td>\n",
       "      <td>178992.0</td>\n",
       "      <td>178992.0</td>\n",
       "      <td>196164.0</td>\n",
       "      <td>NaN</td>\n",
       "    </tr>\n",
       "    <tr>\n",
       "      <th>1996-05-01</th>\n",
       "      <td>237574</td>\n",
       "      <td>312</td>\n",
       "      <td>269</td>\n",
       "      <td>279.0</td>\n",
       "      <td>254.0</td>\n",
       "      <td>192592.0</td>\n",
       "      <td>192592.0</td>\n",
       "      <td>178992.0</td>\n",
       "      <td>196164.0</td>\n",
       "    </tr>\n",
       "    <tr>\n",
       "      <th>1996-06-01</th>\n",
       "      <td>175308</td>\n",
       "      <td>413</td>\n",
       "      <td>367</td>\n",
       "      <td>312.0</td>\n",
       "      <td>269.0</td>\n",
       "      <td>237574.0</td>\n",
       "      <td>237574.0</td>\n",
       "      <td>192592.0</td>\n",
       "      <td>178992.0</td>\n",
       "    </tr>\n",
       "  </tbody>\n",
       "</table>\n",
       "</div>"
      ],
      "text/plain": [
       "            quantity  priceMax  priceMod  priceMax_lag  priceMod_lag  \\\n",
       "date                                                                   \n",
       "1996-02-01    196164       229       186         257.0         226.0   \n",
       "1996-03-01    178992       274       243         229.0         186.0   \n",
       "1996-04-01    192592       279       254         274.0         243.0   \n",
       "1996-05-01    237574       312       269         279.0         254.0   \n",
       "1996-06-01    175308       413       367         312.0         269.0   \n",
       "\n",
       "            quant_lag  quant_lag1  quant_lag2  quant_lag3  \n",
       "date                                                       \n",
       "1996-02-01   225063.0         NaN         NaN         NaN  \n",
       "1996-03-01   196164.0    196164.0         NaN         NaN  \n",
       "1996-04-01   178992.0    178992.0    196164.0         NaN  \n",
       "1996-05-01   192592.0    192592.0    178992.0    196164.0  \n",
       "1996-06-01   237574.0    237574.0    192592.0    178992.0  "
      ]
     },
     "execution_count": 81,
     "metadata": {},
     "output_type": "execute_result"
    }
   ],
   "source": [
    "df['quant_lag1'] = df['quantity'].shift()\n",
    "df['quant_lag2'] = df['quantity'].shift(2)\n",
    "df['quant_lag3'] = df['quantity'].shift(3)\n",
    "df.head()"
   ]
  },
  {
   "cell_type": "code",
   "execution_count": 82,
   "metadata": {},
   "outputs": [],
   "source": [
    "df.dropna(inplace=True)"
   ]
  },
  {
   "cell_type": "code",
   "execution_count": 83,
   "metadata": {},
   "outputs": [],
   "source": [
    "df.drop(['priceMod','priceMax'],axis=1,inplace=True)"
   ]
  },
  {
   "cell_type": "code",
   "execution_count": 84,
   "metadata": {},
   "outputs": [
    {
     "data": {
      "text/html": [
       "<div>\n",
       "<style scoped>\n",
       "    .dataframe tbody tr th:only-of-type {\n",
       "        vertical-align: middle;\n",
       "    }\n",
       "\n",
       "    .dataframe tbody tr th {\n",
       "        vertical-align: top;\n",
       "    }\n",
       "\n",
       "    .dataframe thead th {\n",
       "        text-align: right;\n",
       "    }\n",
       "</style>\n",
       "<table border=\"1\" class=\"dataframe\">\n",
       "  <thead>\n",
       "    <tr style=\"text-align: right;\">\n",
       "      <th></th>\n",
       "      <th>quantity</th>\n",
       "      <th>priceMax_lag</th>\n",
       "      <th>priceMod_lag</th>\n",
       "      <th>quant_lag</th>\n",
       "      <th>quant_lag1</th>\n",
       "      <th>quant_lag2</th>\n",
       "      <th>quant_lag3</th>\n",
       "    </tr>\n",
       "    <tr>\n",
       "      <th>date</th>\n",
       "      <th></th>\n",
       "      <th></th>\n",
       "      <th></th>\n",
       "      <th></th>\n",
       "      <th></th>\n",
       "      <th></th>\n",
       "      <th></th>\n",
       "    </tr>\n",
       "  </thead>\n",
       "  <tbody>\n",
       "    <tr>\n",
       "      <th>1996-05-01</th>\n",
       "      <td>237574</td>\n",
       "      <td>279.0</td>\n",
       "      <td>254.0</td>\n",
       "      <td>192592.0</td>\n",
       "      <td>192592.0</td>\n",
       "      <td>178992.0</td>\n",
       "      <td>196164.0</td>\n",
       "    </tr>\n",
       "    <tr>\n",
       "      <th>1996-06-01</th>\n",
       "      <td>175308</td>\n",
       "      <td>312.0</td>\n",
       "      <td>269.0</td>\n",
       "      <td>237574.0</td>\n",
       "      <td>237574.0</td>\n",
       "      <td>192592.0</td>\n",
       "      <td>178992.0</td>\n",
       "    </tr>\n",
       "    <tr>\n",
       "      <th>1996-07-01</th>\n",
       "      <td>156282</td>\n",
       "      <td>413.0</td>\n",
       "      <td>367.0</td>\n",
       "      <td>175308.0</td>\n",
       "      <td>175308.0</td>\n",
       "      <td>237574.0</td>\n",
       "      <td>192592.0</td>\n",
       "    </tr>\n",
       "    <tr>\n",
       "      <th>1996-08-01</th>\n",
       "      <td>173892</td>\n",
       "      <td>406.0</td>\n",
       "      <td>368.0</td>\n",
       "      <td>156282.0</td>\n",
       "      <td>156282.0</td>\n",
       "      <td>175308.0</td>\n",
       "      <td>237574.0</td>\n",
       "    </tr>\n",
       "    <tr>\n",
       "      <th>1996-09-01</th>\n",
       "      <td>138648</td>\n",
       "      <td>388.0</td>\n",
       "      <td>340.0</td>\n",
       "      <td>173892.0</td>\n",
       "      <td>173892.0</td>\n",
       "      <td>156282.0</td>\n",
       "      <td>175308.0</td>\n",
       "    </tr>\n",
       "  </tbody>\n",
       "</table>\n",
       "</div>"
      ],
      "text/plain": [
       "            quantity  priceMax_lag  priceMod_lag  quant_lag  quant_lag1  \\\n",
       "date                                                                      \n",
       "1996-05-01    237574         279.0         254.0   192592.0    192592.0   \n",
       "1996-06-01    175308         312.0         269.0   237574.0    237574.0   \n",
       "1996-07-01    156282         413.0         367.0   175308.0    175308.0   \n",
       "1996-08-01    173892         406.0         368.0   156282.0    156282.0   \n",
       "1996-09-01    138648         388.0         340.0   173892.0    173892.0   \n",
       "\n",
       "            quant_lag2  quant_lag3  \n",
       "date                                \n",
       "1996-05-01    178992.0    196164.0  \n",
       "1996-06-01    192592.0    178992.0  \n",
       "1996-07-01    237574.0    192592.0  \n",
       "1996-08-01    175308.0    237574.0  \n",
       "1996-09-01    156282.0    175308.0  "
      ]
     },
     "execution_count": 84,
     "metadata": {},
     "output_type": "execute_result"
    }
   ],
   "source": [
    "df.head()"
   ]
  },
  {
   "cell_type": "code",
   "execution_count": 85,
   "metadata": {},
   "outputs": [
    {
     "name": "stdout",
     "output_type": "stream",
     "text": [
      "(200, 4) (200,) (38, 4) (38,)\n"
     ]
    }
   ],
   "source": [
    "# Training = 200 samples and Test 41 samples\n",
    "train_X=df.iloc[:200,3:]\n",
    "train_y=df.iloc[:200,0]\n",
    "test_X=df.iloc[200:,3:]\n",
    "test_y=df.iloc[200:,0]\n",
    "print(train_X.shape,train_y.shape,test_X.shape,test_y.shape)"
   ]
  },
  {
   "cell_type": "code",
   "execution_count": 86,
   "metadata": {},
   "outputs": [],
   "source": [
    "model1 = LinearRegression().fit(train_X, train_y)"
   ]
  },
  {
   "cell_type": "code",
   "execution_count": 87,
   "metadata": {},
   "outputs": [
    {
     "name": "stdout",
     "output_type": "stream",
     "text": [
      "0.5604744297821448\n"
     ]
    }
   ],
   "source": [
    "print(model1.score(test_X, test_y)) "
   ]
  },
  {
   "cell_type": "code",
   "execution_count": 88,
   "metadata": {},
   "outputs": [],
   "source": [
    "perd_y = model1.predict(test_X)"
   ]
  },
  {
   "cell_type": "code",
   "execution_count": 89,
   "metadata": {},
   "outputs": [],
   "source": [
    "from sklearn.metrics import mean_squared_error"
   ]
  },
  {
   "cell_type": "code",
   "execution_count": 90,
   "metadata": {},
   "outputs": [
    {
     "data": {
      "text/plain": [
       "94845.67827107651"
      ]
     },
     "execution_count": 90,
     "metadata": {},
     "output_type": "execute_result"
    }
   ],
   "source": [
    "(mean_squared_error(perd_y, test_y)**(1/2))"
   ]
  },
  {
   "cell_type": "code",
   "execution_count": 91,
   "metadata": {},
   "outputs": [
    {
     "data": {
      "text/plain": [
       "243581.50420168068"
      ]
     },
     "execution_count": 91,
     "metadata": {},
     "output_type": "execute_result"
    }
   ],
   "source": [
    "df.quantity.mean()"
   ]
  },
  {
   "cell_type": "code",
   "execution_count": null,
   "metadata": {},
   "outputs": [],
   "source": []
  }
 ],
 "metadata": {
  "kernelspec": {
   "display_name": "Python 3",
   "language": "python",
   "name": "python3"
  },
  "language_info": {
   "codemirror_mode": {
    "name": "ipython",
    "version": 3
   },
   "file_extension": ".py",
   "mimetype": "text/x-python",
   "name": "python",
   "nbconvert_exporter": "python",
   "pygments_lexer": "ipython3",
   "version": "3.7.6"
  }
 },
 "nbformat": 4,
 "nbformat_minor": 4
}
