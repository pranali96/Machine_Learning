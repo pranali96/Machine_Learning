{
 "cells": [
  {
   "cell_type": "markdown",
   "metadata": {
    "colab_type": "text",
    "id": "xOg-YmkE2gCt"
   },
   "source": [
    "# Why Numpy\n",
    "\n",
    "1 Fast\n",
    "\n",
    "2 Memory efficient\n",
    "\n",
    "3 Intutive syntax"
   ]
  },
  {
   "cell_type": "code",
   "execution_count": null,
   "metadata": {
    "colab": {},
    "colab_type": "code",
    "id": "QH0Ku1nIv4X4"
   },
   "outputs": [],
   "source": [
    "#!conda install numpy\n",
    "#!pip install numpy"
   ]
  },
  {
   "cell_type": "code",
   "execution_count": 1,
   "metadata": {
    "colab": {},
    "colab_type": "code",
    "id": "0nhHA4wOwGMg"
   },
   "outputs": [],
   "source": [
    "import numpy as np\n",
    "# import sys"
   ]
  },
  {
   "cell_type": "code",
   "execution_count": 2,
   "metadata": {
    "colab": {
     "base_uri": "https://localhost:8080/",
     "height": 87
    },
    "colab_type": "code",
    "id": "JDG-rrNiwIXV",
    "outputId": "08815a85-ea80-44e7-cca7-e8dc66b23b83"
   },
   "outputs": [
    {
     "name": "stdout",
     "output_type": "stream",
     "text": [
      "[1 2 3] [10000000000000   898988698989   345345345345]\n",
      "total elemets = 3 3\n",
      "size of each item = 4 8\n",
      "Data type of each element= <class 'numpy.int32'> <class 'numpy.int64'>\n"
     ]
    }
   ],
   "source": [
    "#create array\n",
    "arr = np.array([1,2,3])\n",
    "arr1 = np.array([10000000000000,898988698989,345345345345])\n",
    "print(arr,arr1)\n",
    "print(\"total elemets =\",arr.size,arr1.size)\n",
    "print(\"size of each item =\",arr.itemsize,arr1.itemsize)\n",
    "print(\"Data type of each element=\",type(arr[0]),type(arr1[0]))"
   ]
  },
  {
   "cell_type": "code",
   "execution_count": 3,
   "metadata": {
    "colab": {
     "base_uri": "https://localhost:8080/",
     "height": 35
    },
    "colab_type": "code",
    "id": "0BaKOlxOwSSA",
    "outputId": "333835c1-1cbd-4072-e0c5-cfe67195c619"
   },
   "outputs": [
    {
     "data": {
      "text/plain": [
       "array([ 4,  8, 12])"
      ]
     },
     "execution_count": 3,
     "metadata": {},
     "output_type": "execute_result"
    }
   ],
   "source": [
    "arr*4 # all elements of array multiplied by 4"
   ]
  },
  {
   "cell_type": "code",
   "execution_count": 4,
   "metadata": {
    "colab": {
     "base_uri": "https://localhost:8080/",
     "height": 35
    },
    "colab_type": "code",
    "id": "JtCq4D4Q2Rb9",
    "outputId": "d798a8a5-b10d-4917-f44c-817a37c918c4"
   },
   "outputs": [
    {
     "data": {
      "text/plain": [
       "array([1, 0, 1], dtype=int32)"
      ]
     },
     "execution_count": 4,
     "metadata": {},
     "output_type": "execute_result"
    }
   ],
   "source": [
    "arr%2 # [ 1 2 3] % 2"
   ]
  },
  {
   "cell_type": "code",
   "execution_count": 5,
   "metadata": {
    "colab": {
     "base_uri": "https://localhost:8080/",
     "height": 35
    },
    "colab_type": "code",
    "id": "CbgYlrlFwYkS",
    "outputId": "9b557ceb-0e67-4fd1-a720-decb657e485a"
   },
   "outputs": [
    {
     "data": {
      "text/plain": [
       "array([1, 4, 9])"
      ]
     },
     "execution_count": 5,
     "metadata": {},
     "output_type": "execute_result"
    }
   ],
   "source": [
    "arr*arr # Element wise multiplication"
   ]
  },
  {
   "cell_type": "code",
   "execution_count": 6,
   "metadata": {},
   "outputs": [
    {
     "name": "stdout",
     "output_type": "stream",
     "text": [
      "[ 175000.    274850.88 4596046.42]\n"
     ]
    }
   ],
   "source": [
    "# WAP to have one array Basic SAl and other has bonus perrcentsge of every employee\n",
    "# Print total sal of every emp\n",
    "basic_sal= np.array([100000,223456,3455674])\n",
    "basic_percentage = np.array([75,23,33])\n",
    "total_sal = basic_sal + (basic_sal*(basic_percentage/100)) \n",
    "print(total_sal)"
   ]
  },
  {
   "cell_type": "code",
   "execution_count": 7,
   "metadata": {
    "colab": {
     "base_uri": "https://localhost:8080/",
     "height": 35
    },
    "colab_type": "code",
    "id": "W0trrwPbwaZf",
    "outputId": "e22c4a20-0439-46f4-c809-ca3cbfd8b46b"
   },
   "outputs": [
    {
     "name": "stdout",
     "output_type": "stream",
     "text": [
      "[10  8  6  4  2  0 -2] [10 13 16 19 22 25 28]\n"
     ]
    }
   ],
   "source": [
    "arr1 = np.array([15,22,34])\n",
    "#start < end when step +ve\n",
    "#start > end when step -ve\n",
    "arr2=np.arange(10,30,3)\n",
    "arr1=np.arange(10,-3,-2)\n",
    "\n",
    "print(arr1,arr2)"
   ]
  },
  {
   "cell_type": "code",
   "execution_count": 8,
   "metadata": {
    "colab": {
     "base_uri": "https://localhost:8080/",
     "height": 87
    },
    "colab_type": "code",
    "id": "o-QLpTThBF5F",
    "outputId": "3e4ab5c7-e128-45f1-e88c-e2210e7e555b"
   },
   "outputs": [
    {
     "data": {
      "text/plain": [
       "array([40.5, 40.2, 39.9, 39.6, 39.3, 39. , 38.7, 38.4, 38.1, 37.8, 37.5,\n",
       "       37.2, 36.9, 36.6, 36.3, 36. , 35.7, 35.4, 35.1, 34.8, 34.5, 34.2,\n",
       "       33.9, 33.6, 33.3, 33. , 32.7, 32.4, 32.1, 31.8, 31.5, 31.2, 30.9,\n",
       "       30.6, 30.3, 30. ])"
      ]
     },
     "execution_count": 8,
     "metadata": {},
     "output_type": "execute_result"
    }
   ],
   "source": [
    "np.arange(40.5,29.9,-0.3)#,dtype = float)"
   ]
  },
  {
   "cell_type": "code",
   "execution_count": 9,
   "metadata": {
    "colab": {
     "base_uri": "https://localhost:8080/",
     "height": 139
    },
    "colab_type": "code",
    "id": "iHVJhl_vB_SD",
    "outputId": "dff465a1-a4c4-4ffe-9be5-8833afe0efdd"
   },
   "outputs": [
    {
     "data": {
      "text/plain": [
       "array([10. , 10.3, 10.6, 10.9, 11.2, 11.5, 11.8, 12.1, 12.4, 12.7, 13. ,\n",
       "       13.3, 13.6, 13.9, 14.2, 14.5, 14.8, 15.1, 15.4, 15.7, 16. , 16.3,\n",
       "       16.6, 16.9, 17.2, 17.5, 17.8, 18.1, 18.4, 18.7, 19. , 19.3, 19.6,\n",
       "       19.9, 20.2, 20.5, 20.8, 21.1, 21.4, 21.7, 22. , 22.3, 22.6, 22.9,\n",
       "       23.2, 23.5, 23.8, 24.1, 24.4, 24.7, 25. , 25.3, 25.6, 25.9, 26.2,\n",
       "       26.5, 26.8, 27.1, 27.4, 27.7, 28. , 28.3, 28.6, 28.9, 29.2, 29.5,\n",
       "       29.8, 30.1])"
      ]
     },
     "execution_count": 9,
     "metadata": {},
     "output_type": "execute_result"
    }
   ],
   "source": [
    "np.arange(10,30.3,0.3,dtype = float) \n",
    "#np.arange(10,30.2,0.2,dtype = float) \n",
    "# incase of floating point step \n",
    "# End value is inclusive :: because of rounding off effect \n",
    "# eg. 0.3 is 0.2999... and 0.7 is 0.6999...."
   ]
  },
  {
   "cell_type": "code",
   "execution_count": 10,
   "metadata": {
    "colab": {
     "base_uri": "https://localhost:8080/",
     "height": 104
    },
    "colab_type": "code",
    "id": "61jzLpd4DT7N",
    "outputId": "a51c2815-8c55-4f84-f79f-a38c4d970d38"
   },
   "outputs": [
    {
     "data": {
      "text/plain": [
       "array([10.2, 10.4, 10.6, 10.8, 11. , 11.2, 11.4, 11.6, 11.8, 12. , 12.2,\n",
       "       12.4, 12.6, 12.8, 13. , 13.2, 13.4, 13.6, 13.8, 14. , 14.2, 14.4,\n",
       "       14.6, 14.8, 15. , 15.2, 15.4, 15.6, 15.8, 16. , 16.2, 16.4, 16.6,\n",
       "       16.8, 17. , 17.2, 17.4, 17.6, 17.8, 18. , 18.2, 18.4, 18.6, 18.8,\n",
       "       19. , 19.2, 19.4, 19.6, 19.8, 20. ])"
      ]
     },
     "execution_count": 10,
     "metadata": {},
     "output_type": "execute_result"
    }
   ],
   "source": [
    "np.arange(10.2,20.2,0.2) # Not always.."
   ]
  },
  {
   "cell_type": "code",
   "execution_count": 11,
   "metadata": {
    "colab": {
     "base_uri": "https://localhost:8080/",
     "height": 35
    },
    "colab_type": "code",
    "id": "axqnTkDhxdu5",
    "outputId": "dcd38483-aab4-49d1-860b-2cc30f6a02a8"
   },
   "outputs": [
    {
     "data": {
      "text/plain": [
       "array([20, 21, 22, 23, 24, 25, 26])"
      ]
     },
     "execution_count": 11,
     "metadata": {},
     "output_type": "execute_result"
    }
   ],
   "source": [
    "arr1+arr2 # + , -,  *,  /"
   ]
  },
  {
   "cell_type": "code",
   "execution_count": 13,
   "metadata": {
    "colab": {
     "base_uri": "https://localhost:8080/",
     "height": 235
    },
    "colab_type": "code",
    "id": "rq2gihv6xkSX",
    "outputId": "941c1e80-3f87-4fc0-be0c-0dc8136219c0",
    "scrolled": true
   },
   "outputs": [
    {
     "name": "stdout",
     "output_type": "stream",
     "text": [
      "[10  8  6  4  2  0 -2]\n",
      "[0 1 2 3 4 5 6 7 8 9]\n"
     ]
    },
    {
     "ename": "ValueError",
     "evalue": "operands could not be broadcast together with shapes (7,) (10,) ",
     "output_type": "error",
     "traceback": [
      "\u001b[1;31m---------------------------------------------------------------------------\u001b[0m",
      "\u001b[1;31mValueError\u001b[0m                                Traceback (most recent call last)",
      "\u001b[1;32m<ipython-input-13-693b61a493aa>\u001b[0m in \u001b[0;36m<module>\u001b[1;34m\u001b[0m\n\u001b[0;32m      2\u001b[0m \u001b[0mprint\u001b[0m\u001b[1;33m(\u001b[0m\u001b[0marr1\u001b[0m\u001b[1;33m)\u001b[0m\u001b[1;33m\u001b[0m\u001b[1;33m\u001b[0m\u001b[0m\n\u001b[0;32m      3\u001b[0m \u001b[0mprint\u001b[0m\u001b[1;33m(\u001b[0m\u001b[0marr3\u001b[0m\u001b[1;33m)\u001b[0m\u001b[1;33m\u001b[0m\u001b[1;33m\u001b[0m\u001b[0m\n\u001b[1;32m----> 4\u001b[1;33m \u001b[0marr1\u001b[0m\u001b[1;33m+\u001b[0m\u001b[0marr3\u001b[0m\u001b[1;33m\u001b[0m\u001b[1;33m\u001b[0m\u001b[0m\n\u001b[0m",
      "\u001b[1;31mValueError\u001b[0m: operands could not be broadcast together with shapes (7,) (10,) "
     ]
    }
   ],
   "source": [
    "arr3=np.arange(10)\n",
    "print(arr1)\n",
    "print(arr3)\n",
    "arr1+arr3"
   ]
  },
  {
   "cell_type": "markdown",
   "metadata": {
    "colab_type": "text",
    "id": "ncQjN9Ow8zzd"
   },
   "source": [
    "# Assignment \n",
    "\n",
    "Given array of marks out of hundred for 5 students \n",
    "\n",
    "Find percentile of each student\n",
    "percentile = marks / max_marks *100"
   ]
  },
  {
   "cell_type": "code",
   "execution_count": 14,
   "metadata": {
    "colab": {
     "base_uri": "https://localhost:8080/",
     "height": 69
    },
    "colab_type": "code",
    "id": "EdXJV6SsNZ_q",
    "outputId": "365df6a4-3d57-4c67-f853-0586b2756281"
   },
   "outputs": [
    {
     "name": "stdout",
     "output_type": "stream",
     "text": [
      "95\n",
      "[ 94.73684211  91.57894737  89.47368421 100.          94.73684211]\n",
      "[ 94.73684211  91.57894737  89.47368421 100.          94.73684211]\n"
     ]
    }
   ],
   "source": [
    "a1 = np.array([90,87,85,95,90])\n",
    "print(a1.max())\n",
    "per = a1 / a1.max() * 100\n",
    "print(per)\n",
    "per1 = a1 / max(a1) * 100\n",
    "print(per1)"
   ]
  },
  {
   "cell_type": "code",
   "execution_count": 15,
   "metadata": {
    "colab": {
     "base_uri": "https://localhost:8080/",
     "height": 52
    },
    "colab_type": "code",
    "id": "tZzCogZkxoaa",
    "outputId": "c6158dca-ef15-4188-b756-879c2887baa4"
   },
   "outputs": [
    {
     "data": {
      "text/plain": [
       "array([[1, 2],\n",
       "       [3, 4]])"
      ]
     },
     "execution_count": 15,
     "metadata": {},
     "output_type": "execute_result"
    }
   ],
   "source": [
    "np.array([[1, 2], [3, 4]])"
   ]
  },
  {
   "cell_type": "code",
   "execution_count": 16,
   "metadata": {
    "colab": {
     "base_uri": "https://localhost:8080/",
     "height": 35
    },
    "colab_type": "code",
    "id": "6Nibva3BypHU",
    "outputId": "5dd2a048-99e5-4233-d50f-b715efc5d058"
   },
   "outputs": [
    {
     "data": {
      "text/plain": [
       "array([1.+67.j, 2. +0.j, 3. +0.j])"
      ]
     },
     "execution_count": 16,
     "metadata": {},
     "output_type": "execute_result"
    }
   ],
   "source": [
    "np.array([1+67j, 2, 3], dtype=complex)\n",
    "# All data types in numpy\n",
    "# https://numpy.org/devdocs/user/basics.types.html"
   ]
  },
  {
   "cell_type": "markdown",
   "metadata": {
    "colab_type": "text",
    "id": "7UZzxdU7zSEU"
   },
   "source": [
    "# Functions to create default array\n",
    "\n",
    "*empty_like*\n",
    "Return an empty array with shape and type of input.\n",
    "\n",
    "*ones_like*\n",
    "Return an array of ones with shape and type of input.\n",
    "\n",
    "*zeros_like*\n",
    "Return an array of zeros with shape and type of input.\n",
    "\n",
    "*full_like*\n",
    "Return a full array with the same shape and type as a given array.\n",
    "\n",
    "*empty*\n",
    "Return a new uninitialized array.\n",
    "\n",
    "*ones*\n",
    "Return a new array setting values to one.\n",
    "\n",
    "*zeros*\n",
    "Return a new array setting values to zero.\n",
    "\n",
    "*full*\n",
    "Return a new array of given shape and type, filled with fill_value."
   ]
  },
  {
   "cell_type": "code",
   "execution_count": 17,
   "metadata": {
    "colab": {
     "base_uri": "https://localhost:8080/",
     "height": 35
    },
    "colab_type": "code",
    "id": "Hk-2tY1WF51m",
    "outputId": "7a2e84e0-d24b-4849-95ad-7dea67b7f7c4"
   },
   "outputs": [
    {
     "data": {
      "text/plain": [
       "array([128, 284, 141, 137,  93])"
      ]
     },
     "execution_count": 17,
     "metadata": {},
     "output_type": "execute_result"
    }
   ],
   "source": [
    "np.random.randint(1,500,5) # psuedo random number genrator"
   ]
  },
  {
   "cell_type": "code",
   "execution_count": 18,
   "metadata": {
    "colab": {
     "base_uri": "https://localhost:8080/",
     "height": 35
    },
    "colab_type": "code",
    "id": "U6LDFn8Jy568",
    "outputId": "7ce0c61d-eab4-4242-e715-68a9a4275b5c"
   },
   "outputs": [
    {
     "name": "stdout",
     "output_type": "stream",
     "text": [
      "[0.37168392 0.65048785 0.10083679 0.001996   0.94780177 0.0257825 ]\n"
     ]
    }
   ],
   "source": [
    "my_rand = np.random.rand(6) # values between 0 to 1\n",
    "print(my_rand)\n",
    "# Create random array containing numbers between 10 to 20 with total 10 elements"
   ]
  },
  {
   "cell_type": "code",
   "execution_count": 19,
   "metadata": {
    "colab": {
     "base_uri": "https://localhost:8080/",
     "height": 52
    },
    "colab_type": "code",
    "id": "BQXlr6aV2A2G",
    "outputId": "7e736915-9c50-41b2-ec65-d61c315f314e"
   },
   "outputs": [
    {
     "data": {
      "text/plain": [
       "array([ 0. ,  2.5,  5. ,  7.5, 10. ])"
      ]
     },
     "execution_count": 19,
     "metadata": {},
     "output_type": "execute_result"
    }
   ],
   "source": [
    "np.linspace(0,10,5) # Equal distant numbers"
   ]
  },
  {
   "cell_type": "code",
   "execution_count": 20,
   "metadata": {
    "colab": {
     "base_uri": "https://localhost:8080/",
     "height": 225
    },
    "colab_type": "code",
    "id": "Rxs2aJ2c3AlA",
    "outputId": "46a60060-e28b-4913-b531-77583a52b4b9"
   },
   "outputs": [
    {
     "name": "stdout",
     "output_type": "stream",
     "text": [
      "[[1 2]\n",
      " [3 4]\n",
      " [2 3]\n",
      " [6 7]]\n",
      "(4, 2)\n",
      "reshape [[1 2 3 4]\n",
      " [2 3 6 7]]\n",
      "ravel [1 2 3 4 2 3 6 7]\n",
      "[[1 2]\n",
      " [3 4]\n",
      " [2 3]\n",
      " [6 7]]\n"
     ]
    }
   ],
   "source": [
    "arr = np.array([[1, 2], [3, 4],[2,3],[6,7]])\n",
    "print(arr)\n",
    "print(arr.shape)\n",
    "print('reshape',arr.reshape(2,4))\n",
    "print('ravel',arr.ravel())\n",
    "print(arr) # original array is intact, only copies are returned by operations"
   ]
  },
  {
   "cell_type": "code",
   "execution_count": 21,
   "metadata": {
    "colab": {
     "base_uri": "https://localhost:8080/",
     "height": 52
    },
    "colab_type": "code",
    "id": "gx_Byy2gdhTE",
    "outputId": "0686f0f2-68c3-4381-8a89-efbac25ad93d"
   },
   "outputs": [
    {
     "name": "stdout",
     "output_type": "stream",
     "text": [
      "[[1 2 3 4]\n",
      " [2 3 6 7]]\n"
     ]
    }
   ],
   "source": [
    "arr = arr.reshape(2,4)\n",
    "print(arr)"
   ]
  },
  {
   "cell_type": "code",
   "execution_count": 22,
   "metadata": {
    "colab": {
     "base_uri": "https://localhost:8080/",
     "height": 121
    },
    "colab_type": "code",
    "id": "tKGD635D3o81",
    "outputId": "854e47d4-214a-4a86-d062-5e2c010dcab0"
   },
   "outputs": [
    {
     "name": "stdout",
     "output_type": "stream",
     "text": [
      "[[1 2 3 4]\n",
      " [2 3 6 7]]\n",
      "28\n",
      "[ 3  5  9 11] [10 18]\n"
     ]
    }
   ],
   "source": [
    "print(arr)\n",
    "print(arr.sum())\n",
    "print(arr.sum(axis=0),arr.sum(axis=1))"
   ]
  },
  {
   "cell_type": "code",
   "execution_count": 23,
   "metadata": {
    "colab": {
     "base_uri": "https://localhost:8080/",
     "height": 173
    },
    "colab_type": "code",
    "id": "ZTo1Vaay4X7S",
    "outputId": "58608826-1251-4f5d-e9a5-2dd4f0b8905f"
   },
   "outputs": [
    {
     "name": "stdout",
     "output_type": "stream",
     "text": [
      "a.sum(axis=None, dtype=None, out=None, keepdims=False, initial=0, where=True)\n",
      "\n",
      "    Return the sum of the array elements over the given axis.\n",
      "\n",
      "    Refer to `numpy.sum` for full documentation.\n",
      "\n",
      "    See Also\n",
      "    --------\n",
      "    numpy.sum : equivalent function\n"
     ]
    }
   ],
   "source": [
    "print(arr.sum.__doc__)"
   ]
  },
  {
   "cell_type": "code",
   "execution_count": 24,
   "metadata": {
    "colab": {
     "base_uri": "https://localhost:8080/",
     "height": 35
    },
    "colab_type": "code",
    "id": "t8RTYbaD5AZB",
    "outputId": "885238dc-9d1b-41d2-af86-abd79be0c85d"
   },
   "outputs": [
    {
     "name": "stdout",
     "output_type": "stream",
     "text": [
      "[ 3  5  9 11] [[ 3  5  9 11]]\n"
     ]
    }
   ],
   "source": [
    "print(arr.sum(axis=0),arr.sum(axis=0,keepdims=True))"
   ]
  },
  {
   "cell_type": "code",
   "execution_count": 25,
   "metadata": {
    "colab": {
     "base_uri": "https://localhost:8080/",
     "height": 121
    },
    "colab_type": "code",
    "id": "lO2vKI1a5UTN",
    "outputId": "a5a7e7f6-f80d-4d6c-d729-2bc335640549"
   },
   "outputs": [
    {
     "name": "stdout",
     "output_type": "stream",
     "text": [
      "[[1 2]\n",
      " [3 4]\n",
      " [2 3]\n",
      " [6 7]]\n",
      "arr[1:3,0] [4 3 7]\n",
      "3\n"
     ]
    }
   ],
   "source": [
    "#Slicing is same as lists\n",
    "arr = np.array([[1, 2], [3, 4],[2,3],[6,7]])\n",
    "print(arr)\n",
    "print(\"arr[1:3,0]\", arr[1:,1]) # arr[ slice dim1, slice dim2, ... ,slice dimn]\n",
    "print(arr[2,1])"
   ]
  },
  {
   "cell_type": "markdown",
   "metadata": {
    "colab_type": "text",
    "id": "umAxbIKsxrIB"
   },
   "source": [
    "# Write a Program to create array of 4 rows and 3 columns\n",
    "# Print all elements of rows atrting from 2 to 4 and columns 1st to 2rd.\n"
   ]
  },
  {
   "cell_type": "code",
   "execution_count": 26,
   "metadata": {
    "colab": {
     "base_uri": "https://localhost:8080/",
     "height": 104
    },
    "colab_type": "code",
    "id": "VsFejjxBdUug",
    "outputId": "0a4cf2e0-3efa-46c2-dd7c-4d159330bf4d"
   },
   "outputs": [
    {
     "name": "stdout",
     "output_type": "stream",
     "text": [
      "[[100 101 102]\n",
      " [103 104 105]\n",
      " [106 107 108]\n",
      " [109 110 111]]\n",
      "[110 111]\n"
     ]
    }
   ],
   "source": [
    "# Write a Program to create array of 4 rows and 3 columns\n",
    "# Print all elements of rows starting from 2 to 4 and columns 1st to 2rd.\n",
    "arr1 = np.arange(100,112)\n",
    "arr1 = arr1.reshape(4,3)\n",
    "print(arr1)\n",
    "print(arr1[3 , 1:3 ]) # --> 1,2\n",
    "# for rowno in range(4):\n",
    "#   for colno in range(3):\n",
    "#     print(\"rowno = \", rowno, \" colno= \", colno , \" elem = \", arr1[rowno,colno])\n",
    "\n"
   ]
  },
  {
   "cell_type": "code",
   "execution_count": 27,
   "metadata": {
    "colab": {
     "base_uri": "https://localhost:8080/",
     "height": 87
    },
    "colab_type": "code",
    "id": "uvrkBtgy5p9g",
    "outputId": "1c4429bc-ca18-4199-847a-6d11563f020a"
   },
   "outputs": [
    {
     "name": "stdout",
     "output_type": "stream",
     "text": [
      "(4, 2)\n",
      "[1 2]\n",
      "[3 4]\n",
      "[2 3]\n",
      "[6 7]\n"
     ]
    }
   ],
   "source": [
    "print(arr.shape)\n",
    "for row in arr:\n",
    "  print(row) # row is variable name"
   ]
  },
  {
   "cell_type": "code",
   "execution_count": 28,
   "metadata": {
    "colab": {
     "base_uri": "https://localhost:8080/",
     "height": 35
    },
    "colab_type": "code",
    "id": "E8Y_4L2_7F6e",
    "outputId": "7ccc2b6a-0c60-4648-a2cd-987b1d9aaab6"
   },
   "outputs": [
    {
     "data": {
      "text/plain": [
       "numpy.ndarray"
      ]
     },
     "execution_count": 28,
     "metadata": {},
     "output_type": "execute_result"
    }
   ],
   "source": [
    "type(arr)"
   ]
  },
  {
   "cell_type": "code",
   "execution_count": 29,
   "metadata": {
    "colab": {
     "base_uri": "https://localhost:8080/",
     "height": 156
    },
    "colab_type": "code",
    "id": "WjJadffH7h7E",
    "outputId": "e9d00bdd-ffb5-4937-e211-1487244f37f5"
   },
   "outputs": [
    {
     "name": "stdout",
     "output_type": "stream",
     "text": [
      "1\n",
      "2\n",
      "3\n",
      "4\n",
      "2\n",
      "3\n",
      "6\n",
      "7\n"
     ]
    }
   ],
   "source": [
    "for e in arr.flatten(): # arr.flat is iterator , \n",
    "                        # vs arr.flatten return a copy of flat arr\n",
    "  print(e)"
   ]
  },
  {
   "cell_type": "code",
   "execution_count": 30,
   "metadata": {
    "colab": {
     "base_uri": "https://localhost:8080/",
     "height": 260
    },
    "colab_type": "code",
    "id": "DQAVvYLJ7moY",
    "outputId": "0ece9993-853a-433d-c090-93d7554541ba"
   },
   "outputs": [
    {
     "name": "stdout",
     "output_type": "stream",
     "text": [
      "[[[1 2]\n",
      "  [3 4]]\n",
      "\n",
      " [[5 6]\n",
      "  [7 8]]]\n",
      "(2, 2, 2)\n",
      "1\n",
      "2\n",
      "3\n",
      "4\n",
      "5\n",
      "6\n",
      "7\n",
      "8\n"
     ]
    }
   ],
   "source": [
    "arr = np.array([[[1, 2], [3, 4]], [[5, 6], [7, 8]]])\n",
    "print(arr)\n",
    "print(arr.shape)\n",
    "for x in np.nditer(arr):\n",
    " print(x)# copy of array not created"
   ]
  },
  {
   "cell_type": "code",
   "execution_count": 233,
   "metadata": {
    "colab": {
     "base_uri": "https://localhost:8080/",
     "height": 156
    },
    "colab_type": "code",
    "id": "_kJNCTQCtf6k",
    "outputId": "873ce4be-a21b-4024-9c70-7879cdc774db"
   },
   "outputs": [
    {
     "name": "stdout",
     "output_type": "stream",
     "text": [
      "(0, 0, 0) 1\n",
      "(0, 0, 1) 2\n",
      "(0, 1, 0) 3\n",
      "(0, 1, 1) 4\n",
      "(1, 0, 0) 5\n",
      "(1, 0, 1) 6\n",
      "(1, 1, 0) 7\n",
      "(1, 1, 1) 8\n"
     ]
    }
   ],
   "source": [
    "arr = np.array([[[1, 2], [3, 4]], [[5, 6], [7, 8]]])\n",
    "for i, x in np.ndenumerate(arr):\n",
    " print(i, x) # iterates with index"
   ]
  },
  {
   "cell_type": "code",
   "execution_count": null,
   "metadata": {
    "colab": {
     "base_uri": "https://localhost:8080/",
     "height": 87
    },
    "colab_type": "code",
    "id": "NBOBme3oh4U2",
    "outputId": "95fc1880-21ef-490a-9e85-69ad4e914def"
   },
   "outputs": [
    {
     "name": "stdout",
     "output_type": "stream",
     "text": [
      "[[ True  True]\n",
      " [ True  True]\n",
      " [False False]\n",
      " [False False]]\n"
     ]
    }
   ],
   "source": [
    "arr = np.array([[1, 2], [3, 4], [5, 6], [7, 8]])\n",
    "mask = arr<5\n",
    "print(mask)"
   ]
  },
  {
   "cell_type": "code",
   "execution_count": null,
   "metadata": {
    "colab": {
     "base_uri": "https://localhost:8080/",
     "height": 52
    },
    "colab_type": "code",
    "id": "NJudCz0ebNIZ",
    "outputId": "dd0a1f7f-da4c-46e9-e5ad-29ef76bc47de"
   },
   "outputs": [
    {
     "name": "stdout",
     "output_type": "stream",
     "text": [
      "[2 4 6 8]\n",
      "[2 4 6 8]\n"
     ]
    }
   ],
   "source": [
    "arr = np.array([[1, 2], [3, 4], [5, 6], [7, 8]])\n",
    "print(arr[arr%2==0])\n",
    "mask = arr%2==0\n",
    "print(arr[mask])"
   ]
  },
  {
   "cell_type": "code",
   "execution_count": null,
   "metadata": {
    "colab": {
     "base_uri": "https://localhost:8080/",
     "height": 87
    },
    "colab_type": "code",
    "id": "46ov7VusjKco",
    "outputId": "f2dcc860-b82d-4cdc-db38-a84a30d504c2"
   },
   "outputs": [
    {
     "name": "stdout",
     "output_type": "stream",
     "text": [
      "[[ True False False]\n",
      " [ True  True  True]\n",
      " [False False  True]]\n",
      "31460\n"
     ]
    }
   ],
   "source": [
    "# WAP to create 3 by 3 matrix\n",
    "# select all elements which are divisible by 11\n",
    "# Print the sum of square of all the elements\n",
    "arr1 = np.array([[11,23,45],[55,77,88],[87,101,121]])\n",
    "mask = (arr1%11 == 0)\n",
    "print(mask)\n",
    "c = arr1[mask]**2\n",
    "c = arr1[(arr1%11 == 0)]**2\n",
    "print(sum(c))"
   ]
  },
  {
   "cell_type": "code",
   "execution_count": null,
   "metadata": {
    "colab": {},
    "colab_type": "code",
    "id": "tEopFP8U8kkF"
   },
   "outputs": [],
   "source": [
    "# Indexing based on conditions\n",
    "# Some problem solving based on numpy"
   ]
  },
  {
   "cell_type": "code",
   "execution_count": null,
   "metadata": {
    "colab": {
     "base_uri": "https://localhost:8080/",
     "height": 87
    },
    "colab_type": "code",
    "id": "y36FJ2rqltX_",
    "outputId": "09aa6e5d-fe31-4e6f-b95d-add243a61a8d"
   },
   "outputs": [
    {
     "name": "stdout",
     "output_type": "stream",
     "text": [
      "[ 0  1  2  3  4  5  6  7  8  9 10 11]\n",
      "[12 13 14 15 16 17 18 19 20 21 22 23]\n",
      "[  0  13  28  45  64  85 108 133 160 189 220 253]\n",
      "1298\n"
     ]
    }
   ],
   "source": [
    "# WAP to simulate a feed forward operation in a single neuron\n",
    "I = np.arange(12)\n",
    "W = np.arange(12,24)\n",
    "m = I*W\n",
    "\n",
    "print(I)\n",
    "print(W)\n",
    "print(m)\n",
    "X = sum(m)\n",
    "print(X)"
   ]
  },
  {
   "cell_type": "code",
   "execution_count": null,
   "metadata": {
    "colab": {
     "base_uri": "https://localhost:8080/",
     "height": 35
    },
    "colab_type": "code",
    "id": "WxZjduG0p7pY",
    "outputId": "461a5c85-9b85-4e7d-f865-b2ba31adf5e8"
   },
   "outputs": [
    {
     "name": "stdout",
     "output_type": "stream",
     "text": [
      "0.9999999997210531\n"
     ]
    }
   ],
   "source": [
    "import numpy as np\n",
    "# import math\n",
    "def neuron(I,W):\n",
    "    X=sum(I*W)\n",
    "    y = (1/(1+(np.exp(-X))))\n",
    "    return y\n",
    "I=np.array([1,1,2,3,4])\n",
    "W=np.array([2,2,2,2,2])\n",
    "output=neuron(I,W)\n",
    "print(output)\n"
   ]
  }
 ],
 "metadata": {
  "colab": {
   "collapsed_sections": [],
   "name": "Numpy_operations.ipynb",
   "provenance": []
  },
  "kernelspec": {
   "display_name": "Python 3",
   "language": "python",
   "name": "python3"
  },
  "language_info": {
   "codemirror_mode": {
    "name": "ipython",
    "version": 3
   },
   "file_extension": ".py",
   "mimetype": "text/x-python",
   "name": "python",
   "nbconvert_exporter": "python",
   "pygments_lexer": "ipython3",
   "version": "3.8.3"
  }
 },
 "nbformat": 4,
 "nbformat_minor": 1
}
