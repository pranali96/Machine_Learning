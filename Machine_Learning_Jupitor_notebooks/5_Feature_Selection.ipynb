{
 "cells": [
  {
   "cell_type": "code",
   "execution_count": 1,
   "metadata": {
    "colab": {
     "base_uri": "https://localhost:8080/",
     "height": 222
    },
    "colab_type": "code",
    "executionInfo": {
     "elapsed": 1294,
     "status": "ok",
     "timestamp": 1597660381378,
     "user": {
      "displayName": "shantanu pathak",
      "photoUrl": "https://lh3.googleusercontent.com/a-/AOh14Ghy-2EOK4l0U6WfTBQKzaSYykTqmkj2-3SuxRvtUg=s64",
      "userId": "10566305450164209704"
     },
     "user_tz": -330
    },
    "id": "nZG5-1K8ayBt",
    "outputId": "2184fc6d-4de0-4753-8c7b-660e98a53099"
   },
   "outputs": [
    {
     "data": {
      "text/html": [
       "<div>\n",
       "<style scoped>\n",
       "    .dataframe tbody tr th:only-of-type {\n",
       "        vertical-align: middle;\n",
       "    }\n",
       "\n",
       "    .dataframe tbody tr th {\n",
       "        vertical-align: top;\n",
       "    }\n",
       "\n",
       "    .dataframe thead th {\n",
       "        text-align: right;\n",
       "    }\n",
       "</style>\n",
       "<table border=\"1\" class=\"dataframe\">\n",
       "  <thead>\n",
       "    <tr style=\"text-align: right;\">\n",
       "      <th></th>\n",
       "      <th>V1</th>\n",
       "      <th>V3</th>\n",
       "      <th>V4</th>\n",
       "      <th>V8</th>\n",
       "      <th>V9</th>\n",
       "      <th>V10</th>\n",
       "      <th>V11</th>\n",
       "      <th>V12</th>\n",
       "      <th>V13</th>\n",
       "      <th>V14</th>\n",
       "      <th>...</th>\n",
       "      <th>V42</th>\n",
       "      <th>V43</th>\n",
       "      <th>V44</th>\n",
       "      <th>V50</th>\n",
       "      <th>V51</th>\n",
       "      <th>V54</th>\n",
       "      <th>V55</th>\n",
       "      <th>V56</th>\n",
       "      <th>V57</th>\n",
       "      <th>V58</th>\n",
       "    </tr>\n",
       "  </thead>\n",
       "  <tbody>\n",
       "    <tr>\n",
       "      <th>0</th>\n",
       "      <td>0.000000</td>\n",
       "      <td>0.708333</td>\n",
       "      <td>1.0</td>\n",
       "      <td>0.0</td>\n",
       "      <td>0.000000</td>\n",
       "      <td>0.723618</td>\n",
       "      <td>0.003953</td>\n",
       "      <td>0.244292</td>\n",
       "      <td>0.0</td>\n",
       "      <td>0.505051</td>\n",
       "      <td>...</td>\n",
       "      <td>0.0</td>\n",
       "      <td>0.637037</td>\n",
       "      <td>0.000000</td>\n",
       "      <td>1.0</td>\n",
       "      <td>0.75</td>\n",
       "      <td>0.0</td>\n",
       "      <td>0.035714</td>\n",
       "      <td>0.185185</td>\n",
       "      <td>0.97619</td>\n",
       "      <td>0.0</td>\n",
       "    </tr>\n",
       "    <tr>\n",
       "      <th>1</th>\n",
       "      <td>0.003367</td>\n",
       "      <td>0.791667</td>\n",
       "      <td>1.0</td>\n",
       "      <td>0.0</td>\n",
       "      <td>0.023256</td>\n",
       "      <td>0.798995</td>\n",
       "      <td>0.003953</td>\n",
       "      <td>0.365297</td>\n",
       "      <td>0.0</td>\n",
       "      <td>0.404040</td>\n",
       "      <td>...</td>\n",
       "      <td>0.0</td>\n",
       "      <td>0.685185</td>\n",
       "      <td>1.000000</td>\n",
       "      <td>1.0</td>\n",
       "      <td>0.00</td>\n",
       "      <td>0.0</td>\n",
       "      <td>0.035714</td>\n",
       "      <td>0.049383</td>\n",
       "      <td>0.97619</td>\n",
       "      <td>1.0</td>\n",
       "    </tr>\n",
       "    <tr>\n",
       "      <th>2</th>\n",
       "      <td>0.006734</td>\n",
       "      <td>0.791667</td>\n",
       "      <td>1.0</td>\n",
       "      <td>0.0</td>\n",
       "      <td>0.023256</td>\n",
       "      <td>0.597990</td>\n",
       "      <td>0.003953</td>\n",
       "      <td>0.235160</td>\n",
       "      <td>0.0</td>\n",
       "      <td>0.202020</td>\n",
       "      <td>...</td>\n",
       "      <td>0.0</td>\n",
       "      <td>0.555556</td>\n",
       "      <td>0.666667</td>\n",
       "      <td>1.0</td>\n",
       "      <td>1.00</td>\n",
       "      <td>0.0</td>\n",
       "      <td>0.035714</td>\n",
       "      <td>0.234568</td>\n",
       "      <td>0.97619</td>\n",
       "      <td>1.0</td>\n",
       "    </tr>\n",
       "    <tr>\n",
       "      <th>3</th>\n",
       "      <td>0.010101</td>\n",
       "      <td>0.166667</td>\n",
       "      <td>1.0</td>\n",
       "      <td>0.0</td>\n",
       "      <td>0.015504</td>\n",
       "      <td>0.648241</td>\n",
       "      <td>0.000000</td>\n",
       "      <td>0.283105</td>\n",
       "      <td>0.0</td>\n",
       "      <td>0.000000</td>\n",
       "      <td>...</td>\n",
       "      <td>0.0</td>\n",
       "      <td>0.618519</td>\n",
       "      <td>0.000000</td>\n",
       "      <td>1.0</td>\n",
       "      <td>0.00</td>\n",
       "      <td>0.0</td>\n",
       "      <td>0.035714</td>\n",
       "      <td>0.037037</td>\n",
       "      <td>0.97619</td>\n",
       "      <td>0.0</td>\n",
       "    </tr>\n",
       "    <tr>\n",
       "      <th>4</th>\n",
       "      <td>0.016835</td>\n",
       "      <td>0.250000</td>\n",
       "      <td>0.0</td>\n",
       "      <td>0.0</td>\n",
       "      <td>0.007752</td>\n",
       "      <td>0.648241</td>\n",
       "      <td>0.003953</td>\n",
       "      <td>0.178082</td>\n",
       "      <td>0.0</td>\n",
       "      <td>0.000000</td>\n",
       "      <td>...</td>\n",
       "      <td>0.0</td>\n",
       "      <td>0.148148</td>\n",
       "      <td>0.000000</td>\n",
       "      <td>1.0</td>\n",
       "      <td>0.00</td>\n",
       "      <td>0.0</td>\n",
       "      <td>0.035714</td>\n",
       "      <td>0.209877</td>\n",
       "      <td>0.97619</td>\n",
       "      <td>0.0</td>\n",
       "    </tr>\n",
       "  </tbody>\n",
       "</table>\n",
       "<p>5 rows × 46 columns</p>\n",
       "</div>"
      ],
      "text/plain": [
       "         V1        V3   V4   V8        V9       V10       V11       V12  V13  \\\n",
       "0  0.000000  0.708333  1.0  0.0  0.000000  0.723618  0.003953  0.244292  0.0   \n",
       "1  0.003367  0.791667  1.0  0.0  0.023256  0.798995  0.003953  0.365297  0.0   \n",
       "2  0.006734  0.791667  1.0  0.0  0.023256  0.597990  0.003953  0.235160  0.0   \n",
       "3  0.010101  0.166667  1.0  0.0  0.015504  0.648241  0.000000  0.283105  0.0   \n",
       "4  0.016835  0.250000  0.0  0.0  0.007752  0.648241  0.003953  0.178082  0.0   \n",
       "\n",
       "        V14  ...  V42       V43       V44  V50   V51  V54       V55       V56  \\\n",
       "0  0.505051  ...  0.0  0.637037  0.000000  1.0  0.75  0.0  0.035714  0.185185   \n",
       "1  0.404040  ...  0.0  0.685185  1.000000  1.0  0.00  0.0  0.035714  0.049383   \n",
       "2  0.202020  ...  0.0  0.555556  0.666667  1.0  1.00  0.0  0.035714  0.234568   \n",
       "3  0.000000  ...  0.0  0.618519  0.000000  1.0  0.00  0.0  0.035714  0.037037   \n",
       "4  0.000000  ...  0.0  0.148148  0.000000  1.0  0.00  0.0  0.035714  0.209877   \n",
       "\n",
       "       V57  V58  \n",
       "0  0.97619  0.0  \n",
       "1  0.97619  1.0  \n",
       "2  0.97619  1.0  \n",
       "3  0.97619  0.0  \n",
       "4  0.97619  0.0  \n",
       "\n",
       "[5 rows x 46 columns]"
      ]
     },
     "execution_count": 1,
     "metadata": {},
     "output_type": "execute_result"
    }
   ],
   "source": [
    "import pandas as pd\n",
    "df = pd.read_csv(\"cleaned_76hd.csv\")\n",
    "df.head()"
   ]
  },
  {
   "cell_type": "code",
   "execution_count": 2,
   "metadata": {
    "colab": {},
    "colab_type": "code",
    "id": "bJUJL79AayB3",
    "outputId": "9aa12a37-a11c-4e2c-d8b0-74191d7c2b02",
    "scrolled": true
   },
   "outputs": [
    {
     "data": {
      "text/html": [
       "<div>\n",
       "<style scoped>\n",
       "    .dataframe tbody tr th:only-of-type {\n",
       "        vertical-align: middle;\n",
       "    }\n",
       "\n",
       "    .dataframe tbody tr th {\n",
       "        vertical-align: top;\n",
       "    }\n",
       "\n",
       "    .dataframe thead th {\n",
       "        text-align: right;\n",
       "    }\n",
       "</style>\n",
       "<table border=\"1\" class=\"dataframe\">\n",
       "  <thead>\n",
       "    <tr style=\"text-align: right;\">\n",
       "      <th></th>\n",
       "      <th>V1</th>\n",
       "      <th>V3</th>\n",
       "      <th>V4</th>\n",
       "      <th>V8</th>\n",
       "      <th>V9</th>\n",
       "      <th>V10</th>\n",
       "      <th>V11</th>\n",
       "      <th>V12</th>\n",
       "      <th>V13</th>\n",
       "      <th>V14</th>\n",
       "      <th>...</th>\n",
       "      <th>V42</th>\n",
       "      <th>V43</th>\n",
       "      <th>V44</th>\n",
       "      <th>V50</th>\n",
       "      <th>V51</th>\n",
       "      <th>V54</th>\n",
       "      <th>V55</th>\n",
       "      <th>V56</th>\n",
       "      <th>V57</th>\n",
       "      <th>V58</th>\n",
       "    </tr>\n",
       "  </thead>\n",
       "  <tbody>\n",
       "    <tr>\n",
       "      <th>V1</th>\n",
       "      <td>1.000000</td>\n",
       "      <td>-0.010083</td>\n",
       "      <td>-0.093859</td>\n",
       "      <td>-0.063001</td>\n",
       "      <td>-0.077641</td>\n",
       "      <td>0.015701</td>\n",
       "      <td>-0.080009</td>\n",
       "      <td>-0.017834</td>\n",
       "      <td>-0.065309</td>\n",
       "      <td>-0.167396</td>\n",
       "      <td>...</td>\n",
       "      <td>-0.084147</td>\n",
       "      <td>-0.015049</td>\n",
       "      <td>0.047982</td>\n",
       "      <td>0.035679</td>\n",
       "      <td>-0.076337</td>\n",
       "      <td>-0.102214</td>\n",
       "      <td>0.029645</td>\n",
       "      <td>-0.046618</td>\n",
       "      <td>0.167018</td>\n",
       "      <td>-0.023810</td>\n",
       "    </tr>\n",
       "    <tr>\n",
       "      <th>V3</th>\n",
       "      <td>-0.010083</td>\n",
       "      <td>1.000000</td>\n",
       "      <td>-0.091125</td>\n",
       "      <td>0.036892</td>\n",
       "      <td>0.024249</td>\n",
       "      <td>0.208996</td>\n",
       "      <td>0.029618</td>\n",
       "      <td>0.210434</td>\n",
       "      <td>0.062247</td>\n",
       "      <td>-0.126901</td>\n",
       "      <td>...</td>\n",
       "      <td>-0.008327</td>\n",
       "      <td>0.070107</td>\n",
       "      <td>0.350576</td>\n",
       "      <td>0.068727</td>\n",
       "      <td>0.090986</td>\n",
       "      <td>0.041937</td>\n",
       "      <td>-0.085886</td>\n",
       "      <td>-0.053511</td>\n",
       "      <td>-0.022282</td>\n",
       "      <td>0.204405</td>\n",
       "    </tr>\n",
       "    <tr>\n",
       "      <th>V4</th>\n",
       "      <td>-0.093859</td>\n",
       "      <td>-0.091125</td>\n",
       "      <td>1.000000</td>\n",
       "      <td>0.041177</td>\n",
       "      <td>0.008215</td>\n",
       "      <td>-0.050778</td>\n",
       "      <td>0.023165</td>\n",
       "      <td>-0.200173</td>\n",
       "      <td>0.057196</td>\n",
       "      <td>0.323899</td>\n",
       "      <td>...</td>\n",
       "      <td>-0.019368</td>\n",
       "      <td>0.069551</td>\n",
       "      <td>0.079915</td>\n",
       "      <td>0.086426</td>\n",
       "      <td>0.377250</td>\n",
       "      <td>0.050891</td>\n",
       "      <td>-0.020349</td>\n",
       "      <td>0.055655</td>\n",
       "      <td>-0.023690</td>\n",
       "      <td>0.309349</td>\n",
       "    </tr>\n",
       "    <tr>\n",
       "      <th>V8</th>\n",
       "      <td>-0.063001</td>\n",
       "      <td>0.036892</td>\n",
       "      <td>0.041177</td>\n",
       "      <td>1.000000</td>\n",
       "      <td>0.606848</td>\n",
       "      <td>-0.347700</td>\n",
       "      <td>0.681665</td>\n",
       "      <td>-0.052773</td>\n",
       "      <td>0.552648</td>\n",
       "      <td>0.071758</td>\n",
       "      <td>...</td>\n",
       "      <td>-0.006099</td>\n",
       "      <td>-0.148042</td>\n",
       "      <td>-0.041687</td>\n",
       "      <td>0.003559</td>\n",
       "      <td>-0.050302</td>\n",
       "      <td>0.743810</td>\n",
       "      <td>-0.022760</td>\n",
       "      <td>0.029773</td>\n",
       "      <td>-0.491480</td>\n",
       "      <td>0.065434</td>\n",
       "    </tr>\n",
       "    <tr>\n",
       "      <th>V9</th>\n",
       "      <td>-0.077641</td>\n",
       "      <td>0.024249</td>\n",
       "      <td>0.008215</td>\n",
       "      <td>0.606848</td>\n",
       "      <td>1.000000</td>\n",
       "      <td>-0.604720</td>\n",
       "      <td>0.986245</td>\n",
       "      <td>-0.083575</td>\n",
       "      <td>0.842932</td>\n",
       "      <td>0.031397</td>\n",
       "      <td>...</td>\n",
       "      <td>0.644348</td>\n",
       "      <td>-0.258224</td>\n",
       "      <td>-0.055908</td>\n",
       "      <td>-0.500525</td>\n",
       "      <td>-0.067737</td>\n",
       "      <td>0.493118</td>\n",
       "      <td>0.208776</td>\n",
       "      <td>0.442083</td>\n",
       "      <td>-0.857524</td>\n",
       "      <td>0.144038</td>\n",
       "    </tr>\n",
       "  </tbody>\n",
       "</table>\n",
       "<p>5 rows × 46 columns</p>\n",
       "</div>"
      ],
      "text/plain": [
       "          V1        V3        V4        V8        V9       V10       V11  \\\n",
       "V1  1.000000 -0.010083 -0.093859 -0.063001 -0.077641  0.015701 -0.080009   \n",
       "V3 -0.010083  1.000000 -0.091125  0.036892  0.024249  0.208996  0.029618   \n",
       "V4 -0.093859 -0.091125  1.000000  0.041177  0.008215 -0.050778  0.023165   \n",
       "V8 -0.063001  0.036892  0.041177  1.000000  0.606848 -0.347700  0.681665   \n",
       "V9 -0.077641  0.024249  0.008215  0.606848  1.000000 -0.604720  0.986245   \n",
       "\n",
       "         V12       V13       V14  ...       V42       V43       V44       V50  \\\n",
       "V1 -0.017834 -0.065309 -0.167396  ... -0.084147 -0.015049  0.047982  0.035679   \n",
       "V3  0.210434  0.062247 -0.126901  ... -0.008327  0.070107  0.350576  0.068727   \n",
       "V4 -0.200173  0.057196  0.323899  ... -0.019368  0.069551  0.079915  0.086426   \n",
       "V8 -0.052773  0.552648  0.071758  ... -0.006099 -0.148042 -0.041687  0.003559   \n",
       "V9 -0.083575  0.842932  0.031397  ...  0.644348 -0.258224 -0.055908 -0.500525   \n",
       "\n",
       "         V51       V54       V55       V56       V57       V58  \n",
       "V1 -0.076337 -0.102214  0.029645 -0.046618  0.167018 -0.023810  \n",
       "V3  0.090986  0.041937 -0.085886 -0.053511 -0.022282  0.204405  \n",
       "V4  0.377250  0.050891 -0.020349  0.055655 -0.023690  0.309349  \n",
       "V8 -0.050302  0.743810 -0.022760  0.029773 -0.491480  0.065434  \n",
       "V9 -0.067737  0.493118  0.208776  0.442083 -0.857524  0.144038  \n",
       "\n",
       "[5 rows x 46 columns]"
      ]
     },
     "execution_count": 2,
     "metadata": {},
     "output_type": "execute_result"
    }
   ],
   "source": [
    "# Find the correlation between every pair of columns\n",
    "# Correlation: \n",
    "# +1 to -1\n",
    "# +1 highest positive correlation\n",
    "# -1 highest negative correlation\n",
    "# 0 there is no correlation or two variables are independent of each other\n",
    "df.corr().head() "
   ]
  },
  {
   "cell_type": "code",
   "execution_count": 3,
   "metadata": {
    "colab": {
     "base_uri": "https://localhost:8080/",
     "height": 292
    },
    "colab_type": "code",
    "executionInfo": {
     "elapsed": 1365,
     "status": "ok",
     "timestamp": 1597300644142,
     "user": {
      "displayName": "shantanu pathak",
      "photoUrl": "https://lh3.googleusercontent.com/a-/AOh14Ghy-2EOK4l0U6WfTBQKzaSYykTqmkj2-3SuxRvtUg=s64",
      "userId": "10566305450164209704"
     },
     "user_tz": -330
    },
    "id": "fq_MXPuGayB8",
    "outputId": "422edd64-2206-4f13-bdd0-3249d47571ae",
    "scrolled": true
   },
   "outputs": [
    {
     "data": {
      "image/png": "[encoded data removed]",
      "text/plain": [
       "<Figure size 288x288 with 1 Axes>"
      ]
     },
     "metadata": {
      "needs_background": "light"
     },
     "output_type": "display_data"
    },
    {
     "data": {
      "text/plain": [
       "<Figure size 720x432 with 0 Axes>"
      ]
     },
     "metadata": {},
     "output_type": "display_data"
    }
   ],
   "source": [
    "import matplotlib.pyplot as plt\n",
    "plt.matshow(df.corr())\n",
    "plt.figure(figsize=(10,6))\n",
    "plt.show()\n",
    "# df.corr()"
   ]
  },
  {
   "cell_type": "code",
   "execution_count": 8,
   "metadata": {
    "colab": {
     "base_uri": "https://localhost:8080/",
     "height": 52
    },
    "colab_type": "code",
    "executionInfo": {
     "elapsed": 1108,
     "status": "ok",
     "timestamp": 1597660620500,
     "user": {
      "displayName": "shantanu pathak",
      "photoUrl": "https://lh3.googleusercontent.com/a-/AOh14Ghy-2EOK4l0U6WfTBQKzaSYykTqmkj2-3SuxRvtUg=s64",
      "userId": "10566305450164209704"
     },
     "user_tz": -330
    },
    "id": "i5BZy1Wy5vVn",
    "outputId": "df406616-a562-43a0-ca77-5e87bfd6ccf2"
   },
   "outputs": [
    {
     "name": "stdout",
     "output_type": "stream",
     "text": [
      "Index(['V32', 'V38', 'V40', 'V44', 'V51'], dtype='object')\n"
     ]
    },
    {
     "data": {
      "text/plain": [
       "Index(['V32', 'V38', 'V40', 'V44', 'V51'], dtype='object')"
      ]
     },
     "execution_count": 8,
     "metadata": {},
     "output_type": "execute_result"
    }
   ],
   "source": [
    "# Print all thos columns which have \n",
    "#absolute correlation with target column (V58) > 0.4\n",
    "corr = df.corr()\n",
    "#abs => neglecting signs\n",
    "corr_target = abs(corr['V58'])\n",
    "print(df.columns[corr_target > 0.4][:-1])\n",
    "\n",
    "df.columns[abs(df.corr()['V58']) > 0.4][:-1]\n",
    " \n",
    "# how we chose 0.4 \n",
    "#abs(corr['V58']).sortValues()"
   ]
  },
  {
   "cell_type": "code",
   "execution_count": 13,
   "metadata": {},
   "outputs": [
    {
     "name": "stdout",
     "output_type": "stream",
     "text": [
      "Index(['V4', 'V32', 'V38', 'V40', 'V41', 'V44', 'V51'], dtype='object')\n"
     ]
    },
    {
     "data": {
      "text/plain": [
       "Index(['V4', 'V32', 'V38', 'V40', 'V41', 'V44', 'V51'], dtype='object')"
      ]
     },
     "execution_count": 13,
     "metadata": {},
     "output_type": "execute_result"
    }
   ],
   "source": [
    "# Print all thos columns which have \n",
    "#absolute correlation with target column (V58) > 0.4\n",
    "corr = df.corr()\n",
    "#abs => neglecting signs\n",
    "corr_target = abs(corr['V58'])\n",
    "print(df.columns[corr_target > 0.3][:-1])\n",
    "\n",
    "df.columns[abs(df.corr()['V58']) > 0.3][:-1]\n"
   ]
  },
  {
   "cell_type": "code",
   "execution_count": 14,
   "metadata": {
    "colab": {},
    "colab_type": "code",
    "id": "fTZWepl0ayCD",
    "outputId": "cb08ec1f-afec-4370-b6c6-dba40c68ca37",
    "scrolled": true
   },
   "outputs": [
    {
     "data": {
      "text/plain": [
       "Index(['V1', 'V3', 'V4', 'V8', 'V9', 'V10', 'V11', 'V12', 'V13', 'V14', 'V15',\n",
       "       'V16', 'V18', 'V19', 'V20', 'V21', 'V22', 'V23', 'V24', 'V25', 'V26',\n",
       "       'V27', 'V28', 'V29', 'V30', 'V31', 'V32', 'V33', 'V34', 'V35', 'V36',\n",
       "       'V37', 'V38', 'V39', 'V40', 'V41', 'V42', 'V43', 'V44', 'V50', 'V51',\n",
       "       'V54', 'V55', 'V56', 'V57', 'V58'],\n",
       "      dtype='object')"
      ]
     },
     "execution_count": 14,
     "metadata": {},
     "output_type": "execute_result"
    }
   ],
   "source": [
    "df.columns"
   ]
  },
  {
   "cell_type": "code",
   "execution_count": 15,
   "metadata": {
    "colab": {},
    "colab_type": "code",
    "id": "FAqUyqp9ayCJ",
    "outputId": "0f4c51ba-753e-4f20-b4ce-eabb71e47ad5"
   },
   "outputs": [
    {
     "data": {
      "text/plain": [
       "<matplotlib.axes._subplots.AxesSubplot at 0x243647a9250>"
      ]
     },
     "execution_count": 15,
     "metadata": {},
     "output_type": "execute_result"
    },
    {
     "data": {
      "image/png": "[encoded data removed]",
      "text/plain": [
       "<Figure size 432x288 with 1 Axes>"
      ]
     },
     "metadata": {
      "needs_background": "light"
     },
     "output_type": "display_data"
    }
   ],
   "source": [
    "#Boxplot\n",
    "# these are used to find the outlier / extreme values in each column\n",
    "df[['V9','V10','V11']].boxplot()"
   ]
  },
  {
   "cell_type": "code",
   "execution_count": 16,
   "metadata": {
    "colab": {},
    "colab_type": "code",
    "id": "hZqNAWtbayCP",
    "outputId": "785f05ad-f6a0-413f-d4c5-028cf7ba20ae"
   },
   "outputs": [
    {
     "data": {
      "text/plain": [
       "<matplotlib.axes._subplots.AxesSubplot at 0x24364fa0580>"
      ]
     },
     "execution_count": 16,
     "metadata": {},
     "output_type": "execute_result"
    },
    {
     "data": {
      "image/png": "[encoded data removed]",
      "text/plain": [
       "<Figure size 432x288 with 1 Axes>"
      ]
     },
     "metadata": {
      "needs_background": "light"
     },
     "output_type": "display_data"
    }
   ],
   "source": [
    "# Scatter plt\n",
    "# it is used to find correlation between two variables\n",
    "df.plot.scatter(x='V1',y='V3')"
   ]
  },
  {
   "cell_type": "code",
   "execution_count": 17,
   "metadata": {
    "colab": {},
    "colab_type": "code",
    "id": "KjsTooKtayCU",
    "outputId": "a273a7aa-7593-4c82-f287-596e6625a877"
   },
   "outputs": [
    {
     "data": {
      "text/plain": [
       "<matplotlib.axes._subplots.AxesSubplot at 0x24365018940>"
      ]
     },
     "execution_count": 17,
     "metadata": {},
     "output_type": "execute_result"
    },
    {
     "data": {
      "image/png": "[encoded data removed]",
      "text/plain": [
       "<Figure size 432x288 with 1 Axes>"
      ]
     },
     "metadata": {
      "needs_background": "light"
     },
     "output_type": "display_data"
    }
   ],
   "source": [
    "df.plot.scatter(x='V9',y='V10')"
   ]
  },
  {
   "cell_type": "code",
   "execution_count": 18,
   "metadata": {
    "colab": {},
    "colab_type": "code",
    "id": "VmHKdYddayCa",
    "outputId": "e957a20e-5b0c-4328-ec29-83a627b318e9"
   },
   "outputs": [
    {
     "data": {
      "text/plain": [
       "<matplotlib.axes._subplots.AxesSubplot at 0x2436505aa00>"
      ]
     },
     "execution_count": 18,
     "metadata": {},
     "output_type": "execute_result"
    },
    {
     "data": {
      "image/png": "[encoded data removed]",
      "text/plain": [
       "<Figure size 432x288 with 1 Axes>"
      ]
     },
     "metadata": {
      "needs_background": "light"
     },
     "output_type": "display_data"
    }
   ],
   "source": [
    "df.plot.scatter(x='V10',y='V11')"
   ]
  },
  {
   "cell_type": "code",
   "execution_count": 19,
   "metadata": {
    "colab": {},
    "colab_type": "code",
    "id": "G-x6c5VtayCh",
    "outputId": "603e179f-2ac8-42e2-a7fc-a3fe913e1a1a"
   },
   "outputs": [
    {
     "data": {
      "text/plain": [
       "<matplotlib.axes._subplots.AxesSubplot at 0x243650ac790>"
      ]
     },
     "execution_count": 19,
     "metadata": {},
     "output_type": "execute_result"
    },
    {
     "data": {
      "image/png": "[encoded data removed]",
      "text/plain": [
       "<Figure size 432x288 with 1 Axes>"
      ]
     },
     "metadata": {
      "needs_background": "light"
     },
     "output_type": "display_data"
    }
   ],
   "source": [
    "# Histogram\n",
    "# TO check the distribution of data\n",
    "# normally distributed data\n",
    "df['V43'].hist()"
   ]
  },
  {
   "cell_type": "code",
   "execution_count": 20,
   "metadata": {},
   "outputs": [
    {
     "data": {
      "text/plain": [
       "array([[<matplotlib.axes._subplots.AxesSubplot object at 0x0000024365131A00>,\n",
       "        <matplotlib.axes._subplots.AxesSubplot object at 0x000002436506DA00>,\n",
       "        <matplotlib.axes._subplots.AxesSubplot object at 0x0000024365131760>],\n",
       "       [<matplotlib.axes._subplots.AxesSubplot object at 0x00000243651AD190>,\n",
       "        <matplotlib.axes._subplots.AxesSubplot object at 0x00000243651DA5E0>,\n",
       "        <matplotlib.axes._subplots.AxesSubplot object at 0x0000024365208970>],\n",
       "       [<matplotlib.axes._subplots.AxesSubplot object at 0x0000024365208A60>,\n",
       "        <matplotlib.axes._subplots.AxesSubplot object at 0x000002436526E3A0>,\n",
       "        <matplotlib.axes._subplots.AxesSubplot object at 0x000002436528F8B0>]],\n",
       "      dtype=object)"
      ]
     },
     "execution_count": 20,
     "metadata": {},
     "output_type": "execute_result"
    },
    {
     "data": {
      "image/png": "[encoded data removed]",
      "text/plain": [
       "<Figure size 432x288 with 9 Axes>"
      ]
     },
     "metadata": {
      "needs_background": "light"
     },
     "output_type": "display_data"
    }
   ],
   "source": [
    "#['V4', 'V32', 'V38', 'V40', 'V41', 'V44', 'V51'\n",
    "df[['V4','V32', 'V38', 'V40', 'V41', 'V44', 'V51']].hist()\n"
   ]
  },
  {
   "cell_type": "code",
   "execution_count": 21,
   "metadata": {
    "colab": {},
    "colab_type": "code",
    "id": "1QIE7zjEayCl",
    "outputId": "f999f777-e9e3-4489-8e4a-0ebb6243ee89"
   },
   "outputs": [
    {
     "data": {
      "text/plain": [
       "<matplotlib.axes._subplots.AxesSubplot at 0x2436541f760>"
      ]
     },
     "execution_count": 21,
     "metadata": {},
     "output_type": "execute_result"
    },
    {
     "data": {
      "image/png": "[encoded data removed]",
      "text/plain": [
       "<Figure size 432x288 with 1 Axes>"
      ]
     },
     "metadata": {
      "needs_background": "light"
     },
     "output_type": "display_data"
    }
   ],
   "source": [
    "df['V30'].hist()"
   ]
  },
  {
   "cell_type": "code",
   "execution_count": 22,
   "metadata": {
    "colab": {},
    "colab_type": "code",
    "id": "YJgIA-SWayCp",
    "outputId": "65a67fe3-3e86-420b-f13c-7904899ba1ae"
   },
   "outputs": [
    {
     "data": {
      "text/plain": [
       "<matplotlib.axes._subplots.AxesSubplot at 0x24365462ac0>"
      ]
     },
     "execution_count": 22,
     "metadata": {},
     "output_type": "execute_result"
    },
    {
     "data": {
      "image/png": "[encoded data removed]",
      "text/plain": [
       "<Figure size 432x288 with 1 Axes>"
      ]
     },
     "metadata": {
      "needs_background": "light"
     },
     "output_type": "display_data"
    }
   ],
   "source": [
    "df.plot.scatter(x='V22',y='V58')"
   ]
  },
  {
   "cell_type": "code",
   "execution_count": 23,
   "metadata": {
    "colab": {},
    "colab_type": "code",
    "id": "lI_V49GPayCu",
    "outputId": "bef01ed5-c6ca-48e8-e088-7c52002da525"
   },
   "outputs": [
    {
     "data": {
      "text/plain": [
       "<matplotlib.axes._subplots.AxesSubplot at 0x243654ae070>"
      ]
     },
     "execution_count": 23,
     "metadata": {},
     "output_type": "execute_result"
    },
    {
     "data": {
      "image/png": "[encoded data removed]",
      "text/plain": [
       "<Figure size 432x288 with 1 Axes>"
      ]
     },
     "metadata": {
      "needs_background": "light"
     },
     "output_type": "display_data"
    }
   ],
   "source": [
    "df.plot.scatter(x='V56',y='V57')"
   ]
  },
  {
   "cell_type": "code",
   "execution_count": null,
   "metadata": {
    "colab": {},
    "colab_type": "code",
    "id": "rRA0kCBhayCz",
    "outputId": "ca57d031-b00a-4b7c-b209-3f0cd7104e8a"
   },
   "outputs": [
    {
     "name": "stdout",
     "output_type": "stream",
     "text": [
      "V1     0.020331\n",
      "V3     0.204405\n",
      "V4     0.309349\n",
      "V8     0.065434\n",
      "V9     0.144038\n",
      "V10    0.039983\n",
      "V11    0.112136\n",
      "V12    0.099745\n",
      "V13    0.090890\n",
      "V14    0.085525\n",
      "V15    0.088660\n",
      "V16    0.001277\n",
      "V18    0.071976\n",
      "V19    0.183453\n",
      "V20    0.052685\n",
      "V21    0.007952\n",
      "V22    0.119330\n",
      "V23    0.165533\n",
      "V24    0.110801\n",
      "V25    0.143824\n",
      "V26    0.064526\n",
      "V27    0.019151\n",
      "V28    0.113564\n",
      "V29    0.247064\n",
      "V30    0.260546\n",
      "V31    0.066130\n",
      "V32    0.410762\n",
      "V33    0.062453\n",
      "V34    0.139876\n",
      "V35    0.089957\n",
      "V36    0.102718\n",
      "V37    0.015849\n",
      "V38    0.406703\n",
      "V39    0.163591\n",
      "V40    0.424634\n",
      "V41    0.320719\n",
      "V42    0.112146\n",
      "V43    0.045519\n",
      "V44    0.450304\n",
      "V50    0.065434\n",
      "V51    0.503341\n",
      "V54    0.097688\n",
      "V55    0.074246\n",
      "V56    0.055929\n",
      "V57    0.136242\n",
      "V58    1.000000\n",
      "Name: V58, dtype: float64\n"
     ]
    }
   ],
   "source": [
    "cor = df.corr()\n",
    "#Correlation with output variable\n",
    "cor_target = abs(cor[\"V58\"])\n",
    "print(cor_target)"
   ]
  },
  {
   "cell_type": "code",
   "execution_count": null,
   "metadata": {
    "colab": {},
    "colab_type": "code",
    "id": "tORrVmyyayC3",
    "outputId": "53786e10-67d1-41f4-b346-0ea07ff18493"
   },
   "outputs": [
    {
     "data": {
      "text/plain": [
       "V3     0.204405\n",
       "V4     0.309349\n",
       "V29    0.247064\n",
       "V30    0.260546\n",
       "V32    0.410762\n",
       "V38    0.406703\n",
       "V40    0.424634\n",
       "V41    0.320719\n",
       "V44    0.450304\n",
       "V51    0.503341\n",
       "V58    1.000000\n",
       "Name: V58, dtype: float64"
      ]
     },
     "execution_count": 19,
     "metadata": {
      "tags": []
     },
     "output_type": "execute_result"
    }
   ],
   "source": [
    "#Selecting highly correlated features\n",
    "relevant_features = cor_target[cor_target>0.2]\n",
    "relevant_features"
   ]
  },
  {
   "cell_type": "code",
   "execution_count": null,
   "metadata": {
    "colab": {},
    "colab_type": "code",
    "id": "L-nR_WlxayC7"
   },
   "outputs": [],
   "source": [
    "# Separate Input features X and Class variable Y\n",
    "X = df.iloc[:,:-1]\n",
    "Y = df.iloc[:,-1]"
   ]
  },
  {
   "cell_type": "code",
   "execution_count": 23,
   "metadata": {
    "colab": {},
    "colab_type": "code",
    "executionInfo": {
     "elapsed": 1546,
     "status": "ok",
     "timestamp": 1597669335577,
     "user": {
      "displayName": "shantanu pathak",
      "photoUrl": "https://lh3.googleusercontent.com/a-/AOh14Ghy-2EOK4l0U6WfTBQKzaSYykTqmkj2-3SuxRvtUg=s64",
      "userId": "10566305450164209704"
     },
     "user_tz": -330
    },
    "id": "Z8pnhsknayC_"
   },
   "outputs": [],
   "source": [
    "from sklearn.model_selection import train_test_split\n",
    "# Split Training and Testing Data\n",
    "X_train,X_test,Y_train,Y_test = train_test_split(X,Y,test_size = 0.25, random_state=1)"
   ]
  },
  {
   "cell_type": "code",
   "execution_count": 24,
   "metadata": {
    "colab": {
     "base_uri": "https://localhost:8080/",
     "height": 468
    },
    "colab_type": "code",
    "executionInfo": {
     "elapsed": 1418,
     "status": "ok",
     "timestamp": 1597669339732,
     "user": {
      "displayName": "shantanu pathak",
      "photoUrl": "https://lh3.googleusercontent.com/a-/AOh14Ghy-2EOK4l0U6WfTBQKzaSYykTqmkj2-3SuxRvtUg=s64",
      "userId": "10566305450164209704"
     },
     "user_tz": -330
    },
    "id": "FUjTr-MrayDE",
    "outputId": "ba66b2f0-dbe4-470d-ea74-097a6f4b458f"
   },
   "outputs": [
    {
     "name": "stdout",
     "output_type": "stream",
     "text": [
      "(211, 21)\n"
     ]
    },
    {
     "data": {
      "text/plain": [
       "array([[-0.91097359,  0.41429698, -0.39635717,  0.15205053, -0.22201778,\n",
       "         0.03916557,  0.13171279, -0.10048158, -0.27036022, -0.07539364,\n",
       "        -0.1984106 ,  0.04350049,  0.19806877, -0.30644461, -0.35637445,\n",
       "        -0.09330851,  0.08689634,  0.14540468,  0.10981325,  0.15293385,\n",
       "        -0.05406917],\n",
       "       [-0.6648444 , -0.61297324,  0.24325392, -0.2569509 ,  0.28162555,\n",
       "        -0.55755795, -0.29101774,  0.56980522,  0.6522183 ,  0.22501934,\n",
       "        -0.41280988,  0.3626176 , -0.51766723, -0.1997082 ,  0.00564332,\n",
       "        -0.46384919, -0.02268064, -0.08692214,  0.0295154 ,  0.05050875,\n",
       "         0.01171918],\n",
       "       [ 0.30811971,  0.05479825, -0.49765676, -0.34555092,  0.76809046,\n",
       "        -0.05585473,  0.62069928,  0.09148509,  0.13694984, -0.11110066,\n",
       "        -0.06690613, -0.24052988,  0.17415659, -0.14403592,  0.43146299,\n",
       "         0.23067176,  0.64130381, -0.02985563, -0.20901871, -0.00466421,\n",
       "         0.09591965],\n",
       "       [-0.91016315, -0.13592486,  0.11564033,  0.61658445, -0.09445695,\n",
       "        -0.20000911, -0.03239463, -0.48973791, -0.05114856,  0.12077716,\n",
       "         0.01205755, -0.15521219, -0.12777721,  0.27437338,  0.21134437,\n",
       "        -0.21169689,  0.26277769,  0.21707479, -0.12071527, -0.14324272,\n",
       "         0.19119761],\n",
       "       [-0.29491046,  0.72300513, -0.07497529,  0.77350482, -0.44644751,\n",
       "         0.65847424, -0.5823003 ,  0.3596254 ,  0.97835685,  0.03354881,\n",
       "        -0.00843699,  0.36696877,  0.53697572, -0.27891776, -0.07431967,\n",
       "        -0.12979418,  0.06547368, -0.10629114,  0.81562756, -0.10801897,\n",
       "         0.5871563 ]])"
      ]
     },
     "execution_count": 24,
     "metadata": {
      "tags": []
     },
     "output_type": "execute_result"
    }
   ],
   "source": [
    "from sklearn.decomposition import PCA# Make an instance of the Model\n",
    "# Principle COmponent Analysis\n",
    "pca = PCA(0.95)\n",
    "pca.fit(X_train)\n",
    "X_train = pca.transform(X_train)\n",
    "X_test = pca.transform(X_test)\n",
    "print(X_train.shape)\n",
    "X_train[:5]"
   ]
  },
  {
   "cell_type": "code",
   "execution_count": 25,
   "metadata": {
    "colab": {
     "base_uri": "https://localhost:8080/",
     "height": 468
    },
    "colab_type": "code",
    "executionInfo": {
     "elapsed": 1247,
     "status": "ok",
     "timestamp": 1597669348830,
     "user": {
      "displayName": "shantanu pathak",
      "photoUrl": "https://lh3.googleusercontent.com/a-/AOh14Ghy-2EOK4l0U6WfTBQKzaSYykTqmkj2-3SuxRvtUg=s64",
      "userId": "10566305450164209704"
     },
     "user_tz": -330
    },
    "id": "7b6bbKezgp-E",
    "outputId": "84641aac-4f0a-40ce-c872-66de0bc57509"
   },
   "outputs": [
    {
     "name": "stdout",
     "output_type": "stream",
     "text": [
      "(211, 21)\n"
     ]
    },
    {
     "data": {
      "text/plain": [
       "array([[-0.91097359,  0.41429698, -0.39635717,  0.15205053, -0.22201778,\n",
       "         0.03916557,  0.13171279, -0.10048158, -0.27036022, -0.07539364,\n",
       "        -0.1984106 ,  0.04350049,  0.19806877, -0.30644461, -0.35637445,\n",
       "        -0.09330851,  0.08689634,  0.14540468,  0.10981325,  0.15293385,\n",
       "        -0.05406917],\n",
       "       [-0.6648444 , -0.61297324,  0.24325392, -0.2569509 ,  0.28162555,\n",
       "        -0.55755795, -0.29101774,  0.56980522,  0.6522183 ,  0.22501934,\n",
       "        -0.41280988,  0.3626176 , -0.51766723, -0.1997082 ,  0.00564332,\n",
       "        -0.46384919, -0.02268064, -0.08692214,  0.0295154 ,  0.05050875,\n",
       "         0.01171918],\n",
       "       [ 0.30811971,  0.05479825, -0.49765676, -0.34555092,  0.76809046,\n",
       "        -0.05585473,  0.62069928,  0.09148509,  0.13694984, -0.11110066,\n",
       "        -0.06690613, -0.24052988,  0.17415659, -0.14403592,  0.43146299,\n",
       "         0.23067176,  0.64130381, -0.02985563, -0.20901871, -0.00466421,\n",
       "         0.09591965],\n",
       "       [-0.91016315, -0.13592486,  0.11564033,  0.61658445, -0.09445695,\n",
       "        -0.20000911, -0.03239463, -0.48973791, -0.05114856,  0.12077716,\n",
       "         0.01205755, -0.15521219, -0.12777721,  0.27437338,  0.21134437,\n",
       "        -0.21169689,  0.26277769,  0.21707479, -0.12071527, -0.14324272,\n",
       "         0.19119761],\n",
       "       [-0.29491046,  0.72300513, -0.07497529,  0.77350482, -0.44644751,\n",
       "         0.65847424, -0.5823003 ,  0.3596254 ,  0.97835685,  0.03354881,\n",
       "        -0.00843699,  0.36696877,  0.53697572, -0.27891776, -0.07431967,\n",
       "        -0.12979418,  0.06547368, -0.10629114,  0.81562756, -0.10801897,\n",
       "         0.5871563 ]])"
      ]
     },
     "execution_count": 25,
     "metadata": {
      "tags": []
     },
     "output_type": "execute_result"
    }
   ],
   "source": [
    "pca = PCA()\n",
    "pca.fit(X_train)\n",
    "X_train = pca.transform(X_train)\n",
    "X_test = pca.transform(X_test)\n",
    "print(X_train.shape)\n",
    "X_train[:5]"
   ]
  },
  {
   "cell_type": "code",
   "execution_count": null,
   "metadata": {
    "colab": {},
    "colab_type": "code",
    "id": "frJ6JSG0ayDH"
   },
   "outputs": [],
   "source": [
    "\"\"\"\n",
    "\n",
    "RFE  reccursive feature elimination\n",
    "\n",
    "Lasso and Ridge regression\n",
    "\"\"\""
   ]
  },
  {
   "cell_type": "code",
   "execution_count": 8,
   "metadata": {
    "colab": {},
    "colab_type": "code",
    "executionInfo": {
     "elapsed": 1296,
     "status": "ok",
     "timestamp": 1597663391769,
     "user": {
      "displayName": "shantanu pathak",
      "photoUrl": "https://lh3.googleusercontent.com/a-/AOh14Ghy-2EOK4l0U6WfTBQKzaSYykTqmkj2-3SuxRvtUg=s64",
      "userId": "10566305450164209704"
     },
     "user_tz": -330
    },
    "id": "UHAkwkkGJ9xQ"
   },
   "outputs": [],
   "source": [
    "# Separate Input features X and Class variable Y\n",
    "X = df.iloc[:,:-1]\n",
    "Y = df.iloc[:,-1]"
   ]
  },
  {
   "cell_type": "code",
   "execution_count": 9,
   "metadata": {
    "colab": {},
    "colab_type": "code",
    "executionInfo": {
     "elapsed": 1296,
     "status": "ok",
     "timestamp": 1597663396035,
     "user": {
      "displayName": "shantanu pathak",
      "photoUrl": "https://lh3.googleusercontent.com/a-/AOh14Ghy-2EOK4l0U6WfTBQKzaSYykTqmkj2-3SuxRvtUg=s64",
      "userId": "10566305450164209704"
     },
     "user_tz": -330
    },
    "id": "in7QHnhpJyoa"
   },
   "outputs": [],
   "source": [
    "from sklearn.model_selection import train_test_split\n",
    "X_train, X_test, y_train, y_test = train_test_split(X, Y, \\\n",
    "                                                    test_size=0.30, random_state=7)"
   ]
  },
  {
   "cell_type": "code",
   "execution_count": 13,
   "metadata": {
    "colab": {
     "base_uri": "https://localhost:8080/",
     "height": 173
    },
    "colab_type": "code",
    "executionInfo": {
     "elapsed": 1454,
     "status": "ok",
     "timestamp": 1597663429744,
     "user": {
      "displayName": "shantanu pathak",
      "photoUrl": "https://lh3.googleusercontent.com/a-/AOh14Ghy-2EOK4l0U6WfTBQKzaSYykTqmkj2-3SuxRvtUg=s64",
      "userId": "10566305450164209704"
     },
     "user_tz": -330
    },
    "id": "yNxDadakGGK_",
    "outputId": "44804332-11e3-42a6-9d76-e90a84380985"
   },
   "outputs": [
    {
     "data": {
      "text/plain": [
       "array([ 0.        ,  0.        ,  0.11471685,  0.        ,  0.        ,\n",
       "       -0.        ,  0.        ,  0.        ,  0.        , -0.        ,\n",
       "       -0.        , -0.        ,  0.01867757,  0.        ,  0.        ,\n",
       "       -0.        , -0.        , -0.03050369,  0.        ,  0.        ,\n",
       "       -0.03992707, -0.        ,  0.        , -0.        ,  0.18848076,\n",
       "        0.        , -0.35195254,  0.        , -0.        ,  0.        ,\n",
       "        0.        , -0.        ,  0.16366952,  0.        ,  0.01080626,\n",
       "        0.04432361,  0.        , -0.        ,  0.41776737, -0.        ,\n",
       "        0.23035083,  0.        ,  0.        , -0.        , -0.09517614])"
      ]
     },
     "execution_count": 13,
     "metadata": {
      "tags": []
     },
     "output_type": "execute_result"
    }
   ],
   "source": [
    "# LASSO (L1)\n",
    "#\"Least Absolute Shrinkage and Selection Operator\"\n",
    "from sklearn.linear_model import Lasso\n",
    "lasso = Lasso(alpha=.01)\n",
    "lasso.fit(X_train, y_train)\n",
    "lasso.coef_"
   ]
  },
  {
   "cell_type": "code",
   "execution_count": 18,
   "metadata": {
    "colab": {
     "base_uri": "https://localhost:8080/",
     "height": 225
    },
    "colab_type": "code",
    "executionInfo": {
     "elapsed": 1308,
     "status": "ok",
     "timestamp": 1597666372629,
     "user": {
      "displayName": "shantanu pathak",
      "photoUrl": "https://lh3.googleusercontent.com/a-/AOh14Ghy-2EOK4l0U6WfTBQKzaSYykTqmkj2-3SuxRvtUg=s64",
      "userId": "10566305450164209704"
     },
     "user_tz": -330
    },
    "id": "VX6OEc8vIeFA",
    "outputId": "9363a21e-eb44-4c11-91fe-d3be6bca72cd"
   },
   "outputs": [
    {
     "data": {
      "text/plain": [
       "array([-1.76566554e-05,  4.66893489e-03,  1.42341207e-02,  5.39116272e-04,\n",
       "        1.80410583e-03,  1.05237600e-04,  1.34633765e-03,  1.08260759e-03,\n",
       "        8.99309253e-04,  5.10211204e-04,  1.17744635e-03,  7.44967705e-04,\n",
       "        2.19539394e-03,  1.95941354e-03,  2.33557231e-04, -1.16682447e-03,\n",
       "       -1.63000647e-03, -3.11052696e-03,  6.44764175e-03,  5.72378340e-03,\n",
       "       -2.44527484e-03, -7.69879252e-05,  1.54740896e-03, -4.49160069e-03,\n",
       "        7.01891454e-03,  1.02021123e-03, -7.42037350e-03, -6.04498034e-04,\n",
       "       -1.95149587e-03,  1.33901327e-03,  1.31317139e-03, -1.03598738e-03,\n",
       "        1.53544570e-02,  2.20015137e-03,  6.58726724e-03,  8.04340087e-03,\n",
       "        1.34303201e-03,  1.01357313e-03,  1.29627140e-02, -5.58446252e-04,\n",
       "        2.05539583e-02,  1.09496555e-03,  6.04872949e-04, -2.73712734e-04,\n",
       "       -2.17715773e-03])"
      ]
     },
     "execution_count": 18,
     "metadata": {
      "tags": []
     },
     "output_type": "execute_result"
    }
   ],
   "source": [
    "# Ridge (L2)\n",
    "# Penalty is Sum of squares of coefficient\n",
    "from sklearn.linear_model import Ridge\n",
    "ridge = Ridge(alpha=1000)\n",
    "ridge.fit(X_train,y_train)\n",
    "ridge.coef_"
   ]
  },
  {
   "cell_type": "code",
   "execution_count": null,
   "metadata": {
    "colab": {},
    "colab_type": "code",
    "id": "ZqkKOZHWVQEH"
   },
   "outputs": [],
   "source": []
  }
 ],
 "metadata": {
  "colab": {
   "collapsed_sections": [],
   "name": "Feature_Selection.ipynb",
   "provenance": []
  },
  "kernelspec": {
   "display_name": "Python 3",
   "language": "python",
   "name": "python3"
  },
  "language_info": {
   "codemirror_mode": {
    "name": "ipython",
    "version": 3
   },
   "file_extension": ".py",
   "mimetype": "text/x-python",
   "name": "python",
   "nbconvert_exporter": "python",
   "pygments_lexer": "ipython3",
   "version": "3.8.3"
  }
 },
 "nbformat": 4,
 "nbformat_minor": 1
}
